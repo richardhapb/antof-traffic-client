{
 "cells": [
  {
   "cell_type": "code",
   "execution_count": 615,
   "metadata": {},
   "outputs": [],
   "source": [
    "import utils\n",
    "import pandas as pd\n",
    "import numpy as np\n",
    "\n",
    "alerts, jams = utils.load_data()"
   ]
  },
  {
   "cell_type": "code",
   "execution_count": 616,
   "metadata": {},
   "outputs": [
    {
     "data": {
      "text/plain": [
       "(8567, 16)"
      ]
     },
     "execution_count": 616,
     "metadata": {},
     "output_type": "execute_result"
    }
   ],
   "source": [
    "alerts.shape"
   ]
  },
  {
   "cell_type": "code",
   "execution_count": 617,
   "metadata": {},
   "outputs": [
    {
     "data": {
      "text/html": [
       "<div>\n",
       "<style scoped>\n",
       "    .dataframe tbody tr th:only-of-type {\n",
       "        vertical-align: middle;\n",
       "    }\n",
       "\n",
       "    .dataframe tbody tr th {\n",
       "        vertical-align: top;\n",
       "    }\n",
       "\n",
       "    .dataframe thead th {\n",
       "        text-align: right;\n",
       "    }\n",
       "</style>\n",
       "<table border=\"1\" class=\"dataframe\">\n",
       "  <thead>\n",
       "    <tr style=\"text-align: right;\">\n",
       "      <th></th>\n",
       "      <th>country</th>\n",
       "      <th>city</th>\n",
       "      <th>reportRating</th>\n",
       "      <th>reportByMunicipalityUser</th>\n",
       "      <th>confidence</th>\n",
       "      <th>reliability</th>\n",
       "      <th>type</th>\n",
       "      <th>uuid</th>\n",
       "      <th>roadType</th>\n",
       "      <th>magvar</th>\n",
       "      <th>subtype</th>\n",
       "      <th>street</th>\n",
       "      <th>location</th>\n",
       "      <th>pubMillis</th>\n",
       "      <th>endreport</th>\n",
       "      <th>reportDescription</th>\n",
       "    </tr>\n",
       "  </thead>\n",
       "  <tbody>\n",
       "    <tr>\n",
       "      <th>0</th>\n",
       "      <td>CI</td>\n",
       "      <td>Antofagasta</td>\n",
       "      <td>1</td>\n",
       "      <td>false</td>\n",
       "      <td>5</td>\n",
       "      <td>10</td>\n",
       "      <td>HAZARD</td>\n",
       "      <td>a123f22e-e5e0-4c6c-8a4e-7434c4fd2110</td>\n",
       "      <td>6</td>\n",
       "      <td>17</td>\n",
       "      <td>HAZARD_ON_ROAD_CONSTRUCTION</td>\n",
       "      <td>Av. República de Croacia</td>\n",
       "      <td>{'x': -70.412429, 'y': -23.676846}</td>\n",
       "      <td>1724417637000</td>\n",
       "      <td>1724425125000</td>\n",
       "      <td>NaN</td>\n",
       "    </tr>\n",
       "    <tr>\n",
       "      <th>1</th>\n",
       "      <td>CI</td>\n",
       "      <td>Antofagasta</td>\n",
       "      <td>0</td>\n",
       "      <td>false</td>\n",
       "      <td>0</td>\n",
       "      <td>5</td>\n",
       "      <td>JAM</td>\n",
       "      <td>1d8df954-e380-4327-8015-f4fbadf74f2d</td>\n",
       "      <td>6</td>\n",
       "      <td>4</td>\n",
       "      <td>JAM_HEAVY_TRAFFIC</td>\n",
       "      <td>Av. Edmundo Pérez Zujovic</td>\n",
       "      <td>{'x': -70.392283, 'y': -23.617475}</td>\n",
       "      <td>1724423878000</td>\n",
       "      <td>1724425125000</td>\n",
       "      <td>NaN</td>\n",
       "    </tr>\n",
       "    <tr>\n",
       "      <th>2</th>\n",
       "      <td>CI</td>\n",
       "      <td>Antofagasta</td>\n",
       "      <td>0</td>\n",
       "      <td>false</td>\n",
       "      <td>0</td>\n",
       "      <td>5</td>\n",
       "      <td>JAM</td>\n",
       "      <td>c53a5bc6-f6b6-44b8-a5bd-af69b60a4580</td>\n",
       "      <td>1</td>\n",
       "      <td>359</td>\n",
       "      <td></td>\n",
       "      <td>Pasaje El Volcán</td>\n",
       "      <td>{'x': -70.385619, 'y': -23.573323}</td>\n",
       "      <td>1724425406000</td>\n",
       "      <td>1724425125000</td>\n",
       "      <td>NaN</td>\n",
       "    </tr>\n",
       "    <tr>\n",
       "      <th>3</th>\n",
       "      <td>CI</td>\n",
       "      <td>Antofagasta</td>\n",
       "      <td>1</td>\n",
       "      <td>false</td>\n",
       "      <td>0</td>\n",
       "      <td>5</td>\n",
       "      <td>JAM</td>\n",
       "      <td>53b6ff5f-d078-421d-9f78-03e534d78989</td>\n",
       "      <td>2</td>\n",
       "      <td>1</td>\n",
       "      <td></td>\n",
       "      <td>Azapa</td>\n",
       "      <td>{'x': -70.384986, 'y': -23.616328}</td>\n",
       "      <td>1724425622000</td>\n",
       "      <td>1724425125000</td>\n",
       "      <td>NaN</td>\n",
       "    </tr>\n",
       "    <tr>\n",
       "      <th>4</th>\n",
       "      <td>CI</td>\n",
       "      <td>Antofagasta</td>\n",
       "      <td>2</td>\n",
       "      <td>false</td>\n",
       "      <td>0</td>\n",
       "      <td>5</td>\n",
       "      <td>ACCIDENT</td>\n",
       "      <td>e87552f7-4572-4096-9fdd-9400ad90e7f8</td>\n",
       "      <td>2</td>\n",
       "      <td>281</td>\n",
       "      <td></td>\n",
       "      <td>Irarrázaval</td>\n",
       "      <td>{'x': -70.385121, 'y': -23.603942}</td>\n",
       "      <td>1724425939000</td>\n",
       "      <td>1724425125000</td>\n",
       "      <td>NaN</td>\n",
       "    </tr>\n",
       "  </tbody>\n",
       "</table>\n",
       "</div>"
      ],
      "text/plain": [
       "  country         city  reportRating reportByMunicipalityUser  confidence  \\\n",
       "0      CI  Antofagasta             1                    false           5   \n",
       "1      CI  Antofagasta             0                    false           0   \n",
       "2      CI  Antofagasta             0                    false           0   \n",
       "3      CI  Antofagasta             1                    false           0   \n",
       "4      CI  Antofagasta             2                    false           0   \n",
       "\n",
       "   reliability      type                                  uuid  roadType  \\\n",
       "0           10    HAZARD  a123f22e-e5e0-4c6c-8a4e-7434c4fd2110         6   \n",
       "1            5       JAM  1d8df954-e380-4327-8015-f4fbadf74f2d         6   \n",
       "2            5       JAM  c53a5bc6-f6b6-44b8-a5bd-af69b60a4580         1   \n",
       "3            5       JAM  53b6ff5f-d078-421d-9f78-03e534d78989         2   \n",
       "4            5  ACCIDENT  e87552f7-4572-4096-9fdd-9400ad90e7f8         2   \n",
       "\n",
       "   magvar                      subtype                     street  \\\n",
       "0      17  HAZARD_ON_ROAD_CONSTRUCTION   Av. República de Croacia   \n",
       "1       4            JAM_HEAVY_TRAFFIC  Av. Edmundo Pérez Zujovic   \n",
       "2     359                                        Pasaje El Volcán   \n",
       "3       1                                                   Azapa   \n",
       "4     281                                             Irarrázaval   \n",
       "\n",
       "                             location      pubMillis      endreport  \\\n",
       "0  {'x': -70.412429, 'y': -23.676846}  1724417637000  1724425125000   \n",
       "1  {'x': -70.392283, 'y': -23.617475}  1724423878000  1724425125000   \n",
       "2  {'x': -70.385619, 'y': -23.573323}  1724425406000  1724425125000   \n",
       "3  {'x': -70.384986, 'y': -23.616328}  1724425622000  1724425125000   \n",
       "4  {'x': -70.385121, 'y': -23.603942}  1724425939000  1724425125000   \n",
       "\n",
       "  reportDescription  \n",
       "0               NaN  \n",
       "1               NaN  \n",
       "2               NaN  \n",
       "3               NaN  \n",
       "4               NaN  "
      ]
     },
     "execution_count": 617,
     "metadata": {},
     "output_type": "execute_result"
    }
   ],
   "source": [
    "alerts.head()"
   ]
  },
  {
   "cell_type": "code",
   "execution_count": 618,
   "metadata": {},
   "outputs": [
    {
     "data": {
      "text/html": [
       "<div>\n",
       "<style scoped>\n",
       "    .dataframe tbody tr th:only-of-type {\n",
       "        vertical-align: middle;\n",
       "    }\n",
       "\n",
       "    .dataframe tbody tr th {\n",
       "        vertical-align: top;\n",
       "    }\n",
       "\n",
       "    .dataframe thead th {\n",
       "        text-align: right;\n",
       "    }\n",
       "</style>\n",
       "<table border=\"1\" class=\"dataframe\">\n",
       "  <thead>\n",
       "    <tr style=\"text-align: right;\">\n",
       "      <th></th>\n",
       "      <th>street</th>\n",
       "      <th>x</th>\n",
       "      <th>y</th>\n",
       "      <th>type</th>\n",
       "      <th>hour</th>\n",
       "      <th>week_day</th>\n",
       "      <th>day_type</th>\n",
       "      <th>day</th>\n",
       "      <th>month</th>\n",
       "      <th>year</th>\n",
       "      <th>minute</th>\n",
       "    </tr>\n",
       "  </thead>\n",
       "  <tbody>\n",
       "    <tr>\n",
       "      <th>1</th>\n",
       "      <td>Av. Edmundo Pérez Zujovic</td>\n",
       "      <td>-70.392283</td>\n",
       "      <td>-23.617475</td>\n",
       "      <td>JAM</td>\n",
       "      <td>10</td>\n",
       "      <td>4</td>\n",
       "      <td>s</td>\n",
       "      <td>23</td>\n",
       "      <td>8</td>\n",
       "      <td>2024</td>\n",
       "      <td>37</td>\n",
       "    </tr>\n",
       "    <tr>\n",
       "      <th>2</th>\n",
       "      <td>Pasaje El Volcán</td>\n",
       "      <td>-70.385619</td>\n",
       "      <td>-23.573323</td>\n",
       "      <td>JAM</td>\n",
       "      <td>11</td>\n",
       "      <td>4</td>\n",
       "      <td>s</td>\n",
       "      <td>23</td>\n",
       "      <td>8</td>\n",
       "      <td>2024</td>\n",
       "      <td>3</td>\n",
       "    </tr>\n",
       "    <tr>\n",
       "      <th>3</th>\n",
       "      <td>Azapa</td>\n",
       "      <td>-70.384986</td>\n",
       "      <td>-23.616328</td>\n",
       "      <td>JAM</td>\n",
       "      <td>11</td>\n",
       "      <td>4</td>\n",
       "      <td>s</td>\n",
       "      <td>23</td>\n",
       "      <td>8</td>\n",
       "      <td>2024</td>\n",
       "      <td>7</td>\n",
       "    </tr>\n",
       "    <tr>\n",
       "      <th>4</th>\n",
       "      <td>Irarrázaval</td>\n",
       "      <td>-70.385121</td>\n",
       "      <td>-23.603942</td>\n",
       "      <td>ACCIDENT</td>\n",
       "      <td>11</td>\n",
       "      <td>4</td>\n",
       "      <td>s</td>\n",
       "      <td>23</td>\n",
       "      <td>8</td>\n",
       "      <td>2024</td>\n",
       "      <td>12</td>\n",
       "    </tr>\n",
       "    <tr>\n",
       "      <th>5</th>\n",
       "      <td>Coquimbo</td>\n",
       "      <td>-70.399240</td>\n",
       "      <td>-23.657366</td>\n",
       "      <td>JAM</td>\n",
       "      <td>11</td>\n",
       "      <td>4</td>\n",
       "      <td>s</td>\n",
       "      <td>23</td>\n",
       "      <td>8</td>\n",
       "      <td>2024</td>\n",
       "      <td>40</td>\n",
       "    </tr>\n",
       "  </tbody>\n",
       "</table>\n",
       "</div>"
      ],
      "text/plain": [
       "                      street          x          y      type  hour  week_day  \\\n",
       "1  Av. Edmundo Pérez Zujovic -70.392283 -23.617475       JAM    10         4   \n",
       "2           Pasaje El Volcán -70.385619 -23.573323       JAM    11         4   \n",
       "3                      Azapa -70.384986 -23.616328       JAM    11         4   \n",
       "4                Irarrázaval -70.385121 -23.603942  ACCIDENT    11         4   \n",
       "5                   Coquimbo -70.399240 -23.657366       JAM    11         4   \n",
       "\n",
       "  day_type  day  month  year  minute  \n",
       "1        s   23      8  2024      37  \n",
       "2        s   23      8  2024       3  \n",
       "3        s   23      8  2024       7  \n",
       "4        s   23      8  2024      12  \n",
       "5        s   23      8  2024      40  "
      ]
     },
     "execution_count": 618,
     "metadata": {},
     "output_type": "execute_result"
    }
   ],
   "source": [
    "alerts_cleaned = utils.extract_event(alerts, [\"JAM\", \"ACCIDENT\"], extra_col=['type']).drop('uuid', axis=1)\n",
    "alerts_cleaned['day'] = alerts_cleaned.inicio.dt.day\n",
    "alerts_cleaned['month'] = alerts_cleaned.inicio.dt.month\n",
    "alerts_cleaned['year'] = alerts_cleaned.inicio.dt.year\n",
    "alerts_cleaned['minute'] = alerts_cleaned.inicio.dt.minute\n",
    "alerts_cleaned = alerts_cleaned.drop(['inicio', 'fin', 'geometry'], axis=1)\n",
    "\n",
    "alerts_cleaned.head()"
   ]
  },
  {
   "cell_type": "code",
   "execution_count": 619,
   "metadata": {},
   "outputs": [
    {
     "name": "stdout",
     "output_type": "stream",
     "text": [
      "<class 'pandas.core.frame.DataFrame'>\n",
      "Index: 6136 entries, 1 to 8563\n",
      "Data columns (total 11 columns):\n",
      " #   Column    Non-Null Count  Dtype  \n",
      "---  ------    --------------  -----  \n",
      " 0   street    6111 non-null   object \n",
      " 1   x         6136 non-null   float64\n",
      " 2   y         6136 non-null   float64\n",
      " 3   type      6136 non-null   object \n",
      " 4   hour      6136 non-null   int32  \n",
      " 5   week_day  6136 non-null   int32  \n",
      " 6   day_type  6136 non-null   object \n",
      " 7   day       6136 non-null   int32  \n",
      " 8   month     6136 non-null   int32  \n",
      " 9   year      6136 non-null   int32  \n",
      " 10  minute    6136 non-null   int32  \n",
      "dtypes: float64(2), int32(6), object(3)\n",
      "memory usage: 431.4+ KB\n"
     ]
    }
   ],
   "source": [
    "alerts_cleaned.info()"
   ]
  },
  {
   "cell_type": "code",
   "execution_count": 620,
   "metadata": {},
   "outputs": [
    {
     "name": "stdout",
     "output_type": "stream",
     "text": [
      "0.41% de lo datos es nulos en 'street'\n"
     ]
    }
   ],
   "source": [
    "print(f\"{len(alerts_cleaned[alerts_cleaned['street'].isna()]) / len(alerts_cleaned['street']) * 100:.2f}% de lo datos es nulos en 'street'\")"
   ]
  },
  {
   "cell_type": "code",
   "execution_count": 621,
   "metadata": {},
   "outputs": [
    {
     "data": {
      "text/plain": [
       "street\n",
       "Av. Edmundo Pérez Zujovic    1537\n",
       "Av. Pedro Aguirre Cerda       548\n",
       "Av. Grecia                    402\n",
       "Av. Iquique                   304\n",
       "Av. Antonio Rendic            275\n",
       "Av. Balmaceda                 169\n",
       "Nicolás Tirado                154\n",
       "Av. Argentina                 124\n",
       "Av. Óscar Bonilla             120\n",
       "Av. Salvador Allende           83\n",
       "Name: count, dtype: int64"
      ]
     },
     "execution_count": 621,
     "metadata": {},
     "output_type": "execute_result"
    }
   ],
   "source": [
    "alerts_cleaned[\"street\"].value_counts()[:10]"
   ]
  },
  {
   "cell_type": "code",
   "execution_count": 622,
   "metadata": {},
   "outputs": [
    {
     "data": {
      "text/plain": [
       "Index(['Av. Edmundo Pérez Zujovic', 'Av. Pedro Aguirre Cerda', 'Av. Grecia',\n",
       "       'Av. Iquique', 'Av. Antonio Rendic', 'Av. Balmaceda', 'Nicolás Tirado',\n",
       "       'Av. Argentina', 'Av. Óscar Bonilla', 'Av. Salvador Allende'],\n",
       "      dtype='object', name='street')"
      ]
     },
     "execution_count": 622,
     "metadata": {},
     "output_type": "execute_result"
    }
   ],
   "source": [
    "alerts_cleaned[\"street\"].value_counts().index[:10]"
   ]
  },
  {
   "cell_type": "code",
   "execution_count": 623,
   "metadata": {},
   "outputs": [
    {
     "name": "stdout",
     "output_type": "stream",
     "text": [
      "<class 'pandas.core.frame.DataFrame'>\n",
      "Index: 3716 entries, 1 to 8551\n",
      "Data columns (total 11 columns):\n",
      " #   Column    Non-Null Count  Dtype  \n",
      "---  ------    --------------  -----  \n",
      " 0   street    3716 non-null   object \n",
      " 1   x         3716 non-null   float64\n",
      " 2   y         3716 non-null   float64\n",
      " 3   type      3716 non-null   object \n",
      " 4   hour      3716 non-null   int32  \n",
      " 5   week_day  3716 non-null   int32  \n",
      " 6   day_type  3716 non-null   object \n",
      " 7   day       3716 non-null   int32  \n",
      " 8   month     3716 non-null   int32  \n",
      " 9   year      3716 non-null   int32  \n",
      " 10  minute    3716 non-null   int32  \n",
      "dtypes: float64(2), int32(6), object(3)\n",
      "memory usage: 261.3+ KB\n"
     ]
    }
   ],
   "source": [
    "# Eliminamos valores nulos y filtro por calle\n",
    "\n",
    "streets = alerts_cleaned[\"street\"].value_counts().index[:10].to_numpy()\n",
    "\n",
    "alerts_cleaned = alerts_cleaned[alerts_cleaned['street'].apply(lambda x: x in streets)]\n",
    "alerts_cleaned.info()"
   ]
  },
  {
   "cell_type": "code",
   "execution_count": 624,
   "metadata": {},
   "outputs": [],
   "source": [
    "alerts_cleaned.to_csv('alerts.csv', sep=',', decimal='.', encoding='utf-8', index=False)"
   ]
  },
  {
   "cell_type": "code",
   "execution_count": 625,
   "metadata": {},
   "outputs": [],
   "source": [
    "cat = [\"street\", \"type\", \"day_type\"]\n",
    "num = list(alerts_cleaned.drop(cat, axis=1).columns)"
   ]
  },
  {
   "cell_type": "code",
   "execution_count": 626,
   "metadata": {},
   "outputs": [
    {
     "data": {
      "text/html": [
       "<div>\n",
       "<style scoped>\n",
       "    .dataframe tbody tr th:only-of-type {\n",
       "        vertical-align: middle;\n",
       "    }\n",
       "\n",
       "    .dataframe tbody tr th {\n",
       "        vertical-align: top;\n",
       "    }\n",
       "\n",
       "    .dataframe thead th {\n",
       "        text-align: right;\n",
       "    }\n",
       "</style>\n",
       "<table border=\"1\" class=\"dataframe\">\n",
       "  <thead>\n",
       "    <tr style=\"text-align: right;\">\n",
       "      <th></th>\n",
       "      <th>street</th>\n",
       "      <th>x</th>\n",
       "      <th>y</th>\n",
       "      <th>type</th>\n",
       "      <th>hour</th>\n",
       "      <th>minute</th>\n",
       "      <th>week_day</th>\n",
       "      <th>day_type</th>\n",
       "      <th>day</th>\n",
       "      <th>month</th>\n",
       "      <th>year</th>\n",
       "      <th>happen</th>\n",
       "    </tr>\n",
       "  </thead>\n",
       "  <tbody>\n",
       "    <tr>\n",
       "      <th>1</th>\n",
       "      <td>Av. Edmundo Pérez Zujovic</td>\n",
       "      <td>-70.392283</td>\n",
       "      <td>-23.617475</td>\n",
       "      <td>JAM</td>\n",
       "      <td>14</td>\n",
       "      <td>17</td>\n",
       "      <td>5</td>\n",
       "      <td>s</td>\n",
       "      <td>21</td>\n",
       "      <td>10</td>\n",
       "      <td>2024</td>\n",
       "      <td>0</td>\n",
       "    </tr>\n",
       "    <tr>\n",
       "      <th>7</th>\n",
       "      <td>Av. Grecia</td>\n",
       "      <td>-70.402438</td>\n",
       "      <td>-23.650212</td>\n",
       "      <td>JAM</td>\n",
       "      <td>8</td>\n",
       "      <td>7</td>\n",
       "      <td>1</td>\n",
       "      <td>f</td>\n",
       "      <td>25</td>\n",
       "      <td>8</td>\n",
       "      <td>2024</td>\n",
       "      <td>0</td>\n",
       "    </tr>\n",
       "    <tr>\n",
       "      <th>8</th>\n",
       "      <td>Av. Grecia</td>\n",
       "      <td>-70.402429</td>\n",
       "      <td>-23.649991</td>\n",
       "      <td>ACCIDENT</td>\n",
       "      <td>16</td>\n",
       "      <td>31</td>\n",
       "      <td>0</td>\n",
       "      <td>f</td>\n",
       "      <td>29</td>\n",
       "      <td>9</td>\n",
       "      <td>2024</td>\n",
       "      <td>0</td>\n",
       "    </tr>\n",
       "    <tr>\n",
       "      <th>9</th>\n",
       "      <td>Av. Balmaceda</td>\n",
       "      <td>-70.400096</td>\n",
       "      <td>-23.645631</td>\n",
       "      <td>ACCIDENT</td>\n",
       "      <td>20</td>\n",
       "      <td>18</td>\n",
       "      <td>2</td>\n",
       "      <td>s</td>\n",
       "      <td>28</td>\n",
       "      <td>10</td>\n",
       "      <td>2024</td>\n",
       "      <td>0</td>\n",
       "    </tr>\n",
       "    <tr>\n",
       "      <th>11</th>\n",
       "      <td>Av. Balmaceda</td>\n",
       "      <td>-70.401486</td>\n",
       "      <td>-23.647052</td>\n",
       "      <td>ACCIDENT</td>\n",
       "      <td>16</td>\n",
       "      <td>20</td>\n",
       "      <td>2</td>\n",
       "      <td>s</td>\n",
       "      <td>5</td>\n",
       "      <td>9</td>\n",
       "      <td>2024</td>\n",
       "      <td>0</td>\n",
       "    </tr>\n",
       "    <tr>\n",
       "      <th>...</th>\n",
       "      <td>...</td>\n",
       "      <td>...</td>\n",
       "      <td>...</td>\n",
       "      <td>...</td>\n",
       "      <td>...</td>\n",
       "      <td>...</td>\n",
       "      <td>...</td>\n",
       "      <td>...</td>\n",
       "      <td>...</td>\n",
       "      <td>...</td>\n",
       "      <td>...</td>\n",
       "      <td>...</td>\n",
       "    </tr>\n",
       "    <tr>\n",
       "      <th>8543</th>\n",
       "      <td>Av. Pedro Aguirre Cerda</td>\n",
       "      <td>-70.388947</td>\n",
       "      <td>-23.616659</td>\n",
       "      <td>ACCIDENT</td>\n",
       "      <td>4</td>\n",
       "      <td>33</td>\n",
       "      <td>4</td>\n",
       "      <td>s</td>\n",
       "      <td>5</td>\n",
       "      <td>10</td>\n",
       "      <td>2024</td>\n",
       "      <td>0</td>\n",
       "    </tr>\n",
       "    <tr>\n",
       "      <th>8544</th>\n",
       "      <td>Av. Grecia</td>\n",
       "      <td>-70.402335</td>\n",
       "      <td>-23.647936</td>\n",
       "      <td>ACCIDENT</td>\n",
       "      <td>22</td>\n",
       "      <td>33</td>\n",
       "      <td>0</td>\n",
       "      <td>f</td>\n",
       "      <td>6</td>\n",
       "      <td>8</td>\n",
       "      <td>2024</td>\n",
       "      <td>0</td>\n",
       "    </tr>\n",
       "    <tr>\n",
       "      <th>8545</th>\n",
       "      <td>Av. Pedro Aguirre Cerda</td>\n",
       "      <td>-70.391009</td>\n",
       "      <td>-23.576996</td>\n",
       "      <td>JAM</td>\n",
       "      <td>22</td>\n",
       "      <td>32</td>\n",
       "      <td>3</td>\n",
       "      <td>f</td>\n",
       "      <td>27</td>\n",
       "      <td>10</td>\n",
       "      <td>2024</td>\n",
       "      <td>0</td>\n",
       "    </tr>\n",
       "    <tr>\n",
       "      <th>8548</th>\n",
       "      <td>Av. Edmundo Pérez Zujovic</td>\n",
       "      <td>-70.395761</td>\n",
       "      <td>-23.637618</td>\n",
       "      <td>ACCIDENT</td>\n",
       "      <td>15</td>\n",
       "      <td>0</td>\n",
       "      <td>4</td>\n",
       "      <td>s</td>\n",
       "      <td>7</td>\n",
       "      <td>9</td>\n",
       "      <td>2024</td>\n",
       "      <td>0</td>\n",
       "    </tr>\n",
       "    <tr>\n",
       "      <th>8551</th>\n",
       "      <td>Av. Grecia</td>\n",
       "      <td>-70.402643</td>\n",
       "      <td>-23.648007</td>\n",
       "      <td>ACCIDENT</td>\n",
       "      <td>11</td>\n",
       "      <td>44</td>\n",
       "      <td>5</td>\n",
       "      <td>f</td>\n",
       "      <td>28</td>\n",
       "      <td>8</td>\n",
       "      <td>2024</td>\n",
       "      <td>0</td>\n",
       "    </tr>\n",
       "  </tbody>\n",
       "</table>\n",
       "<p>3716 rows × 12 columns</p>\n",
       "</div>"
      ],
      "text/plain": [
       "                         street          x          y      type  hour  minute  \\\n",
       "1     Av. Edmundo Pérez Zujovic -70.392283 -23.617475       JAM    14      17   \n",
       "7                    Av. Grecia -70.402438 -23.650212       JAM     8       7   \n",
       "8                    Av. Grecia -70.402429 -23.649991  ACCIDENT    16      31   \n",
       "9                 Av. Balmaceda -70.400096 -23.645631  ACCIDENT    20      18   \n",
       "11                Av. Balmaceda -70.401486 -23.647052  ACCIDENT    16      20   \n",
       "...                         ...        ...        ...       ...   ...     ...   \n",
       "8543    Av. Pedro Aguirre Cerda -70.388947 -23.616659  ACCIDENT     4      33   \n",
       "8544                 Av. Grecia -70.402335 -23.647936  ACCIDENT    22      33   \n",
       "8545    Av. Pedro Aguirre Cerda -70.391009 -23.576996       JAM    22      32   \n",
       "8548  Av. Edmundo Pérez Zujovic -70.395761 -23.637618  ACCIDENT    15       0   \n",
       "8551                 Av. Grecia -70.402643 -23.648007  ACCIDENT    11      44   \n",
       "\n",
       "      week_day day_type  day  month  year  happen  \n",
       "1            5        s   21     10  2024       0  \n",
       "7            1        f   25      8  2024       0  \n",
       "8            0        f   29      9  2024       0  \n",
       "9            2        s   28     10  2024       0  \n",
       "11           2        s    5      9  2024       0  \n",
       "...        ...      ...  ...    ...   ...     ...  \n",
       "8543         4        s    5     10  2024       0  \n",
       "8544         0        f    6      8  2024       0  \n",
       "8545         3        f   27     10  2024       0  \n",
       "8548         4        s    7      9  2024       0  \n",
       "8551         5        f   28      8  2024       0  \n",
       "\n",
       "[3716 rows x 12 columns]"
      ]
     },
     "execution_count": 626,
     "metadata": {},
     "output_type": "execute_result"
    }
   ],
   "source": [
    "# Balanceo de eventos y creación de no eventos\n",
    "\n",
    "events = alerts_cleaned.copy()\n",
    "events['happen'] = 1\n",
    "\n",
    "q_events = len(events)\n",
    "\n",
    "street = events['street']\n",
    "x = events['x']\n",
    "y = events['y']\n",
    "type = np.random.choice([\"ACCIDENT\", \"JAM\"], q_events)\n",
    "hour = np.random.randint(events.hour.min(), events.hour.max(), q_events)\n",
    "minute = np.random.randint(events.minute.min(), events.minute.max(), q_events)\n",
    "week_day = np.random.randint(events.week_day.min(), events.week_day.max(), q_events)\n",
    "day_type = np.random.choice([\"s\", \"f\"], q_events)\n",
    "day = np.random.randint(events.day.min(), events.day.max() + 1, q_events)\n",
    "month = np.random.randint(events.month.min(), events.month.max() + 1, q_events)\n",
    "year = np.random.choice(events.year.unique(), q_events)\n",
    "\n",
    "\n",
    "no_events = pd.DataFrame({\n",
    "    \"street\": street,\n",
    "    \"x\": x,\n",
    "    \"y\": y,\n",
    "    \"type\": type,\n",
    "    \"hour\": hour,\n",
    "    \"minute\": minute,\n",
    "    \"week_day\": week_day,\n",
    "    \"day_type\": day_type,\n",
    "    \"day\": day,\n",
    "    \"month\": month,\n",
    "    \"year\": year,\n",
    "    \"happen\": 0\n",
    "})\n",
    "\n",
    "no_events"
   ]
  },
  {
   "cell_type": "code",
   "execution_count": 627,
   "metadata": {},
   "outputs": [
    {
     "data": {
      "text/plain": [
       "happen\n",
       "1    3716\n",
       "0    3716\n",
       "Name: count, dtype: int64"
      ]
     },
     "execution_count": 627,
     "metadata": {},
     "output_type": "execute_result"
    }
   ],
   "source": [
    "total_events = pd.concat([events, no_events], axis=0)\n",
    "total_events['happen'].value_counts()"
   ]
  },
  {
   "cell_type": "code",
   "execution_count": 628,
   "metadata": {},
   "outputs": [],
   "source": [
    "# Se elimina mes y año porque no hay muestras suficientes\n",
    "\n",
    "X_happen = total_events.drop(['happen', \"type\", \"x\", \"y\", \"street\", \"month\", \"year\", \"day\"], axis=1)\n",
    "y_happen = total_events['happen']"
   ]
  },
  {
   "cell_type": "code",
   "execution_count": 629,
   "metadata": {},
   "outputs": [],
   "source": [
    "X_happen[\"day_type\"] = X_happen[\"day_type\"].map({\"f\": 0, \"s\": 1})\n"
   ]
  },
  {
   "cell_type": "code",
   "execution_count": 630,
   "metadata": {},
   "outputs": [],
   "source": [
    "from sklearn.model_selection import train_test_split\n",
    "from sklearn.ensemble import RandomForestClassifier\n",
    "\n",
    "X_train_happen, X_test_happen, y_train_happen, y_test_happen = train_test_split(X_happen, y_happen, test_size=0.2, random_state=42)\n",
    "\n",
    "rfc_happen = RandomForestClassifier(random_state=42)\n",
    "rfc_happen.fit(X_train_happen, y_train_happen)\n",
    "\n",
    "y_predict_happen = rfc_happen.predict(X_test_happen)"
   ]
  },
  {
   "cell_type": "code",
   "execution_count": 631,
   "metadata": {},
   "outputs": [
    {
     "data": {
      "text/plain": [
       "array([[585, 147],\n",
       "       [125, 630]])"
      ]
     },
     "execution_count": 631,
     "metadata": {},
     "output_type": "execute_result"
    }
   ],
   "source": [
    "from sklearn.metrics import confusion_matrix, recall_score, precision_score, f1_score\n",
    "\n",
    "confusion_matrix(y_test_happen, y_predict_happen)"
   ]
  },
  {
   "cell_type": "code",
   "execution_count": 632,
   "metadata": {},
   "outputs": [
    {
     "data": {
      "text/plain": [
       "(np.float64(0.8344370860927153),\n",
       " np.float64(0.8108108108108109),\n",
       " np.float64(0.8224543080939948))"
      ]
     },
     "execution_count": 632,
     "metadata": {},
     "output_type": "execute_result"
    }
   ],
   "source": [
    "recall = recall_score(y_test_happen, y_predict_happen)\n",
    "precision = precision_score(y_test_happen, y_predict_happen)\n",
    "f1 = f1_score(y_test_happen, y_predict_happen)\n",
    "\n",
    "recall, precision, f1"
   ]
  },
  {
   "cell_type": "code",
   "execution_count": 633,
   "metadata": {},
   "outputs": [
    {
     "data": {
      "text/plain": [
       "(array([[0.16, 0.84]]), array([1]))"
      ]
     },
     "execution_count": 633,
     "metadata": {},
     "output_type": "execute_result"
    }
   ],
   "source": [
    "# Un dato de prueba\n",
    "\n",
    "test = {\n",
    "    \"hour\": [7],\n",
    "    \"week_day\": [4],\n",
    "    \"day_type\": [1],\n",
    "    \"minute\": [20]\n",
    "}\n",
    "\n",
    "rfc_happen.predict_proba(pd.DataFrame(test)), rfc_happen.predict(pd.DataFrame(test))\n"
   ]
  },
  {
   "cell_type": "code",
   "execution_count": 634,
   "metadata": {},
   "outputs": [],
   "source": [
    "X_type = events.drop([\"happen\", \"day\", \"month\", \"year\", \"x\", \"y\", \"type\"], axis=1)\n",
    "y_type = events[\"type\"]"
   ]
  },
  {
   "cell_type": "code",
   "execution_count": 635,
   "metadata": {},
   "outputs": [],
   "source": [
    "X_type[\"day_type\"] = X_type[\"day_type\"].map({\"f\": 0, \"s\": 1})"
   ]
  },
  {
   "cell_type": "code",
   "execution_count": 636,
   "metadata": {},
   "outputs": [],
   "source": [
    "from sklearn.preprocessing import LabelEncoder\n",
    "\n",
    "le = LabelEncoder()\n",
    "X_type['street'] = le.fit_transform(X_type[\"street\"])\n",
    "y_type = le.fit_transform(y_type)"
   ]
  },
  {
   "cell_type": "code",
   "execution_count": 637,
   "metadata": {},
   "outputs": [],
   "source": [
    "X_train_type, X_test_type, y_train_type, y_test_type = train_test_split(X_type, y_type, test_size=0.2, random_state=42)"
   ]
  },
  {
   "cell_type": "code",
   "execution_count": 638,
   "metadata": {},
   "outputs": [],
   "source": [
    "rfc_type = RandomForestClassifier(random_state=42)\n",
    "rfc_type.fit(X_train_type, y_train_type)\n",
    "\n",
    "y_predict_type = rfc_type.predict(X_test_type)"
   ]
  },
  {
   "cell_type": "code",
   "execution_count": 641,
   "metadata": {},
   "outputs": [
    {
     "data": {
      "text/plain": [
       "array([[ 16,  60],\n",
       "       [ 23, 645]])"
      ]
     },
     "execution_count": 641,
     "metadata": {},
     "output_type": "execute_result"
    }
   ],
   "source": [
    "confusion_matrix(y_test_type, y_predict_type)"
   ]
  },
  {
   "cell_type": "code",
   "execution_count": 642,
   "metadata": {},
   "outputs": [
    {
     "data": {
      "text/plain": [
       "(np.float64(0.9655688622754491),\n",
       " np.float64(0.9148936170212766),\n",
       " np.float64(0.9395484340859432))"
      ]
     },
     "execution_count": 642,
     "metadata": {},
     "output_type": "execute_result"
    }
   ],
   "source": [
    "recall = recall_score(y_test_type, y_predict_type)\n",
    "precision = precision_score(y_test_type, y_predict_type)\n",
    "f1 = f1_score(y_test_type, y_predict_type)\n",
    "\n",
    "recall, precision, f1"
   ]
  },
  {
   "cell_type": "code",
   "execution_count": null,
   "metadata": {},
   "outputs": [],
   "source": []
  }
 ],
 "metadata": {
  "kernelspec": {
   "display_name": ".venv",
   "language": "python",
   "name": "python3"
  },
  "language_info": {
   "codemirror_mode": {
    "name": "ipython",
    "version": 3
   },
   "file_extension": ".py",
   "mimetype": "text/x-python",
   "name": "python",
   "nbconvert_exporter": "python",
   "pygments_lexer": "ipython3",
   "version": "3.12.4"
  }
 },
 "nbformat": 4,
 "nbformat_minor": 2
}
