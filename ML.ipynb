{
 "cells": [
  {
   "cell_type": "code",
   "execution_count": 1,
   "metadata": {},
   "outputs": [],
   "source": [
    "import utils\n",
    "import pandas as pd\n",
    "import numpy as np\n",
    "\n",
    "alerts, jams = utils.load_data()"
   ]
  },
  {
   "cell_type": "code",
   "execution_count": 2,
   "metadata": {},
   "outputs": [
    {
     "data": {
      "text/plain": [
       "(8567, 16)"
      ]
     },
     "execution_count": 2,
     "metadata": {},
     "output_type": "execute_result"
    }
   ],
   "source": [
    "alerts.shape"
   ]
  },
  {
   "cell_type": "code",
   "execution_count": 3,
   "metadata": {},
   "outputs": [
    {
     "data": {
      "text/html": [
       "<div>\n",
       "<style scoped>\n",
       "    .dataframe tbody tr th:only-of-type {\n",
       "        vertical-align: middle;\n",
       "    }\n",
       "\n",
       "    .dataframe tbody tr th {\n",
       "        vertical-align: top;\n",
       "    }\n",
       "\n",
       "    .dataframe thead th {\n",
       "        text-align: right;\n",
       "    }\n",
       "</style>\n",
       "<table border=\"1\" class=\"dataframe\">\n",
       "  <thead>\n",
       "    <tr style=\"text-align: right;\">\n",
       "      <th></th>\n",
       "      <th>country</th>\n",
       "      <th>city</th>\n",
       "      <th>reportRating</th>\n",
       "      <th>reportByMunicipalityUser</th>\n",
       "      <th>confidence</th>\n",
       "      <th>reliability</th>\n",
       "      <th>type</th>\n",
       "      <th>uuid</th>\n",
       "      <th>roadType</th>\n",
       "      <th>magvar</th>\n",
       "      <th>subtype</th>\n",
       "      <th>street</th>\n",
       "      <th>location</th>\n",
       "      <th>pubMillis</th>\n",
       "      <th>endreport</th>\n",
       "      <th>reportDescription</th>\n",
       "    </tr>\n",
       "  </thead>\n",
       "  <tbody>\n",
       "    <tr>\n",
       "      <th>0</th>\n",
       "      <td>CI</td>\n",
       "      <td>Antofagasta</td>\n",
       "      <td>1</td>\n",
       "      <td>false</td>\n",
       "      <td>5</td>\n",
       "      <td>10</td>\n",
       "      <td>HAZARD</td>\n",
       "      <td>a123f22e-e5e0-4c6c-8a4e-7434c4fd2110</td>\n",
       "      <td>6</td>\n",
       "      <td>17</td>\n",
       "      <td>HAZARD_ON_ROAD_CONSTRUCTION</td>\n",
       "      <td>Av. República de Croacia</td>\n",
       "      <td>{'x': -70.412429, 'y': -23.676846}</td>\n",
       "      <td>1724417637000</td>\n",
       "      <td>1724425125000</td>\n",
       "      <td>NaN</td>\n",
       "    </tr>\n",
       "    <tr>\n",
       "      <th>1</th>\n",
       "      <td>CI</td>\n",
       "      <td>Antofagasta</td>\n",
       "      <td>0</td>\n",
       "      <td>false</td>\n",
       "      <td>0</td>\n",
       "      <td>5</td>\n",
       "      <td>JAM</td>\n",
       "      <td>1d8df954-e380-4327-8015-f4fbadf74f2d</td>\n",
       "      <td>6</td>\n",
       "      <td>4</td>\n",
       "      <td>JAM_HEAVY_TRAFFIC</td>\n",
       "      <td>Av. Edmundo Pérez Zujovic</td>\n",
       "      <td>{'x': -70.392283, 'y': -23.617475}</td>\n",
       "      <td>1724423878000</td>\n",
       "      <td>1724425125000</td>\n",
       "      <td>NaN</td>\n",
       "    </tr>\n",
       "    <tr>\n",
       "      <th>2</th>\n",
       "      <td>CI</td>\n",
       "      <td>Antofagasta</td>\n",
       "      <td>0</td>\n",
       "      <td>false</td>\n",
       "      <td>0</td>\n",
       "      <td>5</td>\n",
       "      <td>JAM</td>\n",
       "      <td>c53a5bc6-f6b6-44b8-a5bd-af69b60a4580</td>\n",
       "      <td>1</td>\n",
       "      <td>359</td>\n",
       "      <td></td>\n",
       "      <td>Pasaje El Volcán</td>\n",
       "      <td>{'x': -70.385619, 'y': -23.573323}</td>\n",
       "      <td>1724425406000</td>\n",
       "      <td>1724425125000</td>\n",
       "      <td>NaN</td>\n",
       "    </tr>\n",
       "    <tr>\n",
       "      <th>3</th>\n",
       "      <td>CI</td>\n",
       "      <td>Antofagasta</td>\n",
       "      <td>1</td>\n",
       "      <td>false</td>\n",
       "      <td>0</td>\n",
       "      <td>5</td>\n",
       "      <td>JAM</td>\n",
       "      <td>53b6ff5f-d078-421d-9f78-03e534d78989</td>\n",
       "      <td>2</td>\n",
       "      <td>1</td>\n",
       "      <td></td>\n",
       "      <td>Azapa</td>\n",
       "      <td>{'x': -70.384986, 'y': -23.616328}</td>\n",
       "      <td>1724425622000</td>\n",
       "      <td>1724425125000</td>\n",
       "      <td>NaN</td>\n",
       "    </tr>\n",
       "    <tr>\n",
       "      <th>4</th>\n",
       "      <td>CI</td>\n",
       "      <td>Antofagasta</td>\n",
       "      <td>2</td>\n",
       "      <td>false</td>\n",
       "      <td>0</td>\n",
       "      <td>5</td>\n",
       "      <td>ACCIDENT</td>\n",
       "      <td>e87552f7-4572-4096-9fdd-9400ad90e7f8</td>\n",
       "      <td>2</td>\n",
       "      <td>281</td>\n",
       "      <td></td>\n",
       "      <td>Irarrázaval</td>\n",
       "      <td>{'x': -70.385121, 'y': -23.603942}</td>\n",
       "      <td>1724425939000</td>\n",
       "      <td>1724425125000</td>\n",
       "      <td>NaN</td>\n",
       "    </tr>\n",
       "  </tbody>\n",
       "</table>\n",
       "</div>"
      ],
      "text/plain": [
       "  country         city  reportRating reportByMunicipalityUser  confidence  \\\n",
       "0      CI  Antofagasta             1                    false           5   \n",
       "1      CI  Antofagasta             0                    false           0   \n",
       "2      CI  Antofagasta             0                    false           0   \n",
       "3      CI  Antofagasta             1                    false           0   \n",
       "4      CI  Antofagasta             2                    false           0   \n",
       "\n",
       "   reliability      type                                  uuid  roadType  \\\n",
       "0           10    HAZARD  a123f22e-e5e0-4c6c-8a4e-7434c4fd2110         6   \n",
       "1            5       JAM  1d8df954-e380-4327-8015-f4fbadf74f2d         6   \n",
       "2            5       JAM  c53a5bc6-f6b6-44b8-a5bd-af69b60a4580         1   \n",
       "3            5       JAM  53b6ff5f-d078-421d-9f78-03e534d78989         2   \n",
       "4            5  ACCIDENT  e87552f7-4572-4096-9fdd-9400ad90e7f8         2   \n",
       "\n",
       "   magvar                      subtype                     street  \\\n",
       "0      17  HAZARD_ON_ROAD_CONSTRUCTION   Av. República de Croacia   \n",
       "1       4            JAM_HEAVY_TRAFFIC  Av. Edmundo Pérez Zujovic   \n",
       "2     359                                        Pasaje El Volcán   \n",
       "3       1                                                   Azapa   \n",
       "4     281                                             Irarrázaval   \n",
       "\n",
       "                             location      pubMillis      endreport  \\\n",
       "0  {'x': -70.412429, 'y': -23.676846}  1724417637000  1724425125000   \n",
       "1  {'x': -70.392283, 'y': -23.617475}  1724423878000  1724425125000   \n",
       "2  {'x': -70.385619, 'y': -23.573323}  1724425406000  1724425125000   \n",
       "3  {'x': -70.384986, 'y': -23.616328}  1724425622000  1724425125000   \n",
       "4  {'x': -70.385121, 'y': -23.603942}  1724425939000  1724425125000   \n",
       "\n",
       "  reportDescription  \n",
       "0               NaN  \n",
       "1               NaN  \n",
       "2               NaN  \n",
       "3               NaN  \n",
       "4               NaN  "
      ]
     },
     "execution_count": 3,
     "metadata": {},
     "output_type": "execute_result"
    }
   ],
   "source": [
    "alerts.head()"
   ]
  },
  {
   "cell_type": "code",
   "execution_count": 4,
   "metadata": {},
   "outputs": [
    {
     "data": {
      "text/html": [
       "<div>\n",
       "<style scoped>\n",
       "    .dataframe tbody tr th:only-of-type {\n",
       "        vertical-align: middle;\n",
       "    }\n",
       "\n",
       "    .dataframe tbody tr th {\n",
       "        vertical-align: top;\n",
       "    }\n",
       "\n",
       "    .dataframe thead th {\n",
       "        text-align: right;\n",
       "    }\n",
       "</style>\n",
       "<table border=\"1\" class=\"dataframe\">\n",
       "  <thead>\n",
       "    <tr style=\"text-align: right;\">\n",
       "      <th></th>\n",
       "      <th>street</th>\n",
       "      <th>x</th>\n",
       "      <th>y</th>\n",
       "      <th>type</th>\n",
       "      <th>hour</th>\n",
       "      <th>week_day</th>\n",
       "      <th>day_type</th>\n",
       "      <th>day</th>\n",
       "      <th>month</th>\n",
       "      <th>year</th>\n",
       "      <th>minute</th>\n",
       "    </tr>\n",
       "  </thead>\n",
       "  <tbody>\n",
       "    <tr>\n",
       "      <th>1</th>\n",
       "      <td>Av. Edmundo Pérez Zujovic</td>\n",
       "      <td>-70.392283</td>\n",
       "      <td>-23.617475</td>\n",
       "      <td>JAM</td>\n",
       "      <td>10</td>\n",
       "      <td>4</td>\n",
       "      <td>s</td>\n",
       "      <td>23</td>\n",
       "      <td>8</td>\n",
       "      <td>2024</td>\n",
       "      <td>37</td>\n",
       "    </tr>\n",
       "    <tr>\n",
       "      <th>2</th>\n",
       "      <td>Pasaje El Volcán</td>\n",
       "      <td>-70.385619</td>\n",
       "      <td>-23.573323</td>\n",
       "      <td>JAM</td>\n",
       "      <td>11</td>\n",
       "      <td>4</td>\n",
       "      <td>s</td>\n",
       "      <td>23</td>\n",
       "      <td>8</td>\n",
       "      <td>2024</td>\n",
       "      <td>3</td>\n",
       "    </tr>\n",
       "    <tr>\n",
       "      <th>3</th>\n",
       "      <td>Azapa</td>\n",
       "      <td>-70.384986</td>\n",
       "      <td>-23.616328</td>\n",
       "      <td>JAM</td>\n",
       "      <td>11</td>\n",
       "      <td>4</td>\n",
       "      <td>s</td>\n",
       "      <td>23</td>\n",
       "      <td>8</td>\n",
       "      <td>2024</td>\n",
       "      <td>7</td>\n",
       "    </tr>\n",
       "    <tr>\n",
       "      <th>4</th>\n",
       "      <td>Irarrázaval</td>\n",
       "      <td>-70.385121</td>\n",
       "      <td>-23.603942</td>\n",
       "      <td>ACCIDENT</td>\n",
       "      <td>11</td>\n",
       "      <td>4</td>\n",
       "      <td>s</td>\n",
       "      <td>23</td>\n",
       "      <td>8</td>\n",
       "      <td>2024</td>\n",
       "      <td>12</td>\n",
       "    </tr>\n",
       "    <tr>\n",
       "      <th>5</th>\n",
       "      <td>Coquimbo</td>\n",
       "      <td>-70.399240</td>\n",
       "      <td>-23.657366</td>\n",
       "      <td>JAM</td>\n",
       "      <td>11</td>\n",
       "      <td>4</td>\n",
       "      <td>s</td>\n",
       "      <td>23</td>\n",
       "      <td>8</td>\n",
       "      <td>2024</td>\n",
       "      <td>40</td>\n",
       "    </tr>\n",
       "  </tbody>\n",
       "</table>\n",
       "</div>"
      ],
      "text/plain": [
       "                      street          x          y      type  hour  week_day  \\\n",
       "1  Av. Edmundo Pérez Zujovic -70.392283 -23.617475       JAM    10         4   \n",
       "2           Pasaje El Volcán -70.385619 -23.573323       JAM    11         4   \n",
       "3                      Azapa -70.384986 -23.616328       JAM    11         4   \n",
       "4                Irarrázaval -70.385121 -23.603942  ACCIDENT    11         4   \n",
       "5                   Coquimbo -70.399240 -23.657366       JAM    11         4   \n",
       "\n",
       "  day_type  day  month  year  minute  \n",
       "1        s   23      8  2024      37  \n",
       "2        s   23      8  2024       3  \n",
       "3        s   23      8  2024       7  \n",
       "4        s   23      8  2024      12  \n",
       "5        s   23      8  2024      40  "
      ]
     },
     "execution_count": 4,
     "metadata": {},
     "output_type": "execute_result"
    }
   ],
   "source": [
    "alerts_cleaned = utils.extract_event(alerts, [\"JAM\", \"ACCIDENT\"], extra_col=['type']).drop('uuid', axis=1)\n",
    "alerts_cleaned['day'] = alerts_cleaned.inicio.dt.day\n",
    "alerts_cleaned['month'] = alerts_cleaned.inicio.dt.month\n",
    "alerts_cleaned['year'] = alerts_cleaned.inicio.dt.year\n",
    "alerts_cleaned['minute'] = alerts_cleaned.inicio.dt.minute\n",
    "alerts_cleaned = alerts_cleaned.drop(['inicio', 'fin', 'geometry'], axis=1)\n",
    "\n",
    "alerts_cleaned.head()"
   ]
  },
  {
   "cell_type": "code",
   "execution_count": 5,
   "metadata": {},
   "outputs": [
    {
     "name": "stdout",
     "output_type": "stream",
     "text": [
      "<class 'pandas.core.frame.DataFrame'>\n",
      "Index: 6136 entries, 1 to 8563\n",
      "Data columns (total 11 columns):\n",
      " #   Column    Non-Null Count  Dtype  \n",
      "---  ------    --------------  -----  \n",
      " 0   street    6111 non-null   object \n",
      " 1   x         6136 non-null   float64\n",
      " 2   y         6136 non-null   float64\n",
      " 3   type      6136 non-null   object \n",
      " 4   hour      6136 non-null   int32  \n",
      " 5   week_day  6136 non-null   int32  \n",
      " 6   day_type  6136 non-null   object \n",
      " 7   day       6136 non-null   int32  \n",
      " 8   month     6136 non-null   int32  \n",
      " 9   year      6136 non-null   int32  \n",
      " 10  minute    6136 non-null   int32  \n",
      "dtypes: float64(2), int32(6), object(3)\n",
      "memory usage: 431.4+ KB\n"
     ]
    }
   ],
   "source": [
    "alerts_cleaned.info()"
   ]
  },
  {
   "cell_type": "code",
   "execution_count": 6,
   "metadata": {},
   "outputs": [
    {
     "name": "stdout",
     "output_type": "stream",
     "text": [
      "0.41% de lo datos es nulos en 'street'\n"
     ]
    }
   ],
   "source": [
    "print(f\"{len(alerts_cleaned[alerts_cleaned['street'].isna()]) / len(alerts_cleaned['street']) * 100:.2f}% de lo datos es nulos en 'street'\")"
   ]
  },
  {
   "cell_type": "code",
   "execution_count": 7,
   "metadata": {},
   "outputs": [
    {
     "data": {
      "text/plain": [
       "street\n",
       "Av. Edmundo Pérez Zujovic    1537\n",
       "Av. Pedro Aguirre Cerda       548\n",
       "Av. Grecia                    402\n",
       "Av. Iquique                   304\n",
       "Av. Antonio Rendic            275\n",
       "Av. Balmaceda                 169\n",
       "Nicolás Tirado                154\n",
       "Av. Argentina                 124\n",
       "Av. Óscar Bonilla             120\n",
       "Av. Salvador Allende           83\n",
       "Name: count, dtype: int64"
      ]
     },
     "execution_count": 7,
     "metadata": {},
     "output_type": "execute_result"
    }
   ],
   "source": [
    "alerts_cleaned[\"street\"].value_counts()[:10]"
   ]
  },
  {
   "cell_type": "code",
   "execution_count": 8,
   "metadata": {},
   "outputs": [
    {
     "data": {
      "text/plain": [
       "Index(['Av. Edmundo Pérez Zujovic', 'Av. Pedro Aguirre Cerda', 'Av. Grecia',\n",
       "       'Av. Iquique', 'Av. Antonio Rendic', 'Av. Balmaceda', 'Nicolás Tirado',\n",
       "       'Av. Argentina', 'Av. Óscar Bonilla', 'Av. Salvador Allende'],\n",
       "      dtype='object', name='street')"
      ]
     },
     "execution_count": 8,
     "metadata": {},
     "output_type": "execute_result"
    }
   ],
   "source": [
    "alerts_cleaned[\"street\"].value_counts().index[:10]"
   ]
  },
  {
   "cell_type": "code",
   "execution_count": 9,
   "metadata": {},
   "outputs": [
    {
     "name": "stdout",
     "output_type": "stream",
     "text": [
      "<class 'pandas.core.frame.DataFrame'>\n",
      "Index: 3716 entries, 1 to 8551\n",
      "Data columns (total 11 columns):\n",
      " #   Column    Non-Null Count  Dtype  \n",
      "---  ------    --------------  -----  \n",
      " 0   street    3716 non-null   object \n",
      " 1   x         3716 non-null   float64\n",
      " 2   y         3716 non-null   float64\n",
      " 3   type      3716 non-null   object \n",
      " 4   hour      3716 non-null   int32  \n",
      " 5   week_day  3716 non-null   int32  \n",
      " 6   day_type  3716 non-null   object \n",
      " 7   day       3716 non-null   int32  \n",
      " 8   month     3716 non-null   int32  \n",
      " 9   year      3716 non-null   int32  \n",
      " 10  minute    3716 non-null   int32  \n",
      "dtypes: float64(2), int32(6), object(3)\n",
      "memory usage: 261.3+ KB\n"
     ]
    }
   ],
   "source": [
    "# Eliminamos valores nulos y filtro por calle\n",
    "\n",
    "streets = alerts_cleaned[\"street\"].value_counts().index[:10].to_numpy()\n",
    "\n",
    "alerts_cleaned = alerts_cleaned[alerts_cleaned['street'].apply(lambda x: x in streets)]\n",
    "alerts_cleaned.info()"
   ]
  },
  {
   "cell_type": "code",
   "execution_count": 10,
   "metadata": {},
   "outputs": [],
   "source": [
    "alerts_cleaned.to_csv('alerts.csv', sep=',', decimal='.', encoding='utf-8', index=False)"
   ]
  },
  {
   "cell_type": "code",
   "execution_count": 11,
   "metadata": {},
   "outputs": [],
   "source": [
    "cat = [\"street\", \"type\", \"day_type\"]\n",
    "num = list(alerts_cleaned.drop(cat, axis=1).columns)"
   ]
  },
  {
   "cell_type": "markdown",
   "metadata": {},
   "source": [
    "## Balanceo de eventos (creación de no-eventos ficticios)"
   ]
  },
  {
   "cell_type": "code",
   "execution_count": 12,
   "metadata": {},
   "outputs": [
    {
     "data": {
      "text/html": [
       "<div>\n",
       "<style scoped>\n",
       "    .dataframe tbody tr th:only-of-type {\n",
       "        vertical-align: middle;\n",
       "    }\n",
       "\n",
       "    .dataframe tbody tr th {\n",
       "        vertical-align: top;\n",
       "    }\n",
       "\n",
       "    .dataframe thead th {\n",
       "        text-align: right;\n",
       "    }\n",
       "</style>\n",
       "<table border=\"1\" class=\"dataframe\">\n",
       "  <thead>\n",
       "    <tr style=\"text-align: right;\">\n",
       "      <th></th>\n",
       "      <th>street</th>\n",
       "      <th>x</th>\n",
       "      <th>y</th>\n",
       "      <th>type</th>\n",
       "      <th>hour</th>\n",
       "      <th>minute</th>\n",
       "      <th>week_day</th>\n",
       "      <th>day_type</th>\n",
       "      <th>day</th>\n",
       "      <th>month</th>\n",
       "      <th>year</th>\n",
       "      <th>happen</th>\n",
       "    </tr>\n",
       "  </thead>\n",
       "  <tbody>\n",
       "    <tr>\n",
       "      <th>1</th>\n",
       "      <td>Av. Edmundo Pérez Zujovic</td>\n",
       "      <td>-70.392283</td>\n",
       "      <td>-23.617475</td>\n",
       "      <td>JAM</td>\n",
       "      <td>10</td>\n",
       "      <td>2</td>\n",
       "      <td>2</td>\n",
       "      <td>f</td>\n",
       "      <td>20</td>\n",
       "      <td>9</td>\n",
       "      <td>2024</td>\n",
       "      <td>0</td>\n",
       "    </tr>\n",
       "    <tr>\n",
       "      <th>7</th>\n",
       "      <td>Av. Grecia</td>\n",
       "      <td>-70.402438</td>\n",
       "      <td>-23.650212</td>\n",
       "      <td>JAM</td>\n",
       "      <td>9</td>\n",
       "      <td>27</td>\n",
       "      <td>1</td>\n",
       "      <td>s</td>\n",
       "      <td>20</td>\n",
       "      <td>9</td>\n",
       "      <td>2024</td>\n",
       "      <td>0</td>\n",
       "    </tr>\n",
       "    <tr>\n",
       "      <th>8</th>\n",
       "      <td>Av. Grecia</td>\n",
       "      <td>-70.402429</td>\n",
       "      <td>-23.649991</td>\n",
       "      <td>ACCIDENT</td>\n",
       "      <td>18</td>\n",
       "      <td>18</td>\n",
       "      <td>3</td>\n",
       "      <td>f</td>\n",
       "      <td>7</td>\n",
       "      <td>10</td>\n",
       "      <td>2024</td>\n",
       "      <td>0</td>\n",
       "    </tr>\n",
       "    <tr>\n",
       "      <th>9</th>\n",
       "      <td>Av. Balmaceda</td>\n",
       "      <td>-70.400096</td>\n",
       "      <td>-23.645631</td>\n",
       "      <td>JAM</td>\n",
       "      <td>5</td>\n",
       "      <td>20</td>\n",
       "      <td>3</td>\n",
       "      <td>s</td>\n",
       "      <td>6</td>\n",
       "      <td>10</td>\n",
       "      <td>2024</td>\n",
       "      <td>0</td>\n",
       "    </tr>\n",
       "    <tr>\n",
       "      <th>11</th>\n",
       "      <td>Av. Balmaceda</td>\n",
       "      <td>-70.401486</td>\n",
       "      <td>-23.647052</td>\n",
       "      <td>JAM</td>\n",
       "      <td>3</td>\n",
       "      <td>9</td>\n",
       "      <td>5</td>\n",
       "      <td>f</td>\n",
       "      <td>26</td>\n",
       "      <td>10</td>\n",
       "      <td>2024</td>\n",
       "      <td>0</td>\n",
       "    </tr>\n",
       "    <tr>\n",
       "      <th>...</th>\n",
       "      <td>...</td>\n",
       "      <td>...</td>\n",
       "      <td>...</td>\n",
       "      <td>...</td>\n",
       "      <td>...</td>\n",
       "      <td>...</td>\n",
       "      <td>...</td>\n",
       "      <td>...</td>\n",
       "      <td>...</td>\n",
       "      <td>...</td>\n",
       "      <td>...</td>\n",
       "      <td>...</td>\n",
       "    </tr>\n",
       "    <tr>\n",
       "      <th>8543</th>\n",
       "      <td>Av. Pedro Aguirre Cerda</td>\n",
       "      <td>-70.388947</td>\n",
       "      <td>-23.616659</td>\n",
       "      <td>JAM</td>\n",
       "      <td>8</td>\n",
       "      <td>55</td>\n",
       "      <td>1</td>\n",
       "      <td>s</td>\n",
       "      <td>26</td>\n",
       "      <td>10</td>\n",
       "      <td>2024</td>\n",
       "      <td>0</td>\n",
       "    </tr>\n",
       "    <tr>\n",
       "      <th>8544</th>\n",
       "      <td>Av. Grecia</td>\n",
       "      <td>-70.402335</td>\n",
       "      <td>-23.647936</td>\n",
       "      <td>JAM</td>\n",
       "      <td>14</td>\n",
       "      <td>21</td>\n",
       "      <td>0</td>\n",
       "      <td>f</td>\n",
       "      <td>17</td>\n",
       "      <td>8</td>\n",
       "      <td>2024</td>\n",
       "      <td>0</td>\n",
       "    </tr>\n",
       "    <tr>\n",
       "      <th>8545</th>\n",
       "      <td>Av. Pedro Aguirre Cerda</td>\n",
       "      <td>-70.391009</td>\n",
       "      <td>-23.576996</td>\n",
       "      <td>JAM</td>\n",
       "      <td>7</td>\n",
       "      <td>18</td>\n",
       "      <td>5</td>\n",
       "      <td>f</td>\n",
       "      <td>6</td>\n",
       "      <td>9</td>\n",
       "      <td>2024</td>\n",
       "      <td>0</td>\n",
       "    </tr>\n",
       "    <tr>\n",
       "      <th>8548</th>\n",
       "      <td>Av. Edmundo Pérez Zujovic</td>\n",
       "      <td>-70.395761</td>\n",
       "      <td>-23.637618</td>\n",
       "      <td>JAM</td>\n",
       "      <td>14</td>\n",
       "      <td>28</td>\n",
       "      <td>1</td>\n",
       "      <td>f</td>\n",
       "      <td>10</td>\n",
       "      <td>9</td>\n",
       "      <td>2024</td>\n",
       "      <td>0</td>\n",
       "    </tr>\n",
       "    <tr>\n",
       "      <th>8551</th>\n",
       "      <td>Av. Grecia</td>\n",
       "      <td>-70.402643</td>\n",
       "      <td>-23.648007</td>\n",
       "      <td>ACCIDENT</td>\n",
       "      <td>9</td>\n",
       "      <td>53</td>\n",
       "      <td>2</td>\n",
       "      <td>f</td>\n",
       "      <td>20</td>\n",
       "      <td>8</td>\n",
       "      <td>2024</td>\n",
       "      <td>0</td>\n",
       "    </tr>\n",
       "  </tbody>\n",
       "</table>\n",
       "<p>3716 rows × 12 columns</p>\n",
       "</div>"
      ],
      "text/plain": [
       "                         street          x          y      type  hour  minute  \\\n",
       "1     Av. Edmundo Pérez Zujovic -70.392283 -23.617475       JAM    10       2   \n",
       "7                    Av. Grecia -70.402438 -23.650212       JAM     9      27   \n",
       "8                    Av. Grecia -70.402429 -23.649991  ACCIDENT    18      18   \n",
       "9                 Av. Balmaceda -70.400096 -23.645631       JAM     5      20   \n",
       "11                Av. Balmaceda -70.401486 -23.647052       JAM     3       9   \n",
       "...                         ...        ...        ...       ...   ...     ...   \n",
       "8543    Av. Pedro Aguirre Cerda -70.388947 -23.616659       JAM     8      55   \n",
       "8544                 Av. Grecia -70.402335 -23.647936       JAM    14      21   \n",
       "8545    Av. Pedro Aguirre Cerda -70.391009 -23.576996       JAM     7      18   \n",
       "8548  Av. Edmundo Pérez Zujovic -70.395761 -23.637618       JAM    14      28   \n",
       "8551                 Av. Grecia -70.402643 -23.648007  ACCIDENT     9      53   \n",
       "\n",
       "      week_day day_type  day  month  year  happen  \n",
       "1            2        f   20      9  2024       0  \n",
       "7            1        s   20      9  2024       0  \n",
       "8            3        f    7     10  2024       0  \n",
       "9            3        s    6     10  2024       0  \n",
       "11           5        f   26     10  2024       0  \n",
       "...        ...      ...  ...    ...   ...     ...  \n",
       "8543         1        s   26     10  2024       0  \n",
       "8544         0        f   17      8  2024       0  \n",
       "8545         5        f    6      9  2024       0  \n",
       "8548         1        f   10      9  2024       0  \n",
       "8551         2        f   20      8  2024       0  \n",
       "\n",
       "[3716 rows x 12 columns]"
      ]
     },
     "execution_count": 12,
     "metadata": {},
     "output_type": "execute_result"
    }
   ],
   "source": [
    "# Balanceo de eventos y creación de no eventos\n",
    "\n",
    "events = alerts_cleaned.copy()\n",
    "events['happen'] = 1\n",
    "\n",
    "q_events = len(events)\n",
    "\n",
    "street = events['street']\n",
    "x = events['x']\n",
    "y = events['y']\n",
    "type = np.random.choice([\"ACCIDENT\", \"JAM\"], q_events)\n",
    "hour = np.random.randint(events.hour.min(), events.hour.max(), q_events)\n",
    "minute = np.random.randint(events.minute.min(), events.minute.max(), q_events)\n",
    "week_day = np.random.randint(events.week_day.min(), events.week_day.max(), q_events)\n",
    "day_type = np.random.choice([\"s\", \"f\"], q_events)\n",
    "day = np.random.randint(events.day.min(), events.day.max() + 1, q_events)\n",
    "month = np.random.randint(events.month.min(), events.month.max() + 1, q_events)\n",
    "year = np.random.choice(events.year.unique(), q_events)\n",
    "\n",
    "\n",
    "no_events = pd.DataFrame({\n",
    "    \"street\": street,\n",
    "    \"x\": x,\n",
    "    \"y\": y,\n",
    "    \"type\": type,\n",
    "    \"hour\": hour,\n",
    "    \"minute\": minute,\n",
    "    \"week_day\": week_day,\n",
    "    \"day_type\": day_type,\n",
    "    \"day\": day,\n",
    "    \"month\": month,\n",
    "    \"year\": year,\n",
    "    \"happen\": 0\n",
    "})\n",
    "\n",
    "no_events"
   ]
  },
  {
   "cell_type": "code",
   "execution_count": 13,
   "metadata": {},
   "outputs": [
    {
     "data": {
      "text/plain": [
       "happen\n",
       "1    3716\n",
       "0    3716\n",
       "Name: count, dtype: int64"
      ]
     },
     "execution_count": 13,
     "metadata": {},
     "output_type": "execute_result"
    }
   ],
   "source": [
    "total_events = pd.concat([events, no_events], axis=0)\n",
    "total_events['happen'].value_counts()"
   ]
  },
  {
   "cell_type": "markdown",
   "metadata": {},
   "source": [
    "## Ocurrencia de evento"
   ]
  },
  {
   "cell_type": "code",
   "execution_count": 14,
   "metadata": {},
   "outputs": [],
   "source": [
    "# Se elimina mes y año porque no hay muestras suficientes\n",
    "\n",
    "X_happen = total_events.drop(['happen', \"type\", \"x\", \"y\", \"street\", \"month\", \"year\"], axis=1)\n",
    "y_happen = total_events['happen']"
   ]
  },
  {
   "cell_type": "code",
   "execution_count": 15,
   "metadata": {},
   "outputs": [],
   "source": [
    "dt = {\"f\": 0, \"s\": 1}\n",
    "\n",
    "X_happen[\"day_type\"] = X_happen[\"day_type\"].map(dt)\n"
   ]
  },
  {
   "cell_type": "code",
   "execution_count": 16,
   "metadata": {},
   "outputs": [],
   "source": [
    "from sklearn.model_selection import train_test_split, GridSearchCV\n",
    "from sklearn.ensemble import RandomForestClassifier\n",
    "\n",
    "X_train_happen, X_test_happen, y_train_happen, y_test_happen = train_test_split(X_happen, y_happen, test_size=0.2, random_state=42)\n",
    "\n",
    "rfc_happen = RandomForestClassifier(random_state=42, class_weight='balanced', max_depth=10, min_samples_split=5, n_estimators=100)\n",
    "rfc_happen.fit(X_train_happen, y_train_happen)\n",
    "\n",
    "y_predict_happen = rfc_happen.predict(X_test_happen)"
   ]
  },
  {
   "cell_type": "code",
   "execution_count": 17,
   "metadata": {},
   "outputs": [
    {
     "data": {
      "text/plain": [
       "array([[598, 134],\n",
       "       [ 29, 726]])"
      ]
     },
     "execution_count": 17,
     "metadata": {},
     "output_type": "execute_result"
    }
   ],
   "source": [
    "from sklearn.metrics import confusion_matrix, recall_score, precision_score, f1_score\n",
    "\n",
    "confusion_matrix(y_test_happen, y_predict_happen)"
   ]
  },
  {
   "cell_type": "code",
   "execution_count": 18,
   "metadata": {},
   "outputs": [
    {
     "data": {
      "text/plain": [
       "(np.float64(0.9615894039735099),\n",
       " np.float64(0.8441860465116279),\n",
       " np.float64(0.8990712074303405))"
      ]
     },
     "execution_count": 18,
     "metadata": {},
     "output_type": "execute_result"
    }
   ],
   "source": [
    "recall = recall_score(y_test_happen, y_predict_happen)\n",
    "precision = precision_score(y_test_happen, y_predict_happen)\n",
    "f1 = f1_score(y_test_happen, y_predict_happen)\n",
    "\n",
    "recall, precision, f1"
   ]
  },
  {
   "cell_type": "code",
   "execution_count": 19,
   "metadata": {},
   "outputs": [
    {
     "data": {
      "text/plain": [
       "(array([[0.15259839, 0.84740161]]), array([1]))"
      ]
     },
     "execution_count": 19,
     "metadata": {},
     "output_type": "execute_result"
    }
   ],
   "source": [
    "# Un dato de prueba\n",
    "\n",
    "test = {\n",
    "    \"hour\": [7],\n",
    "    \"week_day\": [4],\n",
    "    \"day_type\": [1],\n",
    "    \"day\": [11],\n",
    "    \"minute\": [20]\n",
    "}\n",
    "\n",
    "rfc_happen.predict_proba(pd.DataFrame(test)), rfc_happen.predict(pd.DataFrame(test))\n"
   ]
  },
  {
   "cell_type": "code",
   "execution_count": 20,
   "metadata": {},
   "outputs": [],
   "source": [
    "from sklearn.model_selection import cross_val_score\n",
    "\n",
    "scores = cross_val_score(rfc_happen, X_happen, y_happen, cv=10)"
   ]
  },
  {
   "cell_type": "code",
   "execution_count": 21,
   "metadata": {},
   "outputs": [
    {
     "data": {
      "text/plain": [
       "array([0.64516129, 0.70295699, 0.71601615, 0.89905787, 0.60834455,\n",
       "       0.48048452, 0.59892328, 0.67160162, 0.69717362, 0.77523553])"
      ]
     },
     "execution_count": 21,
     "metadata": {},
     "output_type": "execute_result"
    }
   ],
   "source": [
    "scores"
   ]
  },
  {
   "cell_type": "markdown",
   "metadata": {},
   "source": [
    "## Tipo de evento"
   ]
  },
  {
   "cell_type": "code",
   "execution_count": 22,
   "metadata": {},
   "outputs": [],
   "source": [
    "X_type = events.drop([\"happen\", \"month\", \"year\", \"x\", \"y\", \"type\", \"street\"], axis=1)\n",
    "y_type = events[\"type\"]"
   ]
  },
  {
   "cell_type": "code",
   "execution_count": 23,
   "metadata": {},
   "outputs": [],
   "source": [
    "X_type[\"day_type\"] = X_type[\"day_type\"].map(dt)"
   ]
  },
  {
   "cell_type": "code",
   "execution_count": 24,
   "metadata": {},
   "outputs": [],
   "source": [
    "from sklearn.preprocessing import LabelEncoder\n",
    "from imblearn.over_sampling import SMOTE\n",
    "\n",
    "le_type = LabelEncoder()\n",
    "y_type = le_type.fit_transform(y_type)\n",
    "\n"
   ]
  },
  {
   "cell_type": "code",
   "execution_count": 25,
   "metadata": {},
   "outputs": [],
   "source": [
    "X_train_type, X_test_type, y_train_type, y_test_type = train_test_split(X_type, y_type, test_size=0.2, random_state=42)"
   ]
  },
  {
   "cell_type": "code",
   "execution_count": 26,
   "metadata": {},
   "outputs": [],
   "source": [
    "rfc_type = RandomForestClassifier(random_state=42, n_estimators=100, max_depth=20, class_weight=\"balanced\", min_samples_split=10, max_samples=20)\n",
    "rfc_type.fit(X_train_type, y_train_type)\n",
    "\n",
    "y_predict_type = rfc_type.predict(X_test_type)"
   ]
  },
  {
   "cell_type": "code",
   "execution_count": 27,
   "metadata": {},
   "outputs": [
    {
     "data": {
      "text/plain": [
       "array([0.88978495, 0.88978495, 0.88978495, 0.88978495, 0.88978495,\n",
       "       0.88978495, 0.89218329, 0.89218329, 0.89218329, 0.88948787])"
      ]
     },
     "execution_count": 27,
     "metadata": {},
     "output_type": "execute_result"
    }
   ],
   "source": [
    "scores = cross_val_score(rfc_type, X_type, y_type, cv=10)\n",
    "scores"
   ]
  },
  {
   "cell_type": "code",
   "execution_count": 28,
   "metadata": {},
   "outputs": [
    {
     "data": {
      "text/plain": [
       "array([[  0,  76],\n",
       "       [  0, 668]])"
      ]
     },
     "execution_count": 28,
     "metadata": {},
     "output_type": "execute_result"
    }
   ],
   "source": [
    "confusion_matrix(y_test_type, y_predict_type)"
   ]
  },
  {
   "cell_type": "code",
   "execution_count": 29,
   "metadata": {},
   "outputs": [
    {
     "data": {
      "text/plain": [
       "(np.float64(1.0),\n",
       " np.float64(0.8978494623655914),\n",
       " np.float64(0.9461756373937678))"
      ]
     },
     "execution_count": 29,
     "metadata": {},
     "output_type": "execute_result"
    }
   ],
   "source": [
    "recall = recall_score(y_test_type, y_predict_type)\n",
    "precision = precision_score(y_test_type, y_predict_type)\n",
    "f1 = f1_score(y_test_type, y_predict_type)\n",
    "\n",
    "recall, precision, f1"
   ]
  },
  {
   "cell_type": "code",
   "execution_count": 30,
   "metadata": {},
   "outputs": [
    {
     "data": {
      "text/plain": [
       "type\n",
       "JAM         3309\n",
       "ACCIDENT     407\n",
       "Name: count, dtype: int64"
      ]
     },
     "execution_count": 30,
     "metadata": {},
     "output_type": "execute_result"
    }
   ],
   "source": [
    "events['type'].value_counts()"
   ]
  },
  {
   "cell_type": "markdown",
   "metadata": {},
   "source": [
    "## Calle de evento"
   ]
  },
  {
   "cell_type": "code",
   "execution_count": 31,
   "metadata": {},
   "outputs": [],
   "source": [
    "X_street = events.drop([\"happen\", \"month\", \"year\", \"x\", \"y\", \"street\"], axis=1)\n",
    "y_street = events['street']"
   ]
  },
  {
   "cell_type": "code",
   "execution_count": 32,
   "metadata": {},
   "outputs": [],
   "source": [
    "le_street = LabelEncoder()\n",
    "\n",
    "for c in cat:\n",
    "    if c in X_street.columns:\n",
    "        X_street[c] = le_street.fit_transform(X_street[c])\n",
    "\n",
    "y_street = le_street.fit_transform(y_street)"
   ]
  },
  {
   "cell_type": "code",
   "execution_count": 33,
   "metadata": {},
   "outputs": [
    {
     "data": {
      "text/html": [
       "<style>#sk-container-id-1 {\n",
       "  /* Definition of color scheme common for light and dark mode */\n",
       "  --sklearn-color-text: black;\n",
       "  --sklearn-color-line: gray;\n",
       "  /* Definition of color scheme for unfitted estimators */\n",
       "  --sklearn-color-unfitted-level-0: #fff5e6;\n",
       "  --sklearn-color-unfitted-level-1: #f6e4d2;\n",
       "  --sklearn-color-unfitted-level-2: #ffe0b3;\n",
       "  --sklearn-color-unfitted-level-3: chocolate;\n",
       "  /* Definition of color scheme for fitted estimators */\n",
       "  --sklearn-color-fitted-level-0: #f0f8ff;\n",
       "  --sklearn-color-fitted-level-1: #d4ebff;\n",
       "  --sklearn-color-fitted-level-2: #b3dbfd;\n",
       "  --sklearn-color-fitted-level-3: cornflowerblue;\n",
       "\n",
       "  /* Specific color for light theme */\n",
       "  --sklearn-color-text-on-default-background: var(--sg-text-color, var(--theme-code-foreground, var(--jp-content-font-color1, black)));\n",
       "  --sklearn-color-background: var(--sg-background-color, var(--theme-background, var(--jp-layout-color0, white)));\n",
       "  --sklearn-color-border-box: var(--sg-text-color, var(--theme-code-foreground, var(--jp-content-font-color1, black)));\n",
       "  --sklearn-color-icon: #696969;\n",
       "\n",
       "  @media (prefers-color-scheme: dark) {\n",
       "    /* Redefinition of color scheme for dark theme */\n",
       "    --sklearn-color-text-on-default-background: var(--sg-text-color, var(--theme-code-foreground, var(--jp-content-font-color1, white)));\n",
       "    --sklearn-color-background: var(--sg-background-color, var(--theme-background, var(--jp-layout-color0, #111)));\n",
       "    --sklearn-color-border-box: var(--sg-text-color, var(--theme-code-foreground, var(--jp-content-font-color1, white)));\n",
       "    --sklearn-color-icon: #878787;\n",
       "  }\n",
       "}\n",
       "\n",
       "#sk-container-id-1 {\n",
       "  color: var(--sklearn-color-text);\n",
       "}\n",
       "\n",
       "#sk-container-id-1 pre {\n",
       "  padding: 0;\n",
       "}\n",
       "\n",
       "#sk-container-id-1 input.sk-hidden--visually {\n",
       "  border: 0;\n",
       "  clip: rect(1px 1px 1px 1px);\n",
       "  clip: rect(1px, 1px, 1px, 1px);\n",
       "  height: 1px;\n",
       "  margin: -1px;\n",
       "  overflow: hidden;\n",
       "  padding: 0;\n",
       "  position: absolute;\n",
       "  width: 1px;\n",
       "}\n",
       "\n",
       "#sk-container-id-1 div.sk-dashed-wrapped {\n",
       "  border: 1px dashed var(--sklearn-color-line);\n",
       "  margin: 0 0.4em 0.5em 0.4em;\n",
       "  box-sizing: border-box;\n",
       "  padding-bottom: 0.4em;\n",
       "  background-color: var(--sklearn-color-background);\n",
       "}\n",
       "\n",
       "#sk-container-id-1 div.sk-container {\n",
       "  /* jupyter's `normalize.less` sets `[hidden] { display: none; }`\n",
       "     but bootstrap.min.css set `[hidden] { display: none !important; }`\n",
       "     so we also need the `!important` here to be able to override the\n",
       "     default hidden behavior on the sphinx rendered scikit-learn.org.\n",
       "     See: https://github.com/scikit-learn/scikit-learn/issues/21755 */\n",
       "  display: inline-block !important;\n",
       "  position: relative;\n",
       "}\n",
       "\n",
       "#sk-container-id-1 div.sk-text-repr-fallback {\n",
       "  display: none;\n",
       "}\n",
       "\n",
       "div.sk-parallel-item,\n",
       "div.sk-serial,\n",
       "div.sk-item {\n",
       "  /* draw centered vertical line to link estimators */\n",
       "  background-image: linear-gradient(var(--sklearn-color-text-on-default-background), var(--sklearn-color-text-on-default-background));\n",
       "  background-size: 2px 100%;\n",
       "  background-repeat: no-repeat;\n",
       "  background-position: center center;\n",
       "}\n",
       "\n",
       "/* Parallel-specific style estimator block */\n",
       "\n",
       "#sk-container-id-1 div.sk-parallel-item::after {\n",
       "  content: \"\";\n",
       "  width: 100%;\n",
       "  border-bottom: 2px solid var(--sklearn-color-text-on-default-background);\n",
       "  flex-grow: 1;\n",
       "}\n",
       "\n",
       "#sk-container-id-1 div.sk-parallel {\n",
       "  display: flex;\n",
       "  align-items: stretch;\n",
       "  justify-content: center;\n",
       "  background-color: var(--sklearn-color-background);\n",
       "  position: relative;\n",
       "}\n",
       "\n",
       "#sk-container-id-1 div.sk-parallel-item {\n",
       "  display: flex;\n",
       "  flex-direction: column;\n",
       "}\n",
       "\n",
       "#sk-container-id-1 div.sk-parallel-item:first-child::after {\n",
       "  align-self: flex-end;\n",
       "  width: 50%;\n",
       "}\n",
       "\n",
       "#sk-container-id-1 div.sk-parallel-item:last-child::after {\n",
       "  align-self: flex-start;\n",
       "  width: 50%;\n",
       "}\n",
       "\n",
       "#sk-container-id-1 div.sk-parallel-item:only-child::after {\n",
       "  width: 0;\n",
       "}\n",
       "\n",
       "/* Serial-specific style estimator block */\n",
       "\n",
       "#sk-container-id-1 div.sk-serial {\n",
       "  display: flex;\n",
       "  flex-direction: column;\n",
       "  align-items: center;\n",
       "  background-color: var(--sklearn-color-background);\n",
       "  padding-right: 1em;\n",
       "  padding-left: 1em;\n",
       "}\n",
       "\n",
       "\n",
       "/* Toggleable style: style used for estimator/Pipeline/ColumnTransformer box that is\n",
       "clickable and can be expanded/collapsed.\n",
       "- Pipeline and ColumnTransformer use this feature and define the default style\n",
       "- Estimators will overwrite some part of the style using the `sk-estimator` class\n",
       "*/\n",
       "\n",
       "/* Pipeline and ColumnTransformer style (default) */\n",
       "\n",
       "#sk-container-id-1 div.sk-toggleable {\n",
       "  /* Default theme specific background. It is overwritten whether we have a\n",
       "  specific estimator or a Pipeline/ColumnTransformer */\n",
       "  background-color: var(--sklearn-color-background);\n",
       "}\n",
       "\n",
       "/* Toggleable label */\n",
       "#sk-container-id-1 label.sk-toggleable__label {\n",
       "  cursor: pointer;\n",
       "  display: block;\n",
       "  width: 100%;\n",
       "  margin-bottom: 0;\n",
       "  padding: 0.5em;\n",
       "  box-sizing: border-box;\n",
       "  text-align: center;\n",
       "}\n",
       "\n",
       "#sk-container-id-1 label.sk-toggleable__label-arrow:before {\n",
       "  /* Arrow on the left of the label */\n",
       "  content: \"▸\";\n",
       "  float: left;\n",
       "  margin-right: 0.25em;\n",
       "  color: var(--sklearn-color-icon);\n",
       "}\n",
       "\n",
       "#sk-container-id-1 label.sk-toggleable__label-arrow:hover:before {\n",
       "  color: var(--sklearn-color-text);\n",
       "}\n",
       "\n",
       "/* Toggleable content - dropdown */\n",
       "\n",
       "#sk-container-id-1 div.sk-toggleable__content {\n",
       "  max-height: 0;\n",
       "  max-width: 0;\n",
       "  overflow: hidden;\n",
       "  text-align: left;\n",
       "  /* unfitted */\n",
       "  background-color: var(--sklearn-color-unfitted-level-0);\n",
       "}\n",
       "\n",
       "#sk-container-id-1 div.sk-toggleable__content.fitted {\n",
       "  /* fitted */\n",
       "  background-color: var(--sklearn-color-fitted-level-0);\n",
       "}\n",
       "\n",
       "#sk-container-id-1 div.sk-toggleable__content pre {\n",
       "  margin: 0.2em;\n",
       "  border-radius: 0.25em;\n",
       "  color: var(--sklearn-color-text);\n",
       "  /* unfitted */\n",
       "  background-color: var(--sklearn-color-unfitted-level-0);\n",
       "}\n",
       "\n",
       "#sk-container-id-1 div.sk-toggleable__content.fitted pre {\n",
       "  /* unfitted */\n",
       "  background-color: var(--sklearn-color-fitted-level-0);\n",
       "}\n",
       "\n",
       "#sk-container-id-1 input.sk-toggleable__control:checked~div.sk-toggleable__content {\n",
       "  /* Expand drop-down */\n",
       "  max-height: 200px;\n",
       "  max-width: 100%;\n",
       "  overflow: auto;\n",
       "}\n",
       "\n",
       "#sk-container-id-1 input.sk-toggleable__control:checked~label.sk-toggleable__label-arrow:before {\n",
       "  content: \"▾\";\n",
       "}\n",
       "\n",
       "/* Pipeline/ColumnTransformer-specific style */\n",
       "\n",
       "#sk-container-id-1 div.sk-label input.sk-toggleable__control:checked~label.sk-toggleable__label {\n",
       "  color: var(--sklearn-color-text);\n",
       "  background-color: var(--sklearn-color-unfitted-level-2);\n",
       "}\n",
       "\n",
       "#sk-container-id-1 div.sk-label.fitted input.sk-toggleable__control:checked~label.sk-toggleable__label {\n",
       "  background-color: var(--sklearn-color-fitted-level-2);\n",
       "}\n",
       "\n",
       "/* Estimator-specific style */\n",
       "\n",
       "/* Colorize estimator box */\n",
       "#sk-container-id-1 div.sk-estimator input.sk-toggleable__control:checked~label.sk-toggleable__label {\n",
       "  /* unfitted */\n",
       "  background-color: var(--sklearn-color-unfitted-level-2);\n",
       "}\n",
       "\n",
       "#sk-container-id-1 div.sk-estimator.fitted input.sk-toggleable__control:checked~label.sk-toggleable__label {\n",
       "  /* fitted */\n",
       "  background-color: var(--sklearn-color-fitted-level-2);\n",
       "}\n",
       "\n",
       "#sk-container-id-1 div.sk-label label.sk-toggleable__label,\n",
       "#sk-container-id-1 div.sk-label label {\n",
       "  /* The background is the default theme color */\n",
       "  color: var(--sklearn-color-text-on-default-background);\n",
       "}\n",
       "\n",
       "/* On hover, darken the color of the background */\n",
       "#sk-container-id-1 div.sk-label:hover label.sk-toggleable__label {\n",
       "  color: var(--sklearn-color-text);\n",
       "  background-color: var(--sklearn-color-unfitted-level-2);\n",
       "}\n",
       "\n",
       "/* Label box, darken color on hover, fitted */\n",
       "#sk-container-id-1 div.sk-label.fitted:hover label.sk-toggleable__label.fitted {\n",
       "  color: var(--sklearn-color-text);\n",
       "  background-color: var(--sklearn-color-fitted-level-2);\n",
       "}\n",
       "\n",
       "/* Estimator label */\n",
       "\n",
       "#sk-container-id-1 div.sk-label label {\n",
       "  font-family: monospace;\n",
       "  font-weight: bold;\n",
       "  display: inline-block;\n",
       "  line-height: 1.2em;\n",
       "}\n",
       "\n",
       "#sk-container-id-1 div.sk-label-container {\n",
       "  text-align: center;\n",
       "}\n",
       "\n",
       "/* Estimator-specific */\n",
       "#sk-container-id-1 div.sk-estimator {\n",
       "  font-family: monospace;\n",
       "  border: 1px dotted var(--sklearn-color-border-box);\n",
       "  border-radius: 0.25em;\n",
       "  box-sizing: border-box;\n",
       "  margin-bottom: 0.5em;\n",
       "  /* unfitted */\n",
       "  background-color: var(--sklearn-color-unfitted-level-0);\n",
       "}\n",
       "\n",
       "#sk-container-id-1 div.sk-estimator.fitted {\n",
       "  /* fitted */\n",
       "  background-color: var(--sklearn-color-fitted-level-0);\n",
       "}\n",
       "\n",
       "/* on hover */\n",
       "#sk-container-id-1 div.sk-estimator:hover {\n",
       "  /* unfitted */\n",
       "  background-color: var(--sklearn-color-unfitted-level-2);\n",
       "}\n",
       "\n",
       "#sk-container-id-1 div.sk-estimator.fitted:hover {\n",
       "  /* fitted */\n",
       "  background-color: var(--sklearn-color-fitted-level-2);\n",
       "}\n",
       "\n",
       "/* Specification for estimator info (e.g. \"i\" and \"?\") */\n",
       "\n",
       "/* Common style for \"i\" and \"?\" */\n",
       "\n",
       ".sk-estimator-doc-link,\n",
       "a:link.sk-estimator-doc-link,\n",
       "a:visited.sk-estimator-doc-link {\n",
       "  float: right;\n",
       "  font-size: smaller;\n",
       "  line-height: 1em;\n",
       "  font-family: monospace;\n",
       "  background-color: var(--sklearn-color-background);\n",
       "  border-radius: 1em;\n",
       "  height: 1em;\n",
       "  width: 1em;\n",
       "  text-decoration: none !important;\n",
       "  margin-left: 1ex;\n",
       "  /* unfitted */\n",
       "  border: var(--sklearn-color-unfitted-level-1) 1pt solid;\n",
       "  color: var(--sklearn-color-unfitted-level-1);\n",
       "}\n",
       "\n",
       ".sk-estimator-doc-link.fitted,\n",
       "a:link.sk-estimator-doc-link.fitted,\n",
       "a:visited.sk-estimator-doc-link.fitted {\n",
       "  /* fitted */\n",
       "  border: var(--sklearn-color-fitted-level-1) 1pt solid;\n",
       "  color: var(--sklearn-color-fitted-level-1);\n",
       "}\n",
       "\n",
       "/* On hover */\n",
       "div.sk-estimator:hover .sk-estimator-doc-link:hover,\n",
       ".sk-estimator-doc-link:hover,\n",
       "div.sk-label-container:hover .sk-estimator-doc-link:hover,\n",
       ".sk-estimator-doc-link:hover {\n",
       "  /* unfitted */\n",
       "  background-color: var(--sklearn-color-unfitted-level-3);\n",
       "  color: var(--sklearn-color-background);\n",
       "  text-decoration: none;\n",
       "}\n",
       "\n",
       "div.sk-estimator.fitted:hover .sk-estimator-doc-link.fitted:hover,\n",
       ".sk-estimator-doc-link.fitted:hover,\n",
       "div.sk-label-container:hover .sk-estimator-doc-link.fitted:hover,\n",
       ".sk-estimator-doc-link.fitted:hover {\n",
       "  /* fitted */\n",
       "  background-color: var(--sklearn-color-fitted-level-3);\n",
       "  color: var(--sklearn-color-background);\n",
       "  text-decoration: none;\n",
       "}\n",
       "\n",
       "/* Span, style for the box shown on hovering the info icon */\n",
       ".sk-estimator-doc-link span {\n",
       "  display: none;\n",
       "  z-index: 9999;\n",
       "  position: relative;\n",
       "  font-weight: normal;\n",
       "  right: .2ex;\n",
       "  padding: .5ex;\n",
       "  margin: .5ex;\n",
       "  width: min-content;\n",
       "  min-width: 20ex;\n",
       "  max-width: 50ex;\n",
       "  color: var(--sklearn-color-text);\n",
       "  box-shadow: 2pt 2pt 4pt #999;\n",
       "  /* unfitted */\n",
       "  background: var(--sklearn-color-unfitted-level-0);\n",
       "  border: .5pt solid var(--sklearn-color-unfitted-level-3);\n",
       "}\n",
       "\n",
       ".sk-estimator-doc-link.fitted span {\n",
       "  /* fitted */\n",
       "  background: var(--sklearn-color-fitted-level-0);\n",
       "  border: var(--sklearn-color-fitted-level-3);\n",
       "}\n",
       "\n",
       ".sk-estimator-doc-link:hover span {\n",
       "  display: block;\n",
       "}\n",
       "\n",
       "/* \"?\"-specific style due to the `<a>` HTML tag */\n",
       "\n",
       "#sk-container-id-1 a.estimator_doc_link {\n",
       "  float: right;\n",
       "  font-size: 1rem;\n",
       "  line-height: 1em;\n",
       "  font-family: monospace;\n",
       "  background-color: var(--sklearn-color-background);\n",
       "  border-radius: 1rem;\n",
       "  height: 1rem;\n",
       "  width: 1rem;\n",
       "  text-decoration: none;\n",
       "  /* unfitted */\n",
       "  color: var(--sklearn-color-unfitted-level-1);\n",
       "  border: var(--sklearn-color-unfitted-level-1) 1pt solid;\n",
       "}\n",
       "\n",
       "#sk-container-id-1 a.estimator_doc_link.fitted {\n",
       "  /* fitted */\n",
       "  border: var(--sklearn-color-fitted-level-1) 1pt solid;\n",
       "  color: var(--sklearn-color-fitted-level-1);\n",
       "}\n",
       "\n",
       "/* On hover */\n",
       "#sk-container-id-1 a.estimator_doc_link:hover {\n",
       "  /* unfitted */\n",
       "  background-color: var(--sklearn-color-unfitted-level-3);\n",
       "  color: var(--sklearn-color-background);\n",
       "  text-decoration: none;\n",
       "}\n",
       "\n",
       "#sk-container-id-1 a.estimator_doc_link.fitted:hover {\n",
       "  /* fitted */\n",
       "  background-color: var(--sklearn-color-fitted-level-3);\n",
       "}\n",
       "</style><div id=\"sk-container-id-1\" class=\"sk-top-container\"><div class=\"sk-text-repr-fallback\"><pre>RandomForestClassifier(class_weight=&#x27;balanced&#x27;, random_state=42)</pre><b>In a Jupyter environment, please rerun this cell to show the HTML representation or trust the notebook. <br />On GitHub, the HTML representation is unable to render, please try loading this page with nbviewer.org.</b></div><div class=\"sk-container\" hidden><div class=\"sk-item\"><div class=\"sk-estimator fitted sk-toggleable\"><input class=\"sk-toggleable__control sk-hidden--visually\" id=\"sk-estimator-id-1\" type=\"checkbox\" checked><label for=\"sk-estimator-id-1\" class=\"sk-toggleable__label fitted sk-toggleable__label-arrow fitted\">&nbsp;&nbsp;RandomForestClassifier<a class=\"sk-estimator-doc-link fitted\" rel=\"noreferrer\" target=\"_blank\" href=\"https://scikit-learn.org/1.5/modules/generated/sklearn.ensemble.RandomForestClassifier.html\">?<span>Documentation for RandomForestClassifier</span></a><span class=\"sk-estimator-doc-link fitted\">i<span>Fitted</span></span></label><div class=\"sk-toggleable__content fitted\"><pre>RandomForestClassifier(class_weight=&#x27;balanced&#x27;, random_state=42)</pre></div> </div></div></div></div>"
      ],
      "text/plain": [
       "RandomForestClassifier(class_weight='balanced', random_state=42)"
      ]
     },
     "execution_count": 33,
     "metadata": {},
     "output_type": "execute_result"
    }
   ],
   "source": [
    "sm_street = SMOTE(random_state=42)\n",
    "\n",
    "X_street_resampled, y_street_resampled = sm_street.fit_resample(X_street, y_street)\n",
    "\n",
    "X_train_street, X_test_street, y_train_street, y_test_street = train_test_split(X_street_resampled, y_street_resampled, test_size=0.2, random_state=42)\n",
    "rfc_street = RandomForestClassifier(random_state=42, n_estimators=100, class_weight=\"balanced\")\n",
    "rfc_street.fit(X_train_street, y_train_street)"
   ]
  },
  {
   "cell_type": "code",
   "execution_count": 34,
   "metadata": {},
   "outputs": [],
   "source": [
    "y_predict_street = rfc_street.predict(X_test_street)"
   ]
  },
  {
   "cell_type": "code",
   "execution_count": 35,
   "metadata": {},
   "outputs": [
    {
     "data": {
      "text/plain": [
       "array([0.33064516, 0.10215054, 0.06451613, 0.10483871, 0.11827957,\n",
       "       0.10483871, 0.14016173, 0.21024259, 0.18598383, 0.22102426])"
      ]
     },
     "execution_count": 35,
     "metadata": {},
     "output_type": "execute_result"
    }
   ],
   "source": [
    "scores = cross_val_score(rfc_street, X_street, y_street, cv=10)\n",
    "scores"
   ]
  },
  {
   "cell_type": "code",
   "execution_count": 36,
   "metadata": {},
   "outputs": [
    {
     "data": {
      "text/plain": [
       "array([[226,   9,   5,  17,  20,  16,   8,   7,   3,  11],\n",
       "       [  9, 254,   7,  13,   7,   4,   2,   4,   7,   6],\n",
       "       [  8,   2, 236,  16,  12,   7,   8,   6,   6,   3],\n",
       "       [ 22,   7,  17, 111,  23,  25,  41,  16,  11,  13],\n",
       "       [ 11,  18,  21,  29, 180,  13,  10,   3,  20,  12],\n",
       "       [ 16,   7,  10,  15,  16, 221,  11,   9,  11,   9],\n",
       "       [ 14,  13,  11,  18,  16,   6, 194,   5,   4,  12],\n",
       "       [  4,   5,   3,   3,   4,   8,   2, 259,   5,   1],\n",
       "       [  1,   8,   5,   5,  11,   5,   3,   4, 269,   4],\n",
       "       [  8,   2,   3,   9,   5,   6,   7,   2,   5, 258]])"
      ]
     },
     "execution_count": 36,
     "metadata": {},
     "output_type": "execute_result"
    }
   ],
   "source": [
    "confusion_matrix(y_test_street, y_predict_street)"
   ]
  },
  {
   "cell_type": "code",
   "execution_count": 37,
   "metadata": {},
   "outputs": [
    {
     "data": {
      "text/plain": [
       "(np.float64(0.7182823682498374),\n",
       " np.float64(0.7111433898904923),\n",
       " np.float64(0.7138020099910789))"
      ]
     },
     "execution_count": 37,
     "metadata": {},
     "output_type": "execute_result"
    }
   ],
   "source": [
    "recall = recall_score(y_test_street, y_predict_street, average='weighted')\n",
    "precision = precision_score(y_test_street, y_predict_street, average='weighted')\n",
    "f1 = f1_score(y_test_street, y_predict_street, average='weighted')\n",
    "\n",
    "recall, precision, f1"
   ]
  },
  {
   "cell_type": "code",
   "execution_count": 38,
   "metadata": {},
   "outputs": [
    {
     "data": {
      "text/plain": [
       "(array([[0.16955395, 0.83044605]]), 'Ocurre')"
      ]
     },
     "execution_count": 38,
     "metadata": {},
     "output_type": "execute_result"
    }
   ],
   "source": [
    "# Un dato de prueba\n",
    "\n",
    "happen = [\"No ocurre\", \"Ocurre\"]\n",
    "\n",
    "test = {\n",
    "    \"hour\": [7],\n",
    "    \"week_day\": [4],\n",
    "    \"day_type\": [1],\n",
    "    \"day\": [10],\n",
    "    \"minute\": [20]\n",
    "}\n",
    "\n",
    "rfc_happen.predict_proba(pd.DataFrame(test)), happen[rfc_happen.predict(pd.DataFrame(test))[0]]\n"
   ]
  },
  {
   "cell_type": "code",
   "execution_count": 39,
   "metadata": {},
   "outputs": [
    {
     "data": {
      "text/plain": [
       "(array([[0.26267593, 0.73732407]]), 'JAM')"
      ]
     },
     "execution_count": 39,
     "metadata": {},
     "output_type": "execute_result"
    }
   ],
   "source": [
    "rfc_type.predict_proba(pd.DataFrame(test)), le_type.classes_[rfc_type.predict(pd.DataFrame(test))][0]"
   ]
  },
  {
   "cell_type": "code",
   "execution_count": 40,
   "metadata": {},
   "outputs": [],
   "source": [
    "test_street = pd.concat([pd.DataFrame({\"type\": [rfc_type.predict(pd.DataFrame(test))[0]]}), pd.DataFrame(test)], axis = 1)"
   ]
  },
  {
   "cell_type": "code",
   "execution_count": 41,
   "metadata": {},
   "outputs": [
    {
     "data": {
      "text/plain": [
       "(array([[0.02      , 0.04      , 0.02      , 0.57747996, 0.        ,\n",
       "         0.00848325, 0.11      , 0.01      , 0.21      , 0.00403679]]),\n",
       " 'Av. Edmundo Pérez Zujovic')"
      ]
     },
     "execution_count": 41,
     "metadata": {},
     "output_type": "execute_result"
    }
   ],
   "source": [
    "rfc_street.predict_proba(pd.DataFrame(test_street)), le_street.classes_[rfc_street.predict(pd.DataFrame(test_street))[0]]"
   ]
  },
  {
   "cell_type": "markdown",
   "metadata": {},
   "source": [
    "Ocurrirá un evento tipo JAM en Av. Edmundo Pérez Zujovic el 10 de Octubre a las 7:20."
   ]
  },
  {
   "cell_type": "code",
   "execution_count": 42,
   "metadata": {},
   "outputs": [],
   "source": [
    "# Distribución de probabilidad de evento durante el día\n",
    "\n",
    "prob_pred = []\n",
    "\n",
    "for h in range(0, 24):\n",
    "    for m in range(0, 60):\n",
    "        pred = rfc_happen.predict_proba(pd.DataFrame({\n",
    "                \"hour\": [h],\n",
    "                \"week_day\": [4],\n",
    "                \"day_type\": [1],\n",
    "                \"day\": [8],\n",
    "                \"minute\": [m]\n",
    "            }))\n",
    "        prob_pred.append(pred[0][1])"
   ]
  },
  {
   "cell_type": "code",
   "execution_count": 43,
   "metadata": {},
   "outputs": [
    {
     "data": {
      "image/png": "[encoded data removed]",
      "text/plain": [
       "<Figure size 1600x800 with 1 Axes>"
      ]
     },
     "metadata": {},
     "output_type": "display_data"
    }
   ],
   "source": [
    "import matplotlib.pyplot as plt\n",
    "\n",
    "plt.figure(figsize=(16, 8))\n",
    "\n",
    "# Crear la lista de etiquetas de horas y minutos cada media hora\n",
    "xticks_labels = [f\"{h:02}:{m:02}\" for h in range(24) for m in [0, 30]]\n",
    "\n",
    "# Crear los índices para las etiquetas cada media hora (cada 30 minutos son 2 puntos por hora)\n",
    "xticks_positions = np.arange(0, len(prob_pred), 30)\n",
    "\n",
    "plt.plot(prob_pred)\n",
    "plt.hlines(0.5, 0, len(prob_pred), colors=\"r\")\n",
    "plt.xticks(xticks_positions, xticks_labels, rotation=45)\n",
    "\n",
    "# Mostrar el gráfico\n",
    "plt.xlabel(\"Tiempo (Hora:Minuto)\")\n",
    "plt.ylabel(\"Probabilidad de evento\")\n",
    "plt.title(\"Probabilidad de que un evento ocurra durante el día\")\n",
    "plt.show()"
   ]
  }
 ],
 "metadata": {
  "kernelspec": {
   "display_name": ".venv",
   "language": "python",
   "name": "python3"
  },
  "language_info": {
   "codemirror_mode": {
    "name": "ipython",
    "version": 3
   },
   "file_extension": ".py",
   "mimetype": "text/x-python",
   "name": "python",
   "nbconvert_exporter": "python",
   "pygments_lexer": "ipython3",
   "version": "3.12.4"
  }
 },
 "nbformat": 4,
 "nbformat_minor": 2
}
