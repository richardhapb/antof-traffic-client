{
 "cells": [
  {
   "cell_type": "code",
   "execution_count": 1,
   "metadata": {},
   "outputs": [
    {
     "data": {
      "text/plain": [
       "8567"
      ]
     },
     "execution_count": 1,
     "metadata": {},
     "output_type": "execute_result"
    }
   ],
   "source": [
    "import utils\n",
    "from geopy.distance import geodesic\n",
    "\n",
    "alerts, jams = utils.load_data()\n",
    "alerts.head()\n",
    "alerts.shape[0]"
   ]
  },
  {
   "cell_type": "code",
   "execution_count": 2,
   "metadata": {},
   "outputs": [],
   "source": [
    "geo = utils.separate_coords(alerts)[['geometry']]"
   ]
  },
  {
   "cell_type": "code",
   "execution_count": 3,
   "metadata": {},
   "outputs": [
    {
     "data": {
      "text/html": [
       "<div>\n",
       "<style scoped>\n",
       "    .dataframe tbody tr th:only-of-type {\n",
       "        vertical-align: middle;\n",
       "    }\n",
       "\n",
       "    .dataframe tbody tr th {\n",
       "        vertical-align: top;\n",
       "    }\n",
       "\n",
       "    .dataframe thead th {\n",
       "        text-align: right;\n",
       "    }\n",
       "</style>\n",
       "<table border=\"1\" class=\"dataframe\">\n",
       "  <thead>\n",
       "    <tr style=\"text-align: right;\">\n",
       "      <th></th>\n",
       "      <th>geometry</th>\n",
       "    </tr>\n",
       "  </thead>\n",
       "  <tbody>\n",
       "    <tr>\n",
       "      <th>0</th>\n",
       "      <td>POINT (-7838275.742 -2714079.538)</td>\n",
       "    </tr>\n",
       "    <tr>\n",
       "      <th>1</th>\n",
       "      <td>POINT (-7836033.099 -2706864.568)</td>\n",
       "    </tr>\n",
       "    <tr>\n",
       "      <th>2</th>\n",
       "      <td>POINT (-7835291.266 -2701501.184)</td>\n",
       "    </tr>\n",
       "    <tr>\n",
       "      <th>3</th>\n",
       "      <td>POINT (-7835220.801 -2706725.213)</td>\n",
       "    </tr>\n",
       "    <tr>\n",
       "      <th>4</th>\n",
       "      <td>POINT (-7835235.829 -2705220.449)</td>\n",
       "    </tr>\n",
       "    <tr>\n",
       "      <th>...</th>\n",
       "      <td>...</td>\n",
       "    </tr>\n",
       "    <tr>\n",
       "      <th>5749</th>\n",
       "      <td>POINT (-7835603.406 -2707813.237)</td>\n",
       "    </tr>\n",
       "    <tr>\n",
       "      <th>5750</th>\n",
       "      <td>POINT (-7835559.546 -2707731.222)</td>\n",
       "    </tr>\n",
       "    <tr>\n",
       "      <th>5751</th>\n",
       "      <td>POINT (-7835084.769 -2709896.666)</td>\n",
       "    </tr>\n",
       "    <tr>\n",
       "      <th>5752</th>\n",
       "      <td>POINT (-7835859.441 -2702297.706)</td>\n",
       "    </tr>\n",
       "    <tr>\n",
       "      <th>5753</th>\n",
       "      <td>POINT (-7836304.051 -2707583.111)</td>\n",
       "    </tr>\n",
       "  </tbody>\n",
       "</table>\n",
       "<p>5754 rows × 1 columns</p>\n",
       "</div>"
      ],
      "text/plain": [
       "                               geometry\n",
       "0     POINT (-7838275.742 -2714079.538)\n",
       "1     POINT (-7836033.099 -2706864.568)\n",
       "2     POINT (-7835291.266 -2701501.184)\n",
       "3     POINT (-7835220.801 -2706725.213)\n",
       "4     POINT (-7835235.829 -2705220.449)\n",
       "...                                 ...\n",
       "5749  POINT (-7835603.406 -2707813.237)\n",
       "5750  POINT (-7835559.546 -2707731.222)\n",
       "5751  POINT (-7835084.769 -2709896.666)\n",
       "5752  POINT (-7835859.441 -2702297.706)\n",
       "5753  POINT (-7836304.051 -2707583.111)\n",
       "\n",
       "[5754 rows x 1 columns]"
      ]
     },
     "execution_count": 3,
     "metadata": {},
     "output_type": "execute_result"
    }
   ],
   "source": [
    "geo"
   ]
  },
  {
   "cell_type": "code",
   "execution_count": 4,
   "metadata": {},
   "outputs": [
    {
     "data": {
      "text/plain": [
       "7555.47738901568"
      ]
     },
     "execution_count": 4,
     "metadata": {},
     "output_type": "execute_result"
    }
   ],
   "source": [
    "geo.to_crs(epsg=3857, inplace=True)\n",
    "geo.iloc[0].geometry.distance(geo.iloc[1].geometry)"
   ]
  },
  {
   "cell_type": "code",
   "execution_count": 5,
   "metadata": {},
   "outputs": [
    {
     "data": {
      "text/plain": [
       "([-7838275.74179753, -2714079.5383853773],\n",
       " [-7836033.099336009, -2706864.5682977256])"
      ]
     },
     "execution_count": 5,
     "metadata": {},
     "output_type": "execute_result"
    }
   ],
   "source": [
    "[geo.iloc[0].geometry.x, geo.iloc[0].geometry.y], [geo.iloc[1].geometry.x, geo.iloc[1].geometry.y]"
   ]
  },
  {
   "cell_type": "code",
   "execution_count": 6,
   "metadata": {},
   "outputs": [
    {
     "data": {
      "text/plain": [
       "np.float64(6913.320824700197)"
      ]
     },
     "execution_count": 6,
     "metadata": {},
     "output_type": "execute_result"
    }
   ],
   "source": [
    "geo.to_crs(epsg=4326, inplace=True)\n",
    "utils.haversine([geo.iloc[0].geometry.x, geo.iloc[1].geometry.x], [geo.iloc[0].geometry.y, geo.iloc[1].geometry.y])"
   ]
  },
  {
   "cell_type": "code",
   "execution_count": 7,
   "metadata": {},
   "outputs": [
    {
     "data": {
      "text/plain": [
       "([-70.412429, -23.676846], [-70.392283, -23.617474999999995])"
      ]
     },
     "execution_count": 7,
     "metadata": {},
     "output_type": "execute_result"
    }
   ],
   "source": [
    "[geo.iloc[0].geometry.x, geo.iloc[0].geometry.y], [geo.iloc[1].geometry.x, geo.iloc[1].geometry.y]"
   ]
  },
  {
   "cell_type": "code",
   "execution_count": 8,
   "metadata": {},
   "outputs": [
    {
     "data": {
      "text/plain": [
       "6889.294096828873"
      ]
     },
     "execution_count": 8,
     "metadata": {},
     "output_type": "execute_result"
    }
   ],
   "source": [
    "geodesic([geo.iloc[0].geometry.y, geo.iloc[0].geometry.x], [geo.iloc[1].geometry.y, geo.iloc[1].geometry.x]).meters"
   ]
  },
  {
   "cell_type": "code",
   "execution_count": 9,
   "metadata": {},
   "outputs": [],
   "source": [
    "\n",
    "feriados = utils.get_holidays()"
   ]
  },
  {
   "cell_type": "code",
   "execution_count": 10,
   "metadata": {},
   "outputs": [
    {
     "data": {
      "text/plain": [
       "subtype\n",
       "                  368\n",
       "ACCIDENT_MAJOR     57\n",
       "ACCIDENT_MINOR      2\n",
       "Name: count, dtype: int64"
      ]
     },
     "execution_count": 10,
     "metadata": {},
     "output_type": "execute_result"
    }
   ],
   "source": [
    "alerts[alerts['type'] == 'ACCIDENT'].subtype.value_counts()"
   ]
  },
  {
   "cell_type": "code",
   "execution_count": 11,
   "metadata": {},
   "outputs": [],
   "source": [
    "d = utils.separate_coords(alerts)\n",
    "d = utils.extract_event(d, 'ACCIDENT')"
   ]
  },
  {
   "cell_type": "code",
   "execution_count": 12,
   "metadata": {},
   "outputs": [
    {
     "data": {
      "text/html": [
       "<div>\n",
       "<style scoped>\n",
       "    .dataframe tbody tr th:only-of-type {\n",
       "        vertical-align: middle;\n",
       "    }\n",
       "\n",
       "    .dataframe tbody tr th {\n",
       "        vertical-align: top;\n",
       "    }\n",
       "\n",
       "    .dataframe thead th {\n",
       "        text-align: right;\n",
       "    }\n",
       "</style>\n",
       "<table border=\"1\" class=\"dataframe\">\n",
       "  <thead>\n",
       "    <tr style=\"text-align: right;\">\n",
       "      <th></th>\n",
       "      <th>uuid</th>\n",
       "      <th>street</th>\n",
       "      <th>inicio</th>\n",
       "      <th>fin</th>\n",
       "      <th>x</th>\n",
       "      <th>y</th>\n",
       "      <th>geometry</th>\n",
       "      <th>hour</th>\n",
       "      <th>day</th>\n",
       "      <th>day_type</th>\n",
       "    </tr>\n",
       "  </thead>\n",
       "  <tbody>\n",
       "    <tr>\n",
       "      <th>4</th>\n",
       "      <td>e87552f7-4572-4096-9fdd-9400ad90e7f8</td>\n",
       "      <td>Irarrázaval</td>\n",
       "      <td>2024-08-23 11:12:19-04:00</td>\n",
       "      <td>2024-08-23 14:58:45</td>\n",
       "      <td>-70.385121</td>\n",
       "      <td>-23.603942</td>\n",
       "      <td>POINT (-7835235.829 -2705220.449)</td>\n",
       "      <td>11</td>\n",
       "      <td>4</td>\n",
       "      <td>1</td>\n",
       "    </tr>\n",
       "    <tr>\n",
       "      <th>88</th>\n",
       "      <td>dcc53b30-3046-4d56-bc84-29284233f1f0</td>\n",
       "      <td>Díaz Gana</td>\n",
       "      <td>2024-08-23 14:34:02-04:00</td>\n",
       "      <td>2024-08-23 14:58:45</td>\n",
       "      <td>-70.403283</td>\n",
       "      <td>-23.665486</td>\n",
       "      <td>POINT (-7837257.614 -2712698.778)</td>\n",
       "      <td>14</td>\n",
       "      <td>4</td>\n",
       "      <td>1</td>\n",
       "    </tr>\n",
       "    <tr>\n",
       "      <th>89</th>\n",
       "      <td>2340df84-4283-49c7-91ed-dff4a345b272</td>\n",
       "      <td>Av. Angamos</td>\n",
       "      <td>2024-08-23 14:33:40-04:00</td>\n",
       "      <td>2024-08-23 14:58:45</td>\n",
       "      <td>-70.403216</td>\n",
       "      <td>-23.665352</td>\n",
       "      <td>POINT (-7837250.155 -2712682.492)</td>\n",
       "      <td>14</td>\n",
       "      <td>4</td>\n",
       "      <td>1</td>\n",
       "    </tr>\n",
       "    <tr>\n",
       "      <th>96</th>\n",
       "      <td>4a3425e5-838a-4a94-acc6-1c2880648355</td>\n",
       "      <td>Av. Edmundo Pérez Zujovic</td>\n",
       "      <td>2024-08-23 14:43:35-04:00</td>\n",
       "      <td>2024-08-23 14:58:45</td>\n",
       "      <td>-70.396410</td>\n",
       "      <td>-23.628191</td>\n",
       "      <td>POINT (-7836492.515 -2708166.572)</td>\n",
       "      <td>14</td>\n",
       "      <td>4</td>\n",
       "      <td>1</td>\n",
       "    </tr>\n",
       "    <tr>\n",
       "      <th>101</th>\n",
       "      <td>c83aab00-41d5-4795-8314-1bc05e851a4a</td>\n",
       "      <td>Av. Grecia</td>\n",
       "      <td>2024-08-23 15:29:55-04:00</td>\n",
       "      <td>2024-08-23 14:58:45</td>\n",
       "      <td>-70.402631</td>\n",
       "      <td>-23.654842</td>\n",
       "      <td>POINT (-7837185.033 -2711405.154)</td>\n",
       "      <td>15</td>\n",
       "      <td>4</td>\n",
       "      <td>1</td>\n",
       "    </tr>\n",
       "    <tr>\n",
       "      <th>...</th>\n",
       "      <td>...</td>\n",
       "      <td>...</td>\n",
       "      <td>...</td>\n",
       "      <td>...</td>\n",
       "      <td>...</td>\n",
       "      <td>...</td>\n",
       "      <td>...</td>\n",
       "      <td>...</td>\n",
       "      <td>...</td>\n",
       "      <td>...</td>\n",
       "    </tr>\n",
       "    <tr>\n",
       "      <th>5734</th>\n",
       "      <td>5bec6474-d702-4f0a-a24a-24e7a9fa589f</td>\n",
       "      <td>Av. Pedro Aguirre Cerda</td>\n",
       "      <td>2024-09-19 17:21:45-03:00</td>\n",
       "      <td>2024-09-19 11:46:32</td>\n",
       "      <td>-70.388943</td>\n",
       "      <td>-23.617106</td>\n",
       "      <td>POINT (-7835661.292 -2706819.736)</td>\n",
       "      <td>17</td>\n",
       "      <td>3</td>\n",
       "      <td>1</td>\n",
       "    </tr>\n",
       "    <tr>\n",
       "      <th>5744</th>\n",
       "      <td>5b4d292e-89cf-4466-b42f-f38e5c0bb2cd</td>\n",
       "      <td>Av. Argentina</td>\n",
       "      <td>2024-09-19 21:50:50-03:00</td>\n",
       "      <td>2024-09-19 11:46:32</td>\n",
       "      <td>-70.396345</td>\n",
       "      <td>-23.659360</td>\n",
       "      <td>POINT (-7836485.279 -2711954.239)</td>\n",
       "      <td>21</td>\n",
       "      <td>3</td>\n",
       "      <td>1</td>\n",
       "    </tr>\n",
       "    <tr>\n",
       "      <th>5745</th>\n",
       "      <td>36eea7a0-3942-468b-a90e-acdc84e0c0c6</td>\n",
       "      <td>Av. Pedro Aguirre Cerda</td>\n",
       "      <td>2024-09-19 21:54:29-03:00</td>\n",
       "      <td>2024-09-20 01:07:16</td>\n",
       "      <td>-70.390912</td>\n",
       "      <td>-23.577868</td>\n",
       "      <td>POINT (-7835880.48 -2702053.206)</td>\n",
       "      <td>21</td>\n",
       "      <td>3</td>\n",
       "      <td>1</td>\n",
       "    </tr>\n",
       "    <tr>\n",
       "      <th>5748</th>\n",
       "      <td>631ad6ad-ced7-42db-b71e-3ebe975b2953</td>\n",
       "      <td>Av. Huamachuco</td>\n",
       "      <td>2024-09-19 22:55:17-03:00</td>\n",
       "      <td>2024-09-20 01:07:16</td>\n",
       "      <td>-70.382609</td>\n",
       "      <td>-23.570419</td>\n",
       "      <td>POINT (-7834956.195 -2701148.482)</td>\n",
       "      <td>22</td>\n",
       "      <td>3</td>\n",
       "      <td>1</td>\n",
       "    </tr>\n",
       "    <tr>\n",
       "      <th>5751</th>\n",
       "      <td>2972ee44-b5fd-4c1a-885d-a2ac6367a7fa</td>\n",
       "      <td>Angelmo</td>\n",
       "      <td>2024-09-19 23:29:38-03:00</td>\n",
       "      <td>2024-09-20 01:07:16</td>\n",
       "      <td>-70.383764</td>\n",
       "      <td>-23.642429</td>\n",
       "      <td>POINT (-7835084.769 -2709896.666)</td>\n",
       "      <td>23</td>\n",
       "      <td>3</td>\n",
       "      <td>1</td>\n",
       "    </tr>\n",
       "  </tbody>\n",
       "</table>\n",
       "<p>427 rows × 10 columns</p>\n",
       "</div>"
      ],
      "text/plain": [
       "                                      uuid                     street  \\\n",
       "4     e87552f7-4572-4096-9fdd-9400ad90e7f8                Irarrázaval   \n",
       "88    dcc53b30-3046-4d56-bc84-29284233f1f0                  Díaz Gana   \n",
       "89    2340df84-4283-49c7-91ed-dff4a345b272                Av. Angamos   \n",
       "96    4a3425e5-838a-4a94-acc6-1c2880648355  Av. Edmundo Pérez Zujovic   \n",
       "101   c83aab00-41d5-4795-8314-1bc05e851a4a                 Av. Grecia   \n",
       "...                                    ...                        ...   \n",
       "5734  5bec6474-d702-4f0a-a24a-24e7a9fa589f    Av. Pedro Aguirre Cerda   \n",
       "5744  5b4d292e-89cf-4466-b42f-f38e5c0bb2cd              Av. Argentina   \n",
       "5745  36eea7a0-3942-468b-a90e-acdc84e0c0c6    Av. Pedro Aguirre Cerda   \n",
       "5748  631ad6ad-ced7-42db-b71e-3ebe975b2953             Av. Huamachuco   \n",
       "5751  2972ee44-b5fd-4c1a-885d-a2ac6367a7fa                    Angelmo   \n",
       "\n",
       "                        inicio                 fin          x          y  \\\n",
       "4    2024-08-23 11:12:19-04:00 2024-08-23 14:58:45 -70.385121 -23.603942   \n",
       "88   2024-08-23 14:34:02-04:00 2024-08-23 14:58:45 -70.403283 -23.665486   \n",
       "89   2024-08-23 14:33:40-04:00 2024-08-23 14:58:45 -70.403216 -23.665352   \n",
       "96   2024-08-23 14:43:35-04:00 2024-08-23 14:58:45 -70.396410 -23.628191   \n",
       "101  2024-08-23 15:29:55-04:00 2024-08-23 14:58:45 -70.402631 -23.654842   \n",
       "...                        ...                 ...        ...        ...   \n",
       "5734 2024-09-19 17:21:45-03:00 2024-09-19 11:46:32 -70.388943 -23.617106   \n",
       "5744 2024-09-19 21:50:50-03:00 2024-09-19 11:46:32 -70.396345 -23.659360   \n",
       "5745 2024-09-19 21:54:29-03:00 2024-09-20 01:07:16 -70.390912 -23.577868   \n",
       "5748 2024-09-19 22:55:17-03:00 2024-09-20 01:07:16 -70.382609 -23.570419   \n",
       "5751 2024-09-19 23:29:38-03:00 2024-09-20 01:07:16 -70.383764 -23.642429   \n",
       "\n",
       "                               geometry  hour  day  day_type  \n",
       "4     POINT (-7835235.829 -2705220.449)    11    4         1  \n",
       "88    POINT (-7837257.614 -2712698.778)    14    4         1  \n",
       "89    POINT (-7837250.155 -2712682.492)    14    4         1  \n",
       "96    POINT (-7836492.515 -2708166.572)    14    4         1  \n",
       "101   POINT (-7837185.033 -2711405.154)    15    4         1  \n",
       "...                                 ...   ...  ...       ...  \n",
       "5734  POINT (-7835661.292 -2706819.736)    17    3         1  \n",
       "5744  POINT (-7836485.279 -2711954.239)    21    3         1  \n",
       "5745   POINT (-7835880.48 -2702053.206)    21    3         1  \n",
       "5748  POINT (-7834956.195 -2701148.482)    22    3         1  \n",
       "5751  POINT (-7835084.769 -2709896.666)    23    3         1  \n",
       "\n",
       "[427 rows x 10 columns]"
      ]
     },
     "execution_count": 12,
     "metadata": {},
     "output_type": "execute_result"
    }
   ],
   "source": [
    "d"
   ]
  },
  {
   "cell_type": "code",
   "execution_count": 13,
   "metadata": {},
   "outputs": [
    {
     "data": {
      "text/plain": [
       "['2024-01-01',\n",
       " '2024-03-29',\n",
       " '2024-03-30',\n",
       " '2024-05-01',\n",
       " '2024-05-21',\n",
       " '2024-06-09',\n",
       " '2024-06-20',\n",
       " '2024-06-29',\n",
       " '2024-07-16',\n",
       " '2024-08-15',\n",
       " '2024-09-18',\n",
       " '2024-09-19',\n",
       " '2024-09-20',\n",
       " '2024-10-12',\n",
       " '2024-10-27',\n",
       " '2024-10-31',\n",
       " '2024-11-01',\n",
       " '2024-11-24',\n",
       " '2024-12-08',\n",
       " '2024-12-25']"
      ]
     },
     "execution_count": 13,
     "metadata": {},
     "output_type": "execute_result"
    }
   ],
   "source": [
    "feriados"
   ]
  },
  {
   "cell_type": "code",
   "execution_count": 24,
   "metadata": {},
   "outputs": [],
   "source": [
    "\n",
    "d[\"day_type\"] = d[\"inicio\"].apply(\n",
    "        lambda x: 0 if (x.weekday() >= 5) | (x.strftime(\"%Y-%m-%d\") in feriados) else 1\n",
    "    )"
   ]
  },
  {
   "cell_type": "code",
   "execution_count": 28,
   "metadata": {},
   "outputs": [
    {
     "data": {
      "text/plain": [
       "uuid                  e330c1a1-cabb-4dc1-beeb-c2c262ea9e69\n",
       "street                             Av. Pedro Aguirre Cerda\n",
       "inicio                           2024-09-18 20:21:48-03:00\n",
       "fin                                    2024-09-18 22:14:42\n",
       "x                                               -70.390511\n",
       "y                                               -23.581039\n",
       "geometry    POINT (-7835835.841198322 -2702438.3580742427)\n",
       "hour                                                    20\n",
       "day                                                      2\n",
       "day_type                                                 0\n",
       "Name: 5702, dtype: object"
      ]
     },
     "execution_count": 28,
     "metadata": {},
     "output_type": "execute_result"
    }
   ],
   "source": [
    "d.iloc[-15]"
   ]
  },
  {
   "cell_type": "code",
   "execution_count": null,
   "metadata": {},
   "outputs": [],
   "source": []
  }
 ],
 "metadata": {
  "kernelspec": {
   "display_name": ".venv",
   "language": "python",
   "name": "python3"
  },
  "language_info": {
   "codemirror_mode": {
    "name": "ipython",
    "version": 3
   },
   "file_extension": ".py",
   "mimetype": "text/x-python",
   "name": "python",
   "nbconvert_exporter": "python",
   "pygments_lexer": "ipython3",
   "version": "3.12.4"
  }
 },
 "nbformat": 4,
 "nbformat_minor": 2
}
