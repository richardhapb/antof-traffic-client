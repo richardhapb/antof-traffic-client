{
 "cells": [
  {
   "cell_type": "code",
   "execution_count": 88,
   "metadata": {},
   "outputs": [],
   "source": [
    "import geopandas as gpd\n",
    "import scipy.spatial as spatial\n",
    "import numpy as np\n",
    "import pandas as pd\n",
    "import utils\n",
    "from geopy.distance import geodesic\n",
    "\n",
    "alerts, jams = utils.load_data()"
   ]
  },
  {
   "cell_type": "code",
   "execution_count": 89,
   "metadata": {},
   "outputs": [],
   "source": [
    "geo = utils.separate_coords(alerts)[['geometry']]"
   ]
  },
  {
   "cell_type": "code",
   "execution_count": 90,
   "metadata": {},
   "outputs": [
    {
     "data": {
      "text/html": [
       "<div>\n",
       "<style scoped>\n",
       "    .dataframe tbody tr th:only-of-type {\n",
       "        vertical-align: middle;\n",
       "    }\n",
       "\n",
       "    .dataframe tbody tr th {\n",
       "        vertical-align: top;\n",
       "    }\n",
       "\n",
       "    .dataframe thead th {\n",
       "        text-align: right;\n",
       "    }\n",
       "</style>\n",
       "<table border=\"1\" class=\"dataframe\">\n",
       "  <thead>\n",
       "    <tr style=\"text-align: right;\">\n",
       "      <th></th>\n",
       "      <th>geometry</th>\n",
       "    </tr>\n",
       "  </thead>\n",
       "  <tbody>\n",
       "    <tr>\n",
       "      <th>0</th>\n",
       "      <td>POINT (-7838275.742 -2714079.538)</td>\n",
       "    </tr>\n",
       "    <tr>\n",
       "      <th>1</th>\n",
       "      <td>POINT (-7836033.099 -2706864.568)</td>\n",
       "    </tr>\n",
       "    <tr>\n",
       "      <th>2</th>\n",
       "      <td>POINT (-7835291.266 -2701501.184)</td>\n",
       "    </tr>\n",
       "    <tr>\n",
       "      <th>3</th>\n",
       "      <td>POINT (-7835220.801 -2706725.213)</td>\n",
       "    </tr>\n",
       "    <tr>\n",
       "      <th>4</th>\n",
       "      <td>POINT (-7835235.829 -2705220.449)</td>\n",
       "    </tr>\n",
       "    <tr>\n",
       "      <th>...</th>\n",
       "      <td>...</td>\n",
       "    </tr>\n",
       "    <tr>\n",
       "      <th>5295</th>\n",
       "      <td>POINT (-7836824.581 -2710429.901)</td>\n",
       "    </tr>\n",
       "    <tr>\n",
       "      <th>5296</th>\n",
       "      <td>POINT (-7837223.105 -2713674.9)</td>\n",
       "    </tr>\n",
       "    <tr>\n",
       "      <th>5297</th>\n",
       "      <td>POINT (-7834409.393 -2708664.389)</td>\n",
       "    </tr>\n",
       "    <tr>\n",
       "      <th>5298</th>\n",
       "      <td>POINT (-7834262.006 -2705044.906)</td>\n",
       "    </tr>\n",
       "    <tr>\n",
       "      <th>5299</th>\n",
       "      <td>POINT (-7835859.775 -2707672.294)</td>\n",
       "    </tr>\n",
       "  </tbody>\n",
       "</table>\n",
       "<p>5300 rows × 1 columns</p>\n",
       "</div>"
      ],
      "text/plain": [
       "                               geometry\n",
       "0     POINT (-7838275.742 -2714079.538)\n",
       "1     POINT (-7836033.099 -2706864.568)\n",
       "2     POINT (-7835291.266 -2701501.184)\n",
       "3     POINT (-7835220.801 -2706725.213)\n",
       "4     POINT (-7835235.829 -2705220.449)\n",
       "...                                 ...\n",
       "5295  POINT (-7836824.581 -2710429.901)\n",
       "5296    POINT (-7837223.105 -2713674.9)\n",
       "5297  POINT (-7834409.393 -2708664.389)\n",
       "5298  POINT (-7834262.006 -2705044.906)\n",
       "5299  POINT (-7835859.775 -2707672.294)\n",
       "\n",
       "[5300 rows x 1 columns]"
      ]
     },
     "execution_count": 90,
     "metadata": {},
     "output_type": "execute_result"
    }
   ],
   "source": [
    "geo"
   ]
  },
  {
   "cell_type": "code",
   "execution_count": 91,
   "metadata": {},
   "outputs": [
    {
     "data": {
      "text/plain": [
       "7555.47738901568"
      ]
     },
     "execution_count": 91,
     "metadata": {},
     "output_type": "execute_result"
    }
   ],
   "source": [
    "geo.to_crs(epsg=3857, inplace=True)\n",
    "geo.iloc[0].geometry.distance(geo.iloc[1].geometry)"
   ]
  },
  {
   "cell_type": "code",
   "execution_count": 92,
   "metadata": {},
   "outputs": [
    {
     "data": {
      "text/plain": [
       "([-7838275.74179753, -2714079.5383853773],\n",
       " [-7836033.099336009, -2706864.5682977256])"
      ]
     },
     "execution_count": 92,
     "metadata": {},
     "output_type": "execute_result"
    }
   ],
   "source": [
    "[geo.iloc[0].geometry.x, geo.iloc[0].geometry.y], [geo.iloc[1].geometry.x, geo.iloc[1].geometry.y]"
   ]
  },
  {
   "cell_type": "code",
   "execution_count": 85,
   "metadata": {},
   "outputs": [
    {
     "data": {
      "text/plain": [
       "np.float64(6913.320824700197)"
      ]
     },
     "execution_count": 85,
     "metadata": {},
     "output_type": "execute_result"
    }
   ],
   "source": [
    "geo.to_crs(epsg=4326, inplace=True)\n",
    "utils.haversine([geo.iloc[0].geometry.x, geo.iloc[1].geometry.x], [geo.iloc[0].geometry.y, geo.iloc[1].geometry.y])"
   ]
  },
  {
   "cell_type": "code",
   "execution_count": 86,
   "metadata": {},
   "outputs": [
    {
     "data": {
      "text/plain": [
       "([-70.412429, -23.676846], [-70.392283, -23.617474999999995])"
      ]
     },
     "execution_count": 86,
     "metadata": {},
     "output_type": "execute_result"
    }
   ],
   "source": [
    "[geo.iloc[0].geometry.x, geo.iloc[0].geometry.y], [geo.iloc[1].geometry.x, geo.iloc[1].geometry.y]"
   ]
  },
  {
   "cell_type": "code",
   "execution_count": 87,
   "metadata": {},
   "outputs": [
    {
     "data": {
      "text/plain": [
       "6889.294096828873"
      ]
     },
     "execution_count": 87,
     "metadata": {},
     "output_type": "execute_result"
    }
   ],
   "source": [
    "geodesic([geo.iloc[0].geometry.y, geo.iloc[0].geometry.x], [geo.iloc[1].geometry.y, geo.iloc[1].geometry.x]).meters"
   ]
  },
  {
   "cell_type": "code",
   "execution_count": null,
   "metadata": {},
   "outputs": [],
   "source": []
  }
 ],
 "metadata": {
  "kernelspec": {
   "display_name": ".venv",
   "language": "python",
   "name": "python3"
  },
  "language_info": {
   "codemirror_mode": {
    "name": "ipython",
    "version": 3
   },
   "file_extension": ".py",
   "mimetype": "text/x-python",
   "name": "python",
   "nbconvert_exporter": "python",
   "pygments_lexer": "ipython3",
   "version": "3.12.4"
  }
 },
 "nbformat": 4,
 "nbformat_minor": 2
}
