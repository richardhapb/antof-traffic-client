{
 "cells": [
  {
   "cell_type": "code",
   "execution_count": 3,
   "metadata": {
    "tags": []
   },
   "outputs": [],
   "source": [
    "from utils import utils\n",
    "import matplotlib.pyplot as plt\n",
    "from scipy.stats import pearsonr, t, norm\n",
    "import numpy as np\n",
    "from sklearn.linear_model import LinearRegression\n",
    "from sklearn.model_selection import train_test_split\n",
    "\n",
    "alerts = utils.get_data()\n",
    "alerts.filter_by_group_time(120, True)\n",
    "\n",
    "hourly_accident = utils.hourly_group(alerts.data[alerts.data[\"type\"] == \"ACCIDENT\"])\n",
    "hourly_jam = utils.hourly_group(alerts.data[alerts.data[\"type\"] == \"JAM\"])"
   ]
  },
  {
   "cell_type": "code",
   "execution_count": null,
   "id": "5b5a2014",
   "metadata": {},
   "outputs": [],
   "source": [
    "\n",
    "alerts.data.pub_millis.max()"
   ]
  },
  {
   "cell_type": "code",
   "execution_count": 4,
   "metadata": {},
   "outputs": [
    {
     "data": {
      "text/html": [
       "<div>\n",
       "<style scoped>\n",
       "    .dataframe tbody tr th:only-of-type {\n",
       "        vertical-align: middle;\n",
       "    }\n",
       "\n",
       "    .dataframe tbody tr th {\n",
       "        vertical-align: top;\n",
       "    }\n",
       "\n",
       "    .dataframe thead th {\n",
       "        text-align: right;\n",
       "    }\n",
       "</style>\n",
       "<table border=\"1\" class=\"dataframe\">\n",
       "  <thead>\n",
       "    <tr style=\"text-align: right;\">\n",
       "      <th>day_type</th>\n",
       "      <th>hour_accident</th>\n",
       "      <th>f_accident</th>\n",
       "      <th>s_accident</th>\n",
       "      <th>hour_jam</th>\n",
       "      <th>f_jam</th>\n",
       "      <th>s_jam</th>\n",
       "    </tr>\n",
       "  </thead>\n",
       "  <tbody>\n",
       "    <tr>\n",
       "      <th>0</th>\n",
       "      <td>0</td>\n",
       "      <td>0.066667</td>\n",
       "      <td>0.100000</td>\n",
       "      <td>0</td>\n",
       "      <td>0.069124</td>\n",
       "      <td>0.064516</td>\n",
       "    </tr>\n",
       "    <tr>\n",
       "      <th>1</th>\n",
       "      <td>1</td>\n",
       "      <td>0.077778</td>\n",
       "      <td>0.083333</td>\n",
       "      <td>1</td>\n",
       "      <td>0.119816</td>\n",
       "      <td>0.036866</td>\n",
       "    </tr>\n",
       "    <tr>\n",
       "      <th>2</th>\n",
       "      <td>2</td>\n",
       "      <td>0.122222</td>\n",
       "      <td>0.033333</td>\n",
       "      <td>2</td>\n",
       "      <td>0.032258</td>\n",
       "      <td>0.036866</td>\n",
       "    </tr>\n",
       "    <tr>\n",
       "      <th>3</th>\n",
       "      <td>3</td>\n",
       "      <td>0.100000</td>\n",
       "      <td>0.050000</td>\n",
       "      <td>3</td>\n",
       "      <td>0.059908</td>\n",
       "      <td>0.046083</td>\n",
       "    </tr>\n",
       "    <tr>\n",
       "      <th>4</th>\n",
       "      <td>4</td>\n",
       "      <td>0.100000</td>\n",
       "      <td>0.027778</td>\n",
       "      <td>4</td>\n",
       "      <td>0.004608</td>\n",
       "      <td>0.023041</td>\n",
       "    </tr>\n",
       "    <tr>\n",
       "      <th>5</th>\n",
       "      <td>5</td>\n",
       "      <td>0.100000</td>\n",
       "      <td>0.033333</td>\n",
       "      <td>5</td>\n",
       "      <td>0.018433</td>\n",
       "      <td>0.036866</td>\n",
       "    </tr>\n",
       "    <tr>\n",
       "      <th>6</th>\n",
       "      <td>6</td>\n",
       "      <td>0.105556</td>\n",
       "      <td>0.172222</td>\n",
       "      <td>6</td>\n",
       "      <td>0.032258</td>\n",
       "      <td>0.566820</td>\n",
       "    </tr>\n",
       "    <tr>\n",
       "      <th>7</th>\n",
       "      <td>7</td>\n",
       "      <td>0.100000</td>\n",
       "      <td>1.777778</td>\n",
       "      <td>7</td>\n",
       "      <td>0.036866</td>\n",
       "      <td>18.580645</td>\n",
       "    </tr>\n",
       "    <tr>\n",
       "      <th>8</th>\n",
       "      <td>8</td>\n",
       "      <td>0.100000</td>\n",
       "      <td>1.300000</td>\n",
       "      <td>8</td>\n",
       "      <td>0.096774</td>\n",
       "      <td>12.050691</td>\n",
       "    </tr>\n",
       "    <tr>\n",
       "      <th>9</th>\n",
       "      <td>9</td>\n",
       "      <td>0.105556</td>\n",
       "      <td>0.511111</td>\n",
       "      <td>9</td>\n",
       "      <td>0.179724</td>\n",
       "      <td>2.617512</td>\n",
       "    </tr>\n",
       "    <tr>\n",
       "      <th>10</th>\n",
       "      <td>10</td>\n",
       "      <td>0.166667</td>\n",
       "      <td>0.533333</td>\n",
       "      <td>10</td>\n",
       "      <td>0.396313</td>\n",
       "      <td>2.599078</td>\n",
       "    </tr>\n",
       "    <tr>\n",
       "      <th>11</th>\n",
       "      <td>11</td>\n",
       "      <td>0.194444</td>\n",
       "      <td>0.650000</td>\n",
       "      <td>11</td>\n",
       "      <td>1.059908</td>\n",
       "      <td>2.986175</td>\n",
       "    </tr>\n",
       "    <tr>\n",
       "      <th>12</th>\n",
       "      <td>12</td>\n",
       "      <td>0.205556</td>\n",
       "      <td>0.622222</td>\n",
       "      <td>12</td>\n",
       "      <td>1.405530</td>\n",
       "      <td>3.778802</td>\n",
       "    </tr>\n",
       "    <tr>\n",
       "      <th>13</th>\n",
       "      <td>13</td>\n",
       "      <td>0.383333</td>\n",
       "      <td>0.961111</td>\n",
       "      <td>13</td>\n",
       "      <td>1.658986</td>\n",
       "      <td>6.705069</td>\n",
       "    </tr>\n",
       "    <tr>\n",
       "      <th>14</th>\n",
       "      <td>14</td>\n",
       "      <td>0.172222</td>\n",
       "      <td>0.616667</td>\n",
       "      <td>14</td>\n",
       "      <td>1.308756</td>\n",
       "      <td>3.594470</td>\n",
       "    </tr>\n",
       "    <tr>\n",
       "      <th>15</th>\n",
       "      <td>15</td>\n",
       "      <td>0.194444</td>\n",
       "      <td>0.905556</td>\n",
       "      <td>15</td>\n",
       "      <td>0.691244</td>\n",
       "      <td>3.419355</td>\n",
       "    </tr>\n",
       "    <tr>\n",
       "      <th>16</th>\n",
       "      <td>16</td>\n",
       "      <td>0.211111</td>\n",
       "      <td>0.755556</td>\n",
       "      <td>16</td>\n",
       "      <td>0.493088</td>\n",
       "      <td>4.221198</td>\n",
       "    </tr>\n",
       "    <tr>\n",
       "      <th>17</th>\n",
       "      <td>17</td>\n",
       "      <td>0.261111</td>\n",
       "      <td>1.311111</td>\n",
       "      <td>17</td>\n",
       "      <td>0.709677</td>\n",
       "      <td>8.465438</td>\n",
       "    </tr>\n",
       "    <tr>\n",
       "      <th>18</th>\n",
       "      <td>18</td>\n",
       "      <td>0.183333</td>\n",
       "      <td>2.016667</td>\n",
       "      <td>18</td>\n",
       "      <td>0.677419</td>\n",
       "      <td>15.470046</td>\n",
       "    </tr>\n",
       "    <tr>\n",
       "      <th>19</th>\n",
       "      <td>19</td>\n",
       "      <td>0.111111</td>\n",
       "      <td>0.977778</td>\n",
       "      <td>19</td>\n",
       "      <td>0.797235</td>\n",
       "      <td>7.331797</td>\n",
       "    </tr>\n",
       "    <tr>\n",
       "      <th>20</th>\n",
       "      <td>20</td>\n",
       "      <td>0.194444</td>\n",
       "      <td>0.538889</td>\n",
       "      <td>20</td>\n",
       "      <td>1.645161</td>\n",
       "      <td>3.470046</td>\n",
       "    </tr>\n",
       "    <tr>\n",
       "      <th>21</th>\n",
       "      <td>21</td>\n",
       "      <td>0.322222</td>\n",
       "      <td>0.400000</td>\n",
       "      <td>21</td>\n",
       "      <td>1.285714</td>\n",
       "      <td>2.193548</td>\n",
       "    </tr>\n",
       "    <tr>\n",
       "      <th>22</th>\n",
       "      <td>22</td>\n",
       "      <td>0.194444</td>\n",
       "      <td>0.294444</td>\n",
       "      <td>22</td>\n",
       "      <td>0.419355</td>\n",
       "      <td>0.654378</td>\n",
       "    </tr>\n",
       "    <tr>\n",
       "      <th>23</th>\n",
       "      <td>23</td>\n",
       "      <td>0.205556</td>\n",
       "      <td>0.155556</td>\n",
       "      <td>23</td>\n",
       "      <td>0.147465</td>\n",
       "      <td>0.165899</td>\n",
       "    </tr>\n",
       "  </tbody>\n",
       "</table>\n",
       "</div>"
      ],
      "text/plain": [
       "day_type  hour_accident  f_accident  s_accident  hour_jam     f_jam      s_jam\n",
       "0                     0    0.066667    0.100000         0  0.069124   0.064516\n",
       "1                     1    0.077778    0.083333         1  0.119816   0.036866\n",
       "2                     2    0.122222    0.033333         2  0.032258   0.036866\n",
       "3                     3    0.100000    0.050000         3  0.059908   0.046083\n",
       "4                     4    0.100000    0.027778         4  0.004608   0.023041\n",
       "5                     5    0.100000    0.033333         5  0.018433   0.036866\n",
       "6                     6    0.105556    0.172222         6  0.032258   0.566820\n",
       "7                     7    0.100000    1.777778         7  0.036866  18.580645\n",
       "8                     8    0.100000    1.300000         8  0.096774  12.050691\n",
       "9                     9    0.105556    0.511111         9  0.179724   2.617512\n",
       "10                   10    0.166667    0.533333        10  0.396313   2.599078\n",
       "11                   11    0.194444    0.650000        11  1.059908   2.986175\n",
       "12                   12    0.205556    0.622222        12  1.405530   3.778802\n",
       "13                   13    0.383333    0.961111        13  1.658986   6.705069\n",
       "14                   14    0.172222    0.616667        14  1.308756   3.594470\n",
       "15                   15    0.194444    0.905556        15  0.691244   3.419355\n",
       "16                   16    0.211111    0.755556        16  0.493088   4.221198\n",
       "17                   17    0.261111    1.311111        17  0.709677   8.465438\n",
       "18                   18    0.183333    2.016667        18  0.677419  15.470046\n",
       "19                   19    0.111111    0.977778        19  0.797235   7.331797\n",
       "20                   20    0.194444    0.538889        20  1.645161   3.470046\n",
       "21                   21    0.322222    0.400000        21  1.285714   2.193548\n",
       "22                   22    0.194444    0.294444        22  0.419355   0.654378\n",
       "23                   23    0.205556    0.155556        23  0.147465   0.165899"
      ]
     },
     "execution_count": 4,
     "metadata": {},
     "output_type": "execute_result"
    }
   ],
   "source": [
    "linear_model = LinearRegression()\n",
    "\n",
    "# Join the three DataFrames on the 'hour' index\n",
    "dat = hourly_accident.join(hourly_jam, lsuffix=\"_accident\", rsuffix=\"_jam\")\n",
    "\n",
    "dat"
   ]
  },
  {
   "cell_type": "code",
   "execution_count": 5,
   "metadata": {},
   "outputs": [
    {
     "data": {
      "text/plain": [
       "array([0.47887921, 0.43766157, 0.23059198, 0.54364979, 0.53040127])"
      ]
     },
     "execution_count": 5,
     "metadata": {},
     "output_type": "execute_result"
    }
   ],
   "source": [
    "dat = dat[[\"s_accident\", \"s_jam\"]]\n",
    "\n",
    "# Fill missing values with 0\n",
    "dat = dat.fillna(0)\n",
    "\n",
    "# Create the feature matrix X\n",
    "X = dat[[\"s_jam\"]].values\n",
    "\n",
    "# Create the target vector y\n",
    "y = dat[\"s_accident\"].values\n",
    "\n",
    "X_train, X_test, y_train, y_test = train_test_split(X, y, test_size=0.2, random_state=0)\n",
    "\n",
    "linear_model.fit(X_train, y_train)\n",
    "\n",
    "y_pred = linear_model.predict(X_test)\n",
    "\n",
    "y_pred"
   ]
  },
  {
   "cell_type": "code",
   "execution_count": 6,
   "metadata": {
    "lines_to_next_cell": 2
   },
   "outputs": [
    {
     "name": "stdout",
     "output_type": "stream",
     "text": [
      "Coeficiente de determinación: 0.3811861940273368\n",
      "Error cuadrático medio: 0.09789387288435186\n"
     ]
    }
   ],
   "source": [
    "from sklearn.metrics import root_mean_squared_error, r2_score\n",
    "\n",
    "print(f\"Coeficiente de determinación: {r2_score(y_test, y_pred)}\")\n",
    "print(f\"Error cuadrático medio: {root_mean_squared_error(y_test, y_pred)}\")"
   ]
  },
  {
   "cell_type": "code",
   "execution_count": 7,
   "metadata": {},
   "outputs": [
    {
     "name": "stdout",
     "output_type": "stream",
     "text": [
      "                            OLS Regression Results                            \n",
      "==============================================================================\n",
      "Dep. Variable:             s_accident   R-squared:                       0.921\n",
      "Model:                            OLS   Adj. R-squared:                  0.917\n",
      "Method:                 Least Squares   F-statistic:                     256.3\n",
      "Date:                Sat, 10 May 2025   Prob (F-statistic):           1.32e-13\n",
      "Time:                        15:10:50   Log-Likelihood:                 11.021\n",
      "No. Observations:                  24   AIC:                            -18.04\n",
      "Df Residuals:                      22   BIC:                            -15.68\n",
      "Df Model:                           1                                         \n",
      "Covariance Type:            nonrobust                                         \n",
      "==============================================================================\n",
      "                 coef    std err          t      P>|t|      [0.025      0.975]\n",
      "------------------------------------------------------------------------------\n",
      "Intercept      0.1824      0.042      4.296      0.000       0.094       0.270\n",
      "s_jam          0.1054      0.007     16.009      0.000       0.092       0.119\n",
      "==============================================================================\n",
      "Omnibus:                        0.898   Durbin-Watson:                   0.731\n",
      "Prob(Omnibus):                  0.638   Jarque-Bera (JB):                0.134\n",
      "Skew:                           0.101   Prob(JB):                        0.935\n",
      "Kurtosis:                       3.305   Cond. No.                         8.48\n",
      "==============================================================================\n",
      "\n",
      "Notes:\n",
      "[1] Standard Errors assume that the covariance matrix of the errors is correctly specified.\n"
     ]
    }
   ],
   "source": [
    "import statsmodels.formula.api as smf\n",
    "\n",
    "linear_model = smf.ols(data=dat, formula=\"s_accident ~ s_jam\")\n",
    "results = linear_model.fit()\n",
    "print(results.summary())"
   ]
  },
  {
   "cell_type": "code",
   "execution_count": 8,
   "metadata": {},
   "outputs": [
    {
     "data": {
      "text/plain": [
       "Intercept    0.182365\n",
       "s_jam        0.105443\n",
       "dtype: float64"
      ]
     },
     "execution_count": 8,
     "metadata": {},
     "output_type": "execute_result"
    }
   ],
   "source": [
    "results.params"
   ]
  },
  {
   "cell_type": "code",
   "execution_count": 9,
   "metadata": {},
   "outputs": [
    {
     "data": {
      "text/plain": [
       "np.float64(9.483786835488884)"
      ]
     },
     "execution_count": 9,
     "metadata": {},
     "output_type": "execute_result"
    }
   ],
   "source": [
    "1 / results.params[\"s_jam\"]  # Proporción congestión / accidentes"
   ]
  },
  {
   "cell_type": "code",
   "execution_count": 10,
   "metadata": {},
   "outputs": [
    {
     "data": {
      "text/plain": [
       "day_type\n",
       "s_accident    14.827778\n",
       "s_jam         99.115207\n",
       "dtype: float64"
      ]
     },
     "execution_count": 10,
     "metadata": {},
     "output_type": "execute_result"
    }
   ],
   "source": [
    "dat.sum()"
   ]
  },
  {
   "cell_type": "code",
   "execution_count": 11,
   "metadata": {},
   "outputs": [
    {
     "data": {
      "text/plain": [
       "np.float64(0.14960144029095118)"
      ]
     },
     "execution_count": 11,
     "metadata": {},
     "output_type": "execute_result"
    }
   ],
   "source": [
    "dat.sum().loc[\"s_accident\"] / dat.sum().loc[\"s_jam\"]"
   ]
  },
  {
   "cell_type": "code",
   "execution_count": 12,
   "metadata": {},
   "outputs": [
    {
     "data": {
      "image/png": "[encoded data removed]",
      "text/plain": [
       "<Figure size 700x300 with 1 Axes>"
      ]
     },
     "metadata": {},
     "output_type": "display_data"
    }
   ],
   "source": [
    "# Grafica la linea de regresión lineal de results y los datos originales\n",
    "\n",
    "plt.figure(figsize=(15, 5))\n",
    "\n",
    "# Graficar los datos originales\n",
    "plt.scatter(dat[\"s_jam\"], dat[\"s_accident\"], color=\"black\", label=\"Datos\")\n",
    "\n",
    "# Graficar la línea de regresión\n",
    "plt.plot(\n",
    "    dat[\"s_jam\"],\n",
    "    results.params[\"Intercept\"] + results.params[\"s_jam\"] * dat[\"s_jam\"],\n",
    "    color=\"red\",\n",
    "    linewidth=2,\n",
    "    label=\"Linea de ajuste\",\n",
    ")\n",
    "\n",
    "plt.title(\"Regresión lineal de accidentes y reportes\\nde tráfico (por hora) - Día de semana\")\n",
    "plt.text(0.5, 0.5, rf\"$R^2$: {results.rsquared:.2f}\", transform=plt.gca().transAxes, fontsize=12, color=\"red\")\n",
    "plt.xlabel(\"Número de reportes de tráfico\")\n",
    "plt.ylabel(\"Número de accidentes\")\n",
    "plt.grid(True, alpha=0.3)\n",
    "plt.tight_layout()\n",
    "plt.savefig(\"thesis/images/corr_lin_ds.png\")\n",
    "plt.show()"
   ]
  },
  {
   "cell_type": "markdown",
   "metadata": {},
   "source": [
    "### Prueba de hipótesis de correlación de Pearson\n",
    "\n",
    "Fuente: Montgomery\n",
    "\n",
    "La correlación de Pearson es una medida de la relación lineal entre dos variables aleatorias. Es un valor entre -1 y 1, donde:\n",
    "\n",
    "- 1 indica una correlación positiva perfecta\n",
    "- -1 indica una correlación negativa perfecta\n",
    "- 0 indica que no hay correlación\n",
    "\n",
    "La hipótesis nula de la prueba de correlación de Pearson es que no hay correlación entre las dos variables. La hipótesis alternativa es que hay una correlación entre las dos variables.\n",
    "\n",
    "La prueba de correlación de Pearson se puede realizar en Python utilizando la función `pearsonr` de la biblioteca `scipy.stats`.\n",
    "\n",
    "```python\n",
    "from scipy.stats import pearsonr\n",
    "\n",
    "# Datos de ejemplo\n",
    "data1 = [0.1, 0.2, 0.3, 0.4, 0.5]\n",
    "data2 = [0.5, 0.4, 0.3, 0.2, 0.1]\n",
    "\n",
    "# Prueba de correlación de Pearson\n",
    "corr, p_value = pearsonr(data1, data2)\n",
    "\n",
    "print('Coeficiente de correlación de Pearson:', corr)\n",
    "print('Valor p:', p_value)\n",
    "```\n",
    "\n",
    "En este ejemplo, `data1` y `data2` son dos listas de datos. La función `pearsonr` devuelve el coeficiente de correlación de Pearson y el valor p asociado con la prueba de hipótesis.\n",
    "\n",
    "### Prueba de hipótesis de correlación con estadístico T\n",
    "\n",
    "Otra forma de realizar una prueba de correlación es utilizando el estadístico T. La fórmula para el estadístico T es:\n",
    "\n",
    "$$\n",
    "t = \\frac{r \\sqrt{n-2}}{\\sqrt{1-r^2}}\n",
    "$$\n",
    "\n",
    "Donde $r$ es el coeficiente de correlación de Pearson y $n$ es el número de observaciones.\n",
    "\n",
    "Para realizar una prueba de hipótesis de correlación con el estadístico T, se compara el valor calculado de $t$ con el valor crítico de la distribución t de Student con $n-2$ grados de libertad.\n",
    "\n",
    "```python\n",
    "from scipy.stats import t\n",
    "\n",
    "# Datos de ejemplo\n",
    "data1 = [0.1, 0.2, 0.3, 0.4, 0.5]\n",
    "data2 = [0.5, 0.4, 0.3, 0.2, 0.1]\n",
    "\n",
    "# Prueba de correlación con estadístico T\n",
    "corr, p_value = pearsonr(data1, data2)\n",
    "t_stat = corr * ((len(data1) - 2) ** 0.5) / ((1 - corr ** 2) ** 0.5)\n",
    "p_value = 2 * (1 - t.cdf(abs(t_stat), len(data1) - 2))\n",
    "\n",
    "print('Estadístico T:', t_stat)\n",
    "print('Valor p:', p_value)\n",
    "```\n",
    "\n",
    "En este ejemplo, se calcula el estadístico T y el valor p asociado con la prueba de hipótesis de correlación utilizando el estadístico T.\n",
    "\n",
    "Ambos métodos son válidos para realizar una prueba de correlación de Pearson en Python. La función `pearsonr` es más sencilla de usar, mientras que el cálculo manual del estadístico T proporciona una mayor comprensión de la prueba de hipótesis."
   ]
  },
  {
   "cell_type": "code",
   "execution_count": 13,
   "metadata": {},
   "outputs": [
    {
     "data": {
      "text/plain": [
       "(np.float64(0.959659017272869), np.float64(1.316237352009788e-13))"
      ]
     },
     "execution_count": 13,
     "metadata": {},
     "output_type": "execute_result"
    }
   ],
   "source": [
    "r, p_value = pearsonr(dat.s_jam, dat.s_accident)\n",
    "\n",
    "r, p_value"
   ]
  },
  {
   "cell_type": "code",
   "execution_count": 14,
   "metadata": {},
   "outputs": [
    {
     "data": {
      "text/plain": [
       "np.float64(16.009021832846148)"
      ]
     },
     "execution_count": 14,
     "metadata": {},
     "output_type": "execute_result"
    }
   ],
   "source": [
    "n = dat.s_jam.shape[0]\n",
    "\n",
    "T = r * np.sqrt(n - 2) / np.sqrt(1 - r**2)\n",
    "T"
   ]
  },
  {
   "cell_type": "code",
   "execution_count": 15,
   "metadata": {},
   "outputs": [
    {
     "data": {
      "text/plain": [
       "np.float64(2.073873067904015)"
      ]
     },
     "execution_count": 15,
     "metadata": {},
     "output_type": "execute_result"
    }
   ],
   "source": [
    "alpha = 0.01\n",
    "\n",
    "t_param = -t.ppf(alpha / 2, n - 2)\n",
    "\n",
    "t_param"
   ]
  },
  {
   "cell_type": "markdown",
   "metadata": {},
   "source": [
    "Dado que T < valor crítico de la distribución t de Student con n - 2 grados de libertad, rechazamos la hipótesis nula y concluimos que hay una correlación entre las dos variables. Además, el valor p es menor que 0.05, lo que confirma la significancia estadística de la correlación."
   ]
  },
  {
   "cell_type": "markdown",
   "metadata": {},
   "source": [
    "Validación con transformación de Fisher\n",
    "\n",
    "$$\n",
    "Z = \\frac{1}{2} \\ln\\left( \\frac{1 + r}{1 - r} \\right)\n",
    "$$\n",
    "\n",
    "El error estándar asociado a Z se calcula con la siguiente fórmula:\n",
    "\n",
    "$$\n",
    "SE_Z = \\frac{1}{\\sqrt{n - 3}}\n",
    "$$"
   ]
  },
  {
   "cell_type": "code",
   "execution_count": 16,
   "metadata": {},
   "outputs": [
    {
     "data": {
      "text/plain": [
       "[np.float64(1.513879730841417), np.float64(2.3692781421311366)]"
      ]
     },
     "execution_count": 16,
     "metadata": {},
     "output_type": "execute_result"
    }
   ],
   "source": [
    "Z = 1 / 2 * np.log((1 + r) / (1 - r))\n",
    "SEz = 1 / np.sqrt(n - 3)\n",
    "z_param = -norm.ppf(alpha / 2)\n",
    "ic = [Z - z_param * SEz, Z + z_param * SEz]\n",
    "\n",
    "ic"
   ]
  },
  {
   "cell_type": "markdown",
   "metadata": {},
   "source": [
    "Inversa de Fisher Z para obtener el intervalo de confianza en términos de r:\n",
    "\n",
    "$$\n",
    "r = \\frac{e^{2Z} - 1}{e^{2Z} + 1}\n",
    "$$"
   ]
  },
  {
   "cell_type": "code",
   "execution_count": 17,
   "metadata": {},
   "outputs": [
    {
     "data": {
      "text/plain": [
       "[np.float64(0.907625136492211), np.float64(0.9826492978677942)]"
      ]
     },
     "execution_count": 17,
     "metadata": {},
     "output_type": "execute_result"
    }
   ],
   "source": [
    "ic_r = [(np.exp(2 * ic[0]) - 1) / (np.exp(2 * ic[0]) + 1), (np.exp(2 * ic[1]) - 1) / (np.exp(2 * ic[1]) + 1)]\n",
    "ic_r"
   ]
  },
  {
   "cell_type": "code",
   "execution_count": 18,
   "metadata": {},
   "outputs": [
    {
     "data": {
      "text/plain": [
       "array([0.82378339, 0.96559964])"
      ]
     },
     "execution_count": 18,
     "metadata": {},
     "output_type": "execute_result"
    }
   ],
   "source": [
    "np.power(ic_r, 2)"
   ]
  },
  {
   "cell_type": "markdown",
   "metadata": {},
   "source": [
    "### Fin de semana / Feriados"
   ]
  },
  {
   "cell_type": "code",
   "execution_count": 19,
   "metadata": {},
   "outputs": [
    {
     "name": "stdout",
     "output_type": "stream",
     "text": [
      "                            OLS Regression Results                            \n",
      "==============================================================================\n",
      "Dep. Variable:             f_accident   R-squared:                       0.558\n",
      "Model:                            OLS   Adj. R-squared:                  0.538\n",
      "Method:                 Least Squares   F-statistic:                     27.74\n",
      "Date:                Sat, 10 May 2025   Prob (F-statistic):           2.77e-05\n",
      "Time:                        15:10:50   Log-Likelihood:                 37.372\n",
      "No. Observations:                  24   AIC:                            -70.74\n",
      "Df Residuals:                      22   BIC:                            -68.39\n",
      "Df Model:                           1                                         \n",
      "Covariance Type:            nonrobust                                         \n",
      "==============================================================================\n",
      "                 coef    std err          t      P>|t|      [0.025      0.975]\n",
      "------------------------------------------------------------------------------\n",
      "Intercept      0.1078      0.015      6.968      0.000       0.076       0.140\n",
      "f_jam          0.1042      0.020      5.267      0.000       0.063       0.145\n",
      "==============================================================================\n",
      "Omnibus:                        0.825   Durbin-Watson:                   1.819\n",
      "Prob(Omnibus):                  0.662   Jarque-Bera (JB):                0.850\n",
      "Skew:                           0.333   Prob(JB):                        0.654\n",
      "Kurtosis:                       2.364   Cond. No.                         2.54\n",
      "==============================================================================\n",
      "\n",
      "Notes:\n",
      "[1] Standard Errors assume that the covariance matrix of the errors is correctly specified.\n"
     ]
    }
   ],
   "source": [
    "\n",
    "dat_f = hourly_accident.join(hourly_jam, lsuffix=\"_accident\", rsuffix=\"_jam\")\n",
    "dat_f = dat_f[[\"f_accident\", \"f_jam\"]]\n",
    "\n",
    "# Fill missing values with 0\n",
    "dat_f = dat_f.fillna(0)\n",
    "\n",
    "\n",
    "linear_model = smf.ols(data=dat_f, formula=\"f_accident ~ f_jam\")\n",
    "results_f = linear_model.fit()\n",
    "print(results_f.summary())"
   ]
  },
  {
   "cell_type": "code",
   "execution_count": 20,
   "metadata": {},
   "outputs": [
    {
     "data": {
      "image/png": "[encoded data removed]",
      "text/plain": [
       "<Figure size 700x300 with 1 Axes>"
      ]
     },
     "metadata": {},
     "output_type": "display_data"
    }
   ],
   "source": [
    "# Grafica la linea de regresión lineal de results y los datos originales\n",
    "\n",
    "plt.figure(figsize=(15, 5))\n",
    "\n",
    "# Graficar los datos originales\n",
    "plt.scatter(dat_f[\"f_jam\"], dat_f[\"f_accident\"], color=\"black\", label=\"Datos\")\n",
    "\n",
    "# Graficar la línea de regresión\n",
    "plt.plot(\n",
    "    dat_f[\"f_jam\"],\n",
    "    results_f.params[\"Intercept\"] + results_f.params[\"f_jam\"] * dat_f[\"f_jam\"],\n",
    "    color=\"red\",\n",
    "    linewidth=2,\n",
    "    label=\"Linea de ajuste\",\n",
    ")\n",
    "\n",
    "plt.title(\"Regresión lineal de accidentes y reportes\\nde tráfico (por hora) - Fin de semana\")\n",
    "plt.text(0.5, 0.6, rf\"$R^2$: {results_f.rsquared:.2f}\", transform=plt.gca().transAxes, fontsize=12, color=\"red\")\n",
    "plt.xlabel(\"Número de reportes de tráfico\")\n",
    "plt.ylabel(\"Número de accidentes\")\n",
    "plt.grid(True, alpha=0.3)\n",
    "plt.tight_layout()\n",
    "plt.savefig(\"thesis/images/corr_lin_fs.png\")\n",
    "plt.show()"
   ]
  },
  {
   "cell_type": "code",
   "execution_count": 21,
   "metadata": {},
   "outputs": [
    {
     "data": {
      "text/plain": [
       "(day_type\n",
       " hour    276.000000\n",
       " f         3.977778\n",
       " s        14.827778\n",
       " dtype: float64,\n",
       " '----',\n",
       " day_type\n",
       " hour    276.000000\n",
       " f        13.345622\n",
       " s        99.115207\n",
       " dtype: float64)"
      ]
     },
     "execution_count": 21,
     "metadata": {},
     "output_type": "execute_result"
    }
   ],
   "source": [
    "hourly_accident.sum(), \"----\", hourly_jam.sum()"
   ]
  },
  {
   "cell_type": "code",
   "execution_count": 22,
   "metadata": {},
   "outputs": [
    {
     "data": {
      "text/plain": [
       "np.float64(1.988888888888889)"
      ]
     },
     "execution_count": 22,
     "metadata": {},
     "output_type": "execute_result"
    }
   ],
   "source": [
    "hourly_accident.sum()[\"f\"] / 2"
   ]
  },
  {
   "cell_type": "code",
   "execution_count": 23,
   "metadata": {},
   "outputs": [
    {
     "data": {
      "text/plain": [
       "np.float64(2.9655555555555555)"
      ]
     },
     "execution_count": 23,
     "metadata": {},
     "output_type": "execute_result"
    }
   ],
   "source": [
    "hourly_accident.sum()[\"s\"] / 5"
   ]
  },
  {
   "cell_type": "markdown",
   "metadata": {},
   "source": [
    "Modelo exponencial inverso:\n",
    "$$\n",
    "y = \\frac{a}{x^b}\n",
    "$$\n"
   ]
  },
  {
   "cell_type": "markdown",
   "metadata": {},
   "source": [
    "## Prueba otros modelos"
   ]
  },
  {
   "cell_type": "code",
   "execution_count": 24,
   "metadata": {},
   "outputs": [],
   "source": [
    "from scipy.optimize import curve_fit\n",
    "\n",
    "\n",
    "def inverse_exp(x, a, b):\n",
    "    return a / np.power(x, b)"
   ]
  },
  {
   "cell_type": "code",
   "execution_count": 25,
   "metadata": {},
   "outputs": [
    {
     "data": {
      "text/plain": [
       "(array([ 0.29624876, -0.64147247]),\n",
       " array([[0.00078126, 0.00107829],\n",
       "        [0.00107829, 0.00163694]]))"
      ]
     },
     "execution_count": 25,
     "metadata": {},
     "output_type": "execute_result"
    }
   ],
   "source": [
    "params, covariance = curve_fit(inverse_exp, dat[\"s_jam\"], dat[\"s_accident\"])\n",
    "\n",
    "params, covariance"
   ]
  },
  {
   "cell_type": "code",
   "execution_count": 26,
   "metadata": {},
   "outputs": [
    {
     "data": {
      "text/plain": [
       "np.float64(0.9599536944285567)"
      ]
     },
     "execution_count": 26,
     "metadata": {},
     "output_type": "execute_result"
    }
   ],
   "source": [
    "mse_s = np.sum((dat[\"s_accident\"] - inverse_exp(dat[\"s_jam\"], *params)) ** 2)\n",
    "mst_s = np.sum((dat[\"s_accident\"] - np.mean(dat[\"s_accident\"])) ** 2)\n",
    "\n",
    "r2_s = 1 - mse_s / mst_s\n",
    "\n",
    "r2_s"
   ]
  },
  {
   "cell_type": "code",
   "execution_count": 27,
   "metadata": {},
   "outputs": [
    {
     "data": {
      "image/png": "[encoded data removed]",
      "text/plain": [
       "<Figure size 700x300 with 1 Axes>"
      ]
     },
     "metadata": {},
     "output_type": "display_data"
    }
   ],
   "source": [
    "plt.figure(figsize=(15, 5))\n",
    "plt.scatter(dat[\"s_jam\"], dat[\"s_accident\"], label=\"Datos\", color=\"black\")\n",
    "\n",
    "x_fit = np.linspace(dat[\"s_jam\"].min(), dat[\"s_jam\"].max(), 1000)\n",
    "y_fit = inverse_exp(x_fit, *params)\n",
    "\n",
    "plt.plot(x_fit, y_fit, \"r-\", label=\"Linea de ajuste exponencial inversa\")\n",
    "plt.text(\n",
    "    (dat[\"s_jam\"].max() - dat[\"s_jam\"].min()) / 2,\n",
    "    (dat[\"s_accident\"].max() - dat[\"s_accident\"].min()) / 2,\n",
    "    rf\"$R^2={r2_s:.2f}$\",\n",
    "    color=\"r\",\n",
    "    fontweight=\"bold\",\n",
    ")\n",
    "\n",
    "plt.xlabel(\"Reportes de tráfico\")\n",
    "plt.ylabel(\"Reportes de accidentes\")\n",
    "plt.title(\"Correlación exp. inversa reportes de tráfico (por hora)\\ny accidentes - Día de semana\")\n",
    "plt.tight_layout()\n",
    "plt.savefig(\"thesis/images/corr_exp_ds.png\")\n",
    "plt.show()"
   ]
  },
  {
   "cell_type": "code",
   "execution_count": 28,
   "metadata": {},
   "outputs": [
    {
     "data": {
      "text/plain": [
       "np.float64(0.5492845586603289)"
      ]
     },
     "execution_count": 28,
     "metadata": {},
     "output_type": "execute_result"
    }
   ],
   "source": [
    "params_f, covariance_f = curve_fit(inverse_exp, dat_f[\"f_jam\"], dat_f[\"f_accident\"])\n",
    "\n",
    "mse_f = np.sum((dat_f[\"f_accident\"] - inverse_exp(dat_f[\"f_jam\"], *params_f)) ** 2)\n",
    "mst_f = np.sum((dat_f[\"f_accident\"] - np.mean(dat_f[\"f_accident\"])) ** 2)\n",
    "\n",
    "r2_f = 1 - mse_f / mst_f\n",
    "\n",
    "r2_f"
   ]
  },
  {
   "cell_type": "code",
   "execution_count": 29,
   "metadata": {
    "lines_to_next_cell": 2,
    "tags": []
   },
   "outputs": [
    {
     "data": {
      "image/png": "[encoded data removed]",
      "text/plain": [
       "<Figure size 700x300 with 1 Axes>"
      ]
     },
     "metadata": {},
     "output_type": "display_data"
    }
   ],
   "source": [
    "\n",
    "plt.figure(figsize=(15, 5))\n",
    "plt.scatter(dat_f[\"f_jam\"], dat_f[\"f_accident\"], label=\"Datos\", color=\"black\")\n",
    "\n",
    "x_fit_f = np.linspace(dat_f[\"f_jam\"].min(), dat_f[\"f_jam\"].max(), 1000)\n",
    "y_fit_f = inverse_exp(x_fit_f, *params_f)\n",
    "\n",
    "plt.plot(x_fit_f, y_fit_f, \"r-\", label=\"Linea de ajuste exponencial inversa\")\n",
    "plt.text(dat_f[\"f_jam\"].mean(), dat_f[\"f_accident\"].mean(), rf\"$R^2={r2_f:.2f}$\", color=\"r\", fontweight=\"bold\")\n",
    "\n",
    "plt.title(\"Correlación exp. inversa reportes de tráfico (por hora)\\ny accidentes - Fin de semana\")\n",
    "plt.xlabel(\"Reportes de tráfico\")\n",
    "plt.ylabel(\"Reportes de accidentes\")\n",
    "plt.tight_layout()\n",
    "plt.savefig(\"thesis/images/corr_exp_fs.png\")\n",
    "plt.show()"
   ]
  },
  {
   "cell_type": "code",
   "execution_count": null,
   "id": "1825365e",
   "metadata": {},
   "outputs": [],
   "source": [
    "#\n",
    "from scipy import stats\n",
    "\n",
    "\n",
    "#\n",
    "def test_inverse_exponential_fit(x_data, y_data, params, alpha=0.05):\n",
    "    \"\"\"\n",
    "    Realiza prueba de hipótesis para el modelo exponencial inverso y = a/x^b\n",
    "\n",
    "    Args:\n",
    "        x_data: Variable independiente (jam)\n",
    "        y_data: Variable dependiente (accident)\n",
    "        params: Parámetros estimados [a, b]\n",
    "        alpha: Nivel de significancia\n",
    "\n",
    "    Returns:\n",
    "        Dictionary con resultados de la prueba\n",
    "    \"\"\"\n",
    "    # Número de observaciones y parámetros\n",
    "    n = len(x_data)\n",
    "    p = len(params)\n",
    "\n",
    "    # Grados de libertad\n",
    "    df = n - p\n",
    "\n",
    "    # Valores predichos\n",
    "    y_pred = inverse_exp(x_data, *params)\n",
    "\n",
    "    # Residuos\n",
    "    residuals = y_data - y_pred\n",
    "\n",
    "    # Suma de cuadrados de residuos\n",
    "    sse = np.sum(residuals**2)\n",
    "\n",
    "    # Error estándar de estimación\n",
    "    se = np.sqrt(sse / df)\n",
    "\n",
    "    # Matriz jacobiana (derivadas parciales)\n",
    "    def jac(x, a, b):\n",
    "        # Derivada respecto a 'a': 1/x^b\n",
    "        da = 1 / np.power(x, b)\n",
    "        # Derivada respecto a 'b': -a * ln(x) / x^b\n",
    "        db = -a * np.log(x) / np.power(x, b)\n",
    "        return np.vstack([da, db]).T\n",
    "\n",
    "    # Calcular la matriz jacobiana en los puntos observados\n",
    "    J = jac(x_data, *params)\n",
    "\n",
    "    # Matriz de covarianza de los parámetros (aproximación)\n",
    "    # (J^T J)^(-1) * s^2\n",
    "    JTJ_inv = np.linalg.inv(J.T @ J)\n",
    "    cov_matrix = JTJ_inv * (sse / df)\n",
    "\n",
    "    # Errores estándar de los parámetros\n",
    "    se_params = np.sqrt(np.diag(cov_matrix))\n",
    "\n",
    "    # Estadístico t para cada parámetro\n",
    "    t_stats = params / se_params\n",
    "\n",
    "    # Valores p (prueba de dos colas)\n",
    "    p_values = [2 * (1 - stats.t.cdf(abs(t), df)) for t in t_stats]\n",
    "\n",
    "    # Intervalos de confianza\n",
    "    t_crit = stats.t.ppf(1 - alpha / 2, df)\n",
    "    ci_lower = params - t_crit * se_params\n",
    "    ci_upper = params + t_crit * se_params\n",
    "\n",
    "    # F-test para la significancia global del modelo\n",
    "    # H0: a=b=0 (modelo nulo)\n",
    "    mst = np.sum((y_data - np.mean(y_data)) ** 2)\n",
    "    msr = mst - sse\n",
    "    f_stat = (msr / p) / (sse / df)\n",
    "    f_pvalue = 1 - stats.f.cdf(f_stat, p, df)\n",
    "\n",
    "    # R-cuadrado\n",
    "    r_squared = 1 - (sse / mst)\n",
    "    # R-cuadrado ajustado\n",
    "    r_squared_adj = 1 - ((1 - r_squared) * (n - 1) / df)\n",
    "\n",
    "    # Resultados\n",
    "    results = {\n",
    "        \"params\": params,\n",
    "        \"se\": se_params,\n",
    "        \"t_stats\": t_stats,\n",
    "        \"p_values\": p_values,\n",
    "        \"ci_lower\": ci_lower,\n",
    "        \"ci_upper\": ci_upper,\n",
    "        \"r_squared\": r_squared,\n",
    "        \"r_squared_adj\": r_squared_adj,\n",
    "        \"f_stat\": f_stat,\n",
    "        \"f_pvalue\": f_pvalue,\n",
    "        \"residual_se\": se,\n",
    "        \"df\": df,\n",
    "    }\n",
    "\n",
    "    return results\n",
    "\n",
    "\n",
    "# Ejecutar la prueba para los datos de día de semana\n",
    "s_results = test_inverse_exponential_fit(dat[\"s_jam\"].values, dat[\"s_accident\"].values, params)\n",
    "\n",
    "# Imprimir resumen de resultados\n",
    "print(\"\\n\" + \"=\" * 50)\n",
    "print(\"PRUEBA DE HIPÓTESIS - MODELO EXPONENCIAL INVERSO\")\n",
    "print(\"DÍAS DE SEMANA\")\n",
    "print(\"=\" * 50)\n",
    "print(f\"Modelo: y = a/x^b donde a = {params[0]:.4f}, b = {params[1]:.4f}\")\n",
    "print(f\"\\nR²: {s_results['r_squared']:.4f}\")\n",
    "print(f\"R² ajustado: {s_results['r_squared_adj']:.4f}\")\n",
    "print(\"\\nPrueba de significancia de parámetros:\")\n",
    "print(f\"Parámetro a: t = {s_results['t_stats'][0]:.4f}, p-valor = {s_results['p_values'][0]:.6f}\")\n",
    "print(f\"    IC 95%: [{s_results['ci_lower'][0]:.4f}, {s_results['ci_upper'][0]:.4f}]\")\n",
    "print(f\"Parámetro b: t = {s_results['t_stats'][1]:.4f}, p-valor = {s_results['p_values'][1]:.6f}\")\n",
    "print(f\"    IC 95%: [{s_results['ci_lower'][1]:.4f}, {s_results['ci_upper'][1]:.4f}]\")\n",
    "print(\"\\nPrueba F para significancia global del modelo:\")\n",
    "print(f\"F({s_results['params'].size}, {s_results['df']}): {s_results['f_stat']:.4f}\")\n",
    "print(f\"p-valor: {s_results['f_pvalue']:.6f}\")\n",
    "\n",
    "# Conclusión de la prueba de hipótesis\n",
    "alpha = 0.05\n",
    "print(\"\\nConclusiones:\")\n",
    "if s_results[\"f_pvalue\"] < alpha:\n",
    "    print(f\"- El modelo es estadísticamente significativo (p < {alpha})\")\n",
    "else:\n",
    "    print(f\"- No hay suficiente evidencia para afirmar que el modelo es significativo (p > {alpha})\")\n",
    "\n",
    "for i, p_val in enumerate(s_results[\"p_values\"]):\n",
    "    param_name = \"a\" if i == 0 else \"b\"\n",
    "    if p_val < alpha:\n",
    "        print(f\"- El parámetro {param_name} es estadísticamente significativo (p < {alpha})\")\n",
    "    else:\n",
    "        print(\n",
    "            f\"- No hay suficiente evidencia para afirmar que el parámetro {param_name} es significativo (p > {alpha})\"\n",
    "        )\n",
    "\n",
    "# Repetir para los datos de fin de semana\n",
    "f_results = test_inverse_exponential_fit(dat_f[\"f_jam\"].values, dat_f[\"f_accident\"].values, params_f)\n",
    "\n",
    "print(\"\\n\" + \"=\" * 50)\n",
    "print(\"PRUEBA DE HIPÓTESIS - MODELO EXPONENCIAL INVERSO\")\n",
    "print(\"FIN DE SEMANA\")\n",
    "print(\"=\" * 50)\n",
    "print(f\"Modelo: y = a/x^b donde a = {params_f[0]:.4f}, b = {params_f[1]:.4f}\")\n",
    "print(f\"\\nR²: {f_results['r_squared']:.4f}\")\n",
    "print(f\"R² ajustado: {f_results['r_squared_adj']:.4f}\")\n",
    "print(\"\\nPrueba de significancia de parámetros:\")\n",
    "print(f\"Parámetro a: t = {f_results['t_stats'][0]:.4f}, p-valor = {f_results['p_values'][0]:.6f}\")\n",
    "print(f\"    IC 95%: [{f_results['ci_lower'][0]:.4f}, {f_results['ci_upper'][0]:.4f}]\")\n",
    "print(f\"Parámetro b: t = {f_results['t_stats'][1]:.4f}, p-valor = {f_results['p_values'][1]:.6f}\")\n",
    "print(f\"    IC 95%: [{f_results['ci_lower'][1]:.4f}, {f_results['ci_upper'][1]:.4f}]\")\n",
    "print(\"\\nPrueba F para significancia global del modelo:\")\n",
    "print(f\"F({f_results['params'].size}, {f_results['df']}): {f_results['f_stat']:.4f}\")\n",
    "print(f\"p-valor: {f_results['f_pvalue']:.6f}\")\n",
    "\n",
    "# Conclusión de la prueba de hipótesis para fin de semana\n",
    "print(\"\\nConclusiones:\")\n",
    "if f_results[\"f_pvalue\"] < alpha:\n",
    "    print(f\"- El modelo es estadísticamente significativo (p < {alpha})\")\n",
    "else:\n",
    "    print(f\"- No hay suficiente evidencia para afirmar que el modelo es significativo (p > {alpha})\")\n",
    "\n",
    "for i, p_val in enumerate(f_results[\"p_values\"]):\n",
    "    param_name = \"a\" if i == 0 else \"b\"\n",
    "    if p_val < alpha:\n",
    "        print(f\"- El parámetro {param_name} es estadísticamente significativo (p < {alpha})\")\n",
    "    else:\n",
    "        print(\n",
    "            f\"- No hay suficiente evidencia para afirmar que el parámetro {param_name} es significativo (p > {alpha})\"\n",
    "        )\n",
    "\n",
    "# Gráfico de diagnóstico para los residuos\n",
    "plt.figure(figsize=(15, 5))\n",
    "plt.subplot(1, 2, 1)\n",
    "plt.scatter(\n",
    "    inverse_exp(dat[\"s_jam\"].values, *params),\n",
    "    dat[\"s_accident\"].values - inverse_exp(dat[\"s_jam\"].values, *params),\n",
    "    alpha=0.7,\n",
    ")\n",
    "plt.axhline(y=0, color=\"r\", linestyle=\"-\")\n",
    "plt.xlabel(\"Valores ajustados\")\n",
    "plt.ylabel(\"Residuos\")\n",
    "plt.title(\"Días de semana\")\n",
    "\n",
    "plt.subplot(1, 2, 2)\n",
    "plt.scatter(\n",
    "    inverse_exp(dat_f[\"f_jam\"].values, *params_f),\n",
    "    dat_f[\"f_accident\"].values - inverse_exp(dat_f[\"f_jam\"].values, *params_f),\n",
    "    alpha=0.7,\n",
    ")\n",
    "plt.axhline(y=0, color=\"r\", linestyle=\"-\")\n",
    "plt.xlabel(\"Valores ajustados\")\n",
    "plt.ylabel(\"Residuos\")\n",
    "plt.title(\"Fin de semana\")\n",
    "\n",
    "plt.tight_layout()\n",
    "plt.savefig(\"thesis/images/residuos_exp.png\")\n",
    "plt.show()\n",
    "\n",
    "# QQ Plot para verificar normalidad de residuos\n",
    "plt.figure(figsize=(15, 5))\n",
    "plt.subplot(1, 2, 1)\n",
    "stats.probplot(dat[\"s_accident\"].values - inverse_exp(dat[\"s_jam\"].values, *params), plot=plt)\n",
    "plt.title(\"QQ Plot - Días de semana\")\n",
    "\n",
    "plt.subplot(1, 2, 2)\n",
    "stats.probplot(dat_f[\"f_accident\"].values - inverse_exp(dat_f[\"f_jam\"].values, *params_f), plot=plt)\n",
    "plt.title(\"QQ Plot - Fin de semana\")\n",
    "\n",
    "plt.tight_layout()\n",
    "plt.savefig(\"thesis/images/qq_exp.png\")\n",
    "plt.show()"
   ]
  },
  {
   "cell_type": "code",
   "execution_count": null,
   "id": "3ce26a98",
   "metadata": {
    "lines_to_next_cell": 2
   },
   "outputs": [],
   "source": [
    "\n",
    "\n",
    "def test_linear_model(x_data, y_data, results, alpha=0.05):\n",
    "    \"\"\"\n",
    "    Realiza prueba de hipótesis para el modelo lineal y = mx + b\n",
    "\n",
    "    Args:\n",
    "        x_data: Variable independiente (jam)\n",
    "        y_data: Variable dependiente (accident)\n",
    "        results: Resultados del modelo de regresión lineal (statsmodels)\n",
    "        alpha: Nivel de significancia\n",
    "\n",
    "    Returns:\n",
    "        Dictionary con resultados de la prueba\n",
    "    \"\"\"\n",
    "    # Número de observaciones y parámetros\n",
    "    n = len(x_data)\n",
    "    p = len(results.params)\n",
    "\n",
    "    # Grados de libertad\n",
    "    df = n - p\n",
    "\n",
    "    # Valores predichos\n",
    "    y_pred = results.predict()\n",
    "\n",
    "    # Residuos\n",
    "    residuals = y_data - y_pred\n",
    "\n",
    "    # Suma de cuadrados de residuos\n",
    "    sse = np.sum(residuals**2)\n",
    "\n",
    "    # Error estándar de estimación\n",
    "    se = np.sqrt(sse / df)\n",
    "\n",
    "    # Errores estándar de los parámetros\n",
    "    se_params = results.bse\n",
    "\n",
    "    # Estadístico t para cada parámetro\n",
    "    t_stats = results.tvalues\n",
    "\n",
    "    # Valores p (prueba de dos colas)\n",
    "    p_values = results.pvalues\n",
    "\n",
    "    # Intervalos de confianza\n",
    "    ci = results.conf_int(alpha=alpha)\n",
    "    ci_lower = ci[0]  # Corregido para acceder a los valores correctamente\n",
    "    ci_upper = ci[1]  # Corregido para acceder a los valores correctamente\n",
    "\n",
    "    # F-test para la significancia global del modelo\n",
    "    f_stat = results.fvalue\n",
    "    f_pvalue = results.f_pvalue\n",
    "\n",
    "    # R-cuadrado\n",
    "    r_squared = results.rsquared\n",
    "    # R-cuadrado ajustado\n",
    "    r_squared_adj = results.rsquared_adj\n",
    "\n",
    "    # Coeficiente de correlación de Pearson\n",
    "    pearson_r, pearson_p = stats.pearsonr(x_data, y_data)\n",
    "\n",
    "    # Estadístico T para prueba de correlación\n",
    "    t_stat = pearson_r * np.sqrt(n - 2) / np.sqrt(1 - pearson_r**2)\n",
    "    t_pvalue = 2 * (1 - stats.t.cdf(abs(t_stat), n - 2))\n",
    "\n",
    "    # Transformación de Fisher para intervalo de confianza del coeficiente de correlación\n",
    "    z = 0.5 * np.log((1 + pearson_r) / (1 - pearson_r))\n",
    "    se_z = 1 / np.sqrt(n - 3)\n",
    "    z_crit = stats.norm.ppf(1 - alpha / 2)\n",
    "    ci_z_lower = z - z_crit * se_z\n",
    "    ci_z_upper = z + z_crit * se_z\n",
    "\n",
    "    # Transformación inversa para obtener el intervalo de confianza en términos de r\n",
    "    ci_r_lower = (np.exp(2 * ci_z_lower) - 1) / (np.exp(2 * ci_z_lower) + 1)\n",
    "    ci_r_upper = (np.exp(2 * ci_z_upper) - 1) / (np.exp(2 * ci_z_upper) + 1)\n",
    "\n",
    "    # Resultados\n",
    "    test_results = {\n",
    "        \"params\": results.params,\n",
    "        \"se\": se_params,\n",
    "        \"t_stats\": t_stats,\n",
    "        \"p_values\": p_values,\n",
    "        'ci_lower': ci[0],  # Accedemos a la primera columna del DataFrame\n",
    "        'ci_upper': ci[1],  # Accedemos a la segunda columna del DataFrame\n",
    "        \"r_squared\": r_squared,\n",
    "        \"r_squared_adj\": r_squared_adj,\n",
    "        \"f_stat\": f_stat,\n",
    "        \"f_pvalue\": f_pvalue,\n",
    "        \"residual_se\": se,\n",
    "        \"df\": df,\n",
    "        \"pearson_r\": pearson_r,\n",
    "        \"pearson_p\": pearson_p,\n",
    "        \"t_stat_corr\": t_stat,\n",
    "        \"t_pvalue_corr\": t_pvalue,\n",
    "        \"ci_r_lower\": ci_r_lower,\n",
    "        \"ci_r_upper\": ci_r_upper,\n",
    "    }\n",
    "\n",
    "    return test_results\n",
    "\n",
    "\n",
    "# Ejecutar pruebas estadísticas para días de semana\n",
    "s_test_results = test_linear_model(dat[\"s_jam\"], dat[\"s_accident\"], results)\n",
    "\n",
    "# Imprimir resultados para días de semana\n",
    "print(\"\\n\" + \"=\" * 50)\n",
    "print(\"PRUEBA DE HIPÓTESIS - MODELO LINEAL\")\n",
    "print(\"DÍAS DE SEMANA\")\n",
    "print(\"=\" * 50)\n",
    "print(f\"Modelo: y = {s_test_results['params']['s_jam']:.4f}x + {s_test_results['params']['Intercept']:.4f}\")\n",
    "print(f\"\\nR²: {s_test_results['r_squared']:.4f}\")\n",
    "print(f\"R² ajustado: {s_test_results['r_squared_adj']:.4f}\")\n",
    "print(f\"Coeficiente de correlación de Pearson: {s_test_results['pearson_r']:.4f}\")\n",
    "print(f\"Intervalo de confianza (95%) para r: [{s_test_results['ci_r_lower']:.4f}, {s_test_results['ci_r_upper']:.4f}]\")\n",
    "\n",
    "print(\"\\nPrueba de significancia de parámetros:\")\n",
    "print(\n",
    "    f\"Intercepto: t = {s_test_results['t_stats']['Intercept']:.4f}, p-valor = {s_test_results['p_values']['Intercept']:.6f}\"\n",
    ")\n",
    "print(f\"    IC 95%: [{s_test_results['ci_lower']['Intercept']:.4f}, {s_test_results['ci_upper']['Intercept']:.4f}]\")\n",
    "print(f\"Pendiente: t = {s_test_results['t_stats']['s_jam']:.4f}, p-valor = {s_test_results['p_values']['s_jam']:.6f}\")\n",
    "print(f\"    IC 95%: [{s_test_results['ci_lower']['s_jam']:.4f}, {s_test_results['ci_upper']['s_jam']:.4f}]\")\n",
    "\n",
    "print(\"\\nPrueba de correlación:\")\n",
    "print(f\"Estadístico T: {s_test_results['t_stat_corr']:.4f}\")\n",
    "print(f\"Valor p: {s_test_results['t_pvalue_corr']:.6f}\")\n",
    "\n",
    "print(\"\\nPrueba F para significancia global del modelo:\")\n",
    "print(f\"F({len(s_test_results['params']) - 1}, {s_test_results['df']}): {s_test_results['f_stat']:.4f}\")\n",
    "print(f\"p-valor: {s_test_results['f_pvalue']:.6f}\")\n",
    "\n",
    "# Conclusiones\n",
    "alpha = 0.05\n",
    "print(\"\\nConclusiones:\")\n",
    "if s_test_results[\"f_pvalue\"] < alpha:\n",
    "    print(f\"- El modelo es estadísticamente significativo (p < {alpha})\")\n",
    "else:\n",
    "    print(f\"- No hay suficiente evidencia para afirmar que el modelo es significativo (p > {alpha})\")\n",
    "\n",
    "if s_test_results[\"pearson_p\"] < alpha:\n",
    "    print(f\"- Existe una correlación lineal estadísticamente significativa (p < {alpha})\")\n",
    "else:\n",
    "    print(f\"- No hay suficiente evidencia para afirmar que existe correlación lineal (p > {alpha})\")\n",
    "\n",
    "# Repetir para los datos de fin de semana\n",
    "f_test_results = test_linear_model(dat_f[\"f_jam\"], dat_f[\"f_accident\"], results_f)\n",
    "\n",
    "# Imprimir resultados para fines de semana\n",
    "print(\"\\n\" + \"=\" * 50)\n",
    "print(\"PRUEBA DE HIPÓTESIS - MODELO LINEAL\")\n",
    "print(\"FIN DE SEMANA\")\n",
    "print(\"=\" * 50)\n",
    "print(f\"Modelo: y = {f_test_results['params']['f_jam']:.4f}x + {f_test_results['params']['Intercept']:.4f}\")\n",
    "print(f\"\\nR²: {f_test_results['r_squared']:.4f}\")\n",
    "print(f\"R² ajustado: {f_test_results['r_squared_adj']:.4f}\")\n",
    "print(f\"Coeficiente de correlación de Pearson: {f_test_results['pearson_r']:.4f}\")\n",
    "print(f\"Intervalo de confianza (95%) para r: [{f_test_results['ci_r_lower']:.4f}, {f_test_results['ci_r_upper']:.4f}]\")\n",
    "\n",
    "print(\"\\nPrueba de significancia de parámetros:\")\n",
    "print(\n",
    "    f\"Intercepto: t = {f_test_results['t_stats']['Intercept']:.4f}, p-valor = {f_test_results['p_values']['Intercept']:.6f}\"\n",
    ")\n",
    "print(f\"    IC 95%: [{f_test_results['ci_lower']['Intercept']:.4f}, {f_test_results['ci_upper']['Intercept']:.4f}]\")\n",
    "print(f\"Pendiente: t = {f_test_results['t_stats']['f_jam']:.4f}, p-valor = {f_test_results['p_values']['f_jam']:.6f}\")\n",
    "print(f\"    IC 95%: [{f_test_results['ci_lower']['f_jam']:.4f}, {f_test_results['ci_upper']['f_jam']:.4f}]\")\n",
    "\n",
    "print(\"\\nPrueba de correlación:\")\n",
    "print(f\"Estadístico T: {f_test_results['t_stat_corr']:.4f}\")\n",
    "print(f\"Valor p: {f_test_results['t_pvalue_corr']:.6f}\")\n",
    "\n",
    "print(\"\\nPrueba F para significancia global del modelo:\")\n",
    "print(f\"F({len(f_test_results['params']) - 1}, {f_test_results['df']}): {f_test_results['f_stat']:.4f}\")\n",
    "print(f\"p-valor: {f_test_results['f_pvalue']:.6f}\")\n",
    "\n",
    "# Conclusiones para fin de semana\n",
    "print(\"\\nConclusiones:\")\n",
    "if f_test_results[\"f_pvalue\"] < alpha:\n",
    "    print(f\"- El modelo es estadísticamente significativo (p < {alpha})\")\n",
    "else:\n",
    "    print(f\"- No hay suficiente evidencia para afirmar que el modelo es significativo (p > {alpha})\")\n",
    "\n",
    "if f_test_results[\"pearson_p\"] < alpha:\n",
    "    print(f\"- Existe una correlación lineal estadísticamente significativa (p < {alpha})\")\n",
    "else:\n",
    "    print(f\"- No hay suficiente evidencia para afirmar que existe correlación lineal (p > {alpha})\")\n",
    "\n",
    "# Gráficos de diagnóstico para los residuos\n",
    "plt.figure(figsize=(15, 5))\n",
    "plt.subplot(1, 2, 1)\n",
    "plt.scatter(results.fittedvalues, results.resid, alpha=0.7)\n",
    "plt.axhline(y=0, color=\"r\", linestyle=\"-\")\n",
    "plt.xlabel(\"Valores ajustados\")\n",
    "plt.ylabel(\"Residuos\")\n",
    "plt.title(\"Residuos - Días de semana\")\n",
    "\n",
    "plt.subplot(1, 2, 2)\n",
    "plt.scatter(results_f.fittedvalues, results_f.resid, alpha=0.7)\n",
    "plt.axhline(y=0, color=\"r\", linestyle=\"-\")\n",
    "plt.xlabel(\"Valores ajustados\")\n",
    "plt.ylabel(\"Residuos\")\n",
    "plt.title(\"Residuos - Fin de semana\")\n",
    "\n",
    "plt.tight_layout()\n",
    "plt.savefig(\"thesis/images/residuos_lin.png\")\n",
    "plt.show()\n",
    "\n",
    "# QQ Plot para verificar normalidad de residuos\n",
    "plt.figure(figsize=(15, 5))\n",
    "plt.subplot(1, 2, 1)\n",
    "stats.probplot(results.resid, plot=plt)\n",
    "plt.title(\"QQ Plot - Días de semana\")\n",
    "\n",
    "plt.subplot(1, 2, 2)\n",
    "stats.probplot(results_f.resid, plot=plt)\n",
    "plt.title(\"QQ Plot - Fin de semana\")\n",
    "\n",
    "plt.tight_layout()\n",
    "plt.savefig(\"thesis/images/qq_lin.png\")\n",
    "plt.show()"
   ]
  }
 ],
 "metadata": {
  "kernelspec": {
   "display_name": "Python 3 (ipykernel)",
   "language": "python",
   "name": "python3"
  },
  "language_info": {
   "codemirror_mode": {
    "name": "ipython",
    "version": 3
   },
   "file_extension": ".py",
   "mimetype": "text/x-python",
   "name": "python",
   "nbconvert_exporter": "python",
   "pygments_lexer": "ipython3",
   "version": "3.12.4"
  }
 },
 "nbformat": 4,
 "nbformat_minor": 4
}
