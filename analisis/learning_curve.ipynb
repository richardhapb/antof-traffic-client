{
 "cells": [
  {
   "cell_type": "code",
   "execution_count": null,
   "id": "2ace19e8",
   "metadata": {},
   "outputs": [],
   "source": [
    "import sys\n",
    "import os\n",
    "from pathlib import Path\n",
    "\n",
    "root = Path().resolve()\n",
    "\n",
    "if \"analisis\" in os.getcwd():\n",
    "    root = root.parent\n",
    "    os.chdir(root)\n",
    "\n",
    "src_path = str(root.joinpath(Path(\"src\")))\n",
    "\n",
    "sys.path.append(src_path)\n",
    "from datetime import datetime\n",
    "import pytz\n",
    "import numpy as np\n",
    "import pandas as pd\n",
    "import matplotlib.pyplot as plt\n",
    "from dashboard.train import train\n",
    "from utils.utils import ALERTS_END_TIMESTAMP, TZ"
   ]
  },
  {
   "cell_type": "code",
   "execution_count": null,
   "id": "a7964c78",
   "metadata": {},
   "outputs": [],
   "source": [
    "\n",
    "ml = train(False, datetime.fromtimestamp(ALERTS_END_TIMESTAMP / 1000, tz=pytz.timezone(TZ)))\n",
    "\n",
    "if not ml:\n",
    "    raise ValueError"
   ]
  },
  {
   "cell_type": "code",
   "execution_count": null,
   "id": "2168260d",
   "metadata": {},
   "outputs": [],
   "source": [
    "\n",
    "from sklearn.model_selection import LearningCurveDisplay, ShuffleSplit\n",
    "\n",
    "fig = plt.figure(figsize=(10, 6))\n",
    "ax = plt.gca()\n",
    "\n",
    "common_params = {\n",
    "    \"X\": ml.x,\n",
    "    \"y\": ml.y,\n",
    "    \"train_sizes\": np.linspace(0.1, 1.0, 5),\n",
    "    \"cv\": ShuffleSplit(n_splits=20, test_size=0.2, random_state=0),\n",
    "    \"score_type\": \"both\",\n",
    "    \"n_jobs\": 4,\n",
    "    \"line_kw\": {\"marker\": \"o\"},\n",
    "    \"std_display_style\": \"fill_between\",\n",
    "    \"score_name\": \"Accuracy\",\n",
    "}\n",
    "\n",
    "LearningCurveDisplay.from_estimator(ml.model, **common_params, ax=ax)\n",
    "handles, label = ax.get_legend_handles_labels()\n",
    "\n",
    "ax.set_xlim(left=0)\n",
    "ax.set_ylim(0, 1)\n",
    "ax.set_xlabel(\"Número de muestras en el conjunto de entrenamiento\")\n",
    "ax.set_ylabel(\"Exactitud (Accuracy)\")\n",
    "ax.tick_params(axis=\"both\", which=\"major\", labelsize=12)\n",
    "ax.legend(handles[:2], [\"Puntaje de entrenamiento\", \"Puntaje de validación\"], loc=\"lower right\", fontsize=12)\n",
    "fig.tight_layout()\n",
    "plt.savefig(\"thesis/images/learning_curve.png\")\n",
    "fig.show()"
   ]
  }
 ],
 "metadata": {
  "kernelspec": {
   "display_name": "Python 3",
   "language": "python",
   "name": "python3"
  }
 },
 "nbformat": 4,
 "nbformat_minor": 5
}
