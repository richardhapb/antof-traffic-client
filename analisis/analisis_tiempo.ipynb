{
 "cells": [
  {
   "cell_type": "code",
   "execution_count": 3,
   "metadata": {},
   "outputs": [],
   "source": [
    "import pandas as pd\n",
    "import json\n",
    "import utils\n",
    "from scipy.spatial import cKDTree\n",
    "import numpy as np\n",
    "\n",
    "with open('data/waze.json', 'r') as f:\n",
    "    data = json.load(f)\n",
    "    f.close()\n",
    "alerts = pd.DataFrame(data['alerts'])"
   ]
  },
  {
   "cell_type": "code",
   "execution_count": 4,
   "metadata": {},
   "outputs": [
    {
     "data": {
      "text/html": [
       "<div>\n",
       "<style scoped>\n",
       "    .dataframe tbody tr th:only-of-type {\n",
       "        vertical-align: middle;\n",
       "    }\n",
       "\n",
       "    .dataframe tbody tr th {\n",
       "        vertical-align: top;\n",
       "    }\n",
       "\n",
       "    .dataframe thead th {\n",
       "        text-align: right;\n",
       "    }\n",
       "</style>\n",
       "<table border=\"1\" class=\"dataframe\">\n",
       "  <thead>\n",
       "    <tr style=\"text-align: right;\">\n",
       "      <th></th>\n",
       "      <th>country</th>\n",
       "      <th>city</th>\n",
       "      <th>reportRating</th>\n",
       "      <th>reportByMunicipalityUser</th>\n",
       "      <th>confidence</th>\n",
       "      <th>reliability</th>\n",
       "      <th>type</th>\n",
       "      <th>uuid</th>\n",
       "      <th>roadType</th>\n",
       "      <th>magvar</th>\n",
       "      <th>subtype</th>\n",
       "      <th>street</th>\n",
       "      <th>pubMillis</th>\n",
       "      <th>endreport</th>\n",
       "      <th>reportDescription</th>\n",
       "      <th>x</th>\n",
       "      <th>y</th>\n",
       "      <th>geometry</th>\n",
       "    </tr>\n",
       "  </thead>\n",
       "  <tbody>\n",
       "    <tr>\n",
       "      <th>0</th>\n",
       "      <td>CI</td>\n",
       "      <td>Antofagasta</td>\n",
       "      <td>1</td>\n",
       "      <td>false</td>\n",
       "      <td>5</td>\n",
       "      <td>10</td>\n",
       "      <td>HAZARD</td>\n",
       "      <td>a123f22e-e5e0-4c6c-8a4e-7434c4fd2110</td>\n",
       "      <td>6.0</td>\n",
       "      <td>17</td>\n",
       "      <td>HAZARD_ON_ROAD_CONSTRUCTION</td>\n",
       "      <td>Av. República de Croacia</td>\n",
       "      <td>1724417637000</td>\n",
       "      <td>1.724425e+12</td>\n",
       "      <td>NaN</td>\n",
       "      <td>-70.412429</td>\n",
       "      <td>-23.676846</td>\n",
       "      <td>POINT (-7838275.742 -2714079.538)</td>\n",
       "    </tr>\n",
       "    <tr>\n",
       "      <th>1</th>\n",
       "      <td>CI</td>\n",
       "      <td>Antofagasta</td>\n",
       "      <td>0</td>\n",
       "      <td>false</td>\n",
       "      <td>0</td>\n",
       "      <td>5</td>\n",
       "      <td>JAM</td>\n",
       "      <td>1d8df954-e380-4327-8015-f4fbadf74f2d</td>\n",
       "      <td>6.0</td>\n",
       "      <td>4</td>\n",
       "      <td>JAM_HEAVY_TRAFFIC</td>\n",
       "      <td>Av. Edmundo Pérez Zujovic</td>\n",
       "      <td>1724423878000</td>\n",
       "      <td>1.724425e+12</td>\n",
       "      <td>NaN</td>\n",
       "      <td>-70.392283</td>\n",
       "      <td>-23.617475</td>\n",
       "      <td>POINT (-7836033.099 -2706864.568)</td>\n",
       "    </tr>\n",
       "    <tr>\n",
       "      <th>2</th>\n",
       "      <td>CI</td>\n",
       "      <td>Antofagasta</td>\n",
       "      <td>0</td>\n",
       "      <td>false</td>\n",
       "      <td>0</td>\n",
       "      <td>5</td>\n",
       "      <td>JAM</td>\n",
       "      <td>c53a5bc6-f6b6-44b8-a5bd-af69b60a4580</td>\n",
       "      <td>1.0</td>\n",
       "      <td>359</td>\n",
       "      <td></td>\n",
       "      <td>Pasaje El Volcán</td>\n",
       "      <td>1724425406000</td>\n",
       "      <td>1.724425e+12</td>\n",
       "      <td>NaN</td>\n",
       "      <td>-70.385619</td>\n",
       "      <td>-23.573323</td>\n",
       "      <td>POINT (-7835291.266 -2701501.184)</td>\n",
       "    </tr>\n",
       "  </tbody>\n",
       "</table>\n",
       "</div>"
      ],
      "text/plain": [
       "  country         city  reportRating reportByMunicipalityUser  confidence  \\\n",
       "0      CI  Antofagasta             1                    false           5   \n",
       "1      CI  Antofagasta             0                    false           0   \n",
       "2      CI  Antofagasta             0                    false           0   \n",
       "\n",
       "   reliability    type                                  uuid  roadType  \\\n",
       "0           10  HAZARD  a123f22e-e5e0-4c6c-8a4e-7434c4fd2110       6.0   \n",
       "1            5     JAM  1d8df954-e380-4327-8015-f4fbadf74f2d       6.0   \n",
       "2            5     JAM  c53a5bc6-f6b6-44b8-a5bd-af69b60a4580       1.0   \n",
       "\n",
       "   magvar                      subtype                     street  \\\n",
       "0      17  HAZARD_ON_ROAD_CONSTRUCTION   Av. República de Croacia   \n",
       "1       4            JAM_HEAVY_TRAFFIC  Av. Edmundo Pérez Zujovic   \n",
       "2     359                                        Pasaje El Volcán   \n",
       "\n",
       "       pubMillis     endreport reportDescription          x          y  \\\n",
       "0  1724417637000  1.724425e+12               NaN -70.412429 -23.676846   \n",
       "1  1724423878000  1.724425e+12               NaN -70.392283 -23.617475   \n",
       "2  1724425406000  1.724425e+12               NaN -70.385619 -23.573323   \n",
       "\n",
       "                            geometry  \n",
       "0  POINT (-7838275.742 -2714079.538)  \n",
       "1  POINT (-7836033.099 -2706864.568)  \n",
       "2  POINT (-7835291.266 -2701501.184)  "
      ]
     },
     "execution_count": 4,
     "metadata": {},
     "output_type": "execute_result"
    }
   ],
   "source": [
    "alerts = utils.separate_coords(alerts)\n",
    "\n",
    "alerts.head(3)"
   ]
  },
  {
   "cell_type": "code",
   "execution_count": 5,
   "metadata": {},
   "outputs": [
    {
     "data": {
      "text/html": [
       "<div>\n",
       "<style scoped>\n",
       "    .dataframe tbody tr th:only-of-type {\n",
       "        vertical-align: middle;\n",
       "    }\n",
       "\n",
       "    .dataframe tbody tr th {\n",
       "        vertical-align: top;\n",
       "    }\n",
       "\n",
       "    .dataframe thead th {\n",
       "        text-align: right;\n",
       "    }\n",
       "</style>\n",
       "<table border=\"1\" class=\"dataframe\">\n",
       "  <thead>\n",
       "    <tr style=\"text-align: right;\">\n",
       "      <th></th>\n",
       "      <th>pubMillis</th>\n",
       "      <th>endreport</th>\n",
       "      <th>x</th>\n",
       "      <th>y</th>\n",
       "      <th>geometry</th>\n",
       "    </tr>\n",
       "  </thead>\n",
       "  <tbody>\n",
       "    <tr>\n",
       "      <th>0</th>\n",
       "      <td>1724417637000</td>\n",
       "      <td>1.724425e+12</td>\n",
       "      <td>-70.412429</td>\n",
       "      <td>-23.676846</td>\n",
       "      <td>POINT (-7838275.742 -2714079.538)</td>\n",
       "    </tr>\n",
       "    <tr>\n",
       "      <th>1</th>\n",
       "      <td>1724423878000</td>\n",
       "      <td>1.724425e+12</td>\n",
       "      <td>-70.392283</td>\n",
       "      <td>-23.617475</td>\n",
       "      <td>POINT (-7836033.099 -2706864.568)</td>\n",
       "    </tr>\n",
       "    <tr>\n",
       "      <th>2</th>\n",
       "      <td>1724425406000</td>\n",
       "      <td>1.724425e+12</td>\n",
       "      <td>-70.385619</td>\n",
       "      <td>-23.573323</td>\n",
       "      <td>POINT (-7835291.266 -2701501.184)</td>\n",
       "    </tr>\n",
       "  </tbody>\n",
       "</table>\n",
       "</div>"
      ],
      "text/plain": [
       "       pubMillis     endreport          x          y  \\\n",
       "0  1724417637000  1.724425e+12 -70.412429 -23.676846   \n",
       "1  1724423878000  1.724425e+12 -70.392283 -23.617475   \n",
       "2  1724425406000  1.724425e+12 -70.385619 -23.573323   \n",
       "\n",
       "                            geometry  \n",
       "0  POINT (-7838275.742 -2714079.538)  \n",
       "1  POINT (-7836033.099 -2706864.568)  \n",
       "2  POINT (-7835291.266 -2701501.184)  "
      ]
     },
     "execution_count": 5,
     "metadata": {},
     "output_type": "execute_result"
    }
   ],
   "source": [
    "alerts = alerts[['pubMillis', 'endreport', 'x', 'y', 'geometry']]\n",
    "alerts.head(3)"
   ]
  },
  {
   "cell_type": "code",
   "execution_count": 8,
   "metadata": {},
   "outputs": [
    {
     "data": {
      "text/plain": [
       "array([list([0, 20, 83, 115, 187, 399, 445, 560, 606, 608, 1169, 1182, 1729, 1806, 1808, 2186, 2187, 2379, 2382, 2533, 2596, 3253, 3493, 3715, 3716, 3720, 3721, 3767, 4757, 4758, 4914, 5193, 5832, 5880, 7114, 7277, 7375, 8211, 8467, 8471, 8666, 8680, 8748, 8897, 8911, 9054, 9056, 9235, 9307, 9338, 9584, 9659, 9674, 9944, 10705, 10932, 10942, 10944, 10951]),\n",
       "       list([1, 21, 29, 104, 169, 299, 389, 390, 391, 492, 529, 555, 598, 638, 664, 728, 809, 964, 1031, 1072, 1109, 1111, 1112, 1146, 1231, 1232, 1257, 1319, 1469, 1504, 1517, 1526, 1559, 1578, 1636, 1773, 1959, 1981, 2241, 2250, 2286, 2322, 2326, 2328, 2401, 2448, 2458, 2461, 2523, 2571, 2695, 2753, 2755, 2761, 2789, 2851, 2866, 2883, 3014, 3020, 3092, 3107, 3195, 3198, 3256, 3296, 3299, 3474, 3597, 3599, 3959, 3964, 3989, 4046, 4072, 4079, 4138, 4256, 4266, 4271, 4273, 4275, 4281, 4282, 4292, 4318, 4361, 4456, 4466, 4534, 4620, 4661, 4805, 4872, 4954, 4957, 5199, 5242, 5253, 5267, 5382, 5410, 5427, 5490, 5524, 5527, 5619, 5908, 5911, 5914, 5917, 5920, 5926, 5927, 5973, 5978, 6104, 6139, 6194, 6195, 6197, 6224, 6231, 6237, 6267, 6311, 6342, 6345, 6421, 6514, 6539, 6566, 6635, 6648, 6816, 6830, 6840, 6998, 7000, 7298, 7333, 7360, 7500, 7579, 7585, 7590, 7592, 7593, 7595, 7597, 7604, 7606, 7607, 7653, 7678, 7681, 7729, 7752, 7753, 7780, 7828, 7879, 7989, 7997, 8008, 8093, 8096, 8123, 8225, 8264, 8318, 8370, 8378, 8379, 8468, 8483, 8518, 8569, 8582, 8592, 8656, 8714, 8816, 9286, 9379, 9474, 9485, 9539, 9574, 9606, 9608, 9884, 9975, 10231, 10270, 10419, 10420, 10531, 10540, 10616, 10773, 10789, 10808, 10926, 10927, 11019, 11087]),\n",
       "       list([2, 196, 1811, 1962, 2283, 2846, 3629, 4486, 5048, 5511, 5891, 6296, 6485, 6598, 6769, 7796, 8598, 10406, 10444]),\n",
       "       ...,\n",
       "       list([70, 96, 174, 201, 279, 282, 283, 284, 300, 339, 343, 378, 393, 402, 483, 484, 519, 533, 693, 700, 811, 843, 846, 847, 850, 851, 852, 853, 856, 910, 914, 916, 949, 984, 988, 1086, 1088, 1119, 1120, 1213, 1241, 1261, 1262, 1271, 1354, 1416, 1436, 1479, 1490, 1499, 1508, 1522, 1558, 1573, 1643, 1654, 1666, 1737, 1781, 1842, 1849, 1882, 1884, 1961, 1975, 1987, 1988, 2012, 2013, 2020, 2021, 2029, 2041, 2045, 2059, 2062, 2066, 2085, 2108, 2120, 2139, 2154, 2155, 2158, 2192, 2213, 2214, 2215, 2216, 2221, 2233, 2318, 2329, 2335, 2366, 2408, 2417, 2430, 2469, 2581, 2589, 2639, 2678, 2726, 2732, 2737, 2842, 2855, 2881, 2960, 2982, 2986, 2994, 3008, 3013, 3066, 3074, 3089, 3099, 3105, 3113, 3115, 3116, 3156, 3157, 3202, 3207, 3218, 3247, 3269, 3271, 3342, 3380, 3418, 3466, 3468, 3488, 3498, 3504, 3517, 3522, 3526, 3534, 3535, 3538, 3547, 3548, 3601, 3606, 3612, 3613, 3616, 3617, 3624, 3627, 3633, 3641, 3644, 3647, 3652, 3661, 3664, 3671, 3675, 3682, 3688, 3691, 3692, 3693, 3700, 3754, 3770, 3815, 3847, 3878, 3894, 3903, 3912, 3923, 3947, 3948, 3969, 3974, 3978, 3990, 3998, 4001, 4030, 4040, 4044, 4057, 4059, 4064, 4065, 4078, 4082, 4087, 4088, 4090, 4091, 4107, 4111, 4126, 4129, 4137, 4139, 4140, 4141, 4157, 4181, 4197, 4206, 4236, 4308, 4337, 4367, 4383, 4397, 4401, 4496, 4497, 4527, 4528, 4529, 4531, 4540, 4541, 4542, 4545, 4546, 4574, 4606, 4641, 4667, 4668, 4674, 4783, 4807, 4827, 4837, 4848, 4852, 4859, 4861, 4863, 4876, 4879, 4883, 4895, 4902, 4925, 4965, 4971, 4972, 4993, 4996, 4998, 5007, 5012, 5015, 5017, 5024, 5028, 5033, 5034, 5036, 5037, 5039, 5041, 5111, 5135, 5144, 5149, 5198, 5212, 5224, 5238, 5240, 5263, 5301, 5349, 5381, 5390, 5391, 5392, 5399, 5422, 5436, 5495, 5532, 5556, 5649, 5650, 5659, 5660, 5661, 5663, 5671, 5938, 6039, 6041, 6076, 6087, 6101, 6117, 6120, 6128, 6218, 6228, 6255, 6312, 6321, 6594, 6706, 6716, 6719, 6740, 6772, 6846, 6883, 6888, 6889, 6899, 6912, 6920, 6929, 6986, 6996, 7012, 7013, 7031, 7038, 7095, 7097, 7100, 7122, 7172, 7179, 7184, 7185, 7190, 7203, 7221, 7222, 7231, 7268, 7270, 7278, 7279, 7329, 7418, 7434, 7469, 7481, 7526, 7533, 7534, 7535, 7545, 7559, 7582, 7667, 7685, 7691, 7714, 7724, 7750, 7756, 7820, 7831, 7839, 7858, 7900, 7932, 7937, 8020, 8047, 8114, 8140, 8145, 8191, 8214, 8216, 8233, 8236, 8257, 8262, 8413, 8461, 8490, 8505, 8517, 8537, 8614, 8634, 8641, 8644, 8646, 8651, 8654, 8662, 8669, 8694, 8747, 8763, 8787, 8802, 8805, 8807, 8846, 8849, 8855, 8860, 8887, 8888, 8928, 8931, 8932, 8940, 8944, 8946, 8947, 8955, 8996, 9018, 9101, 9122, 9156, 9159, 9169, 9184, 9201, 9225, 9234, 9251, 9291, 9349, 9352, 9371, 9396, 9469, 9484, 9490, 9509, 9530, 9602, 9610, 9614, 9648, 9684, 9708, 9722, 9743, 9808, 9810, 9813, 9904, 9953, 9972, 9997, 9998, 10004, 10010, 10052, 10081, 10088, 10097, 10099, 10112, 10119, 10123, 10125, 10228, 10239, 10260, 10268, 10275, 10277, 10286, 10300, 10306, 10321, 10417, 10418, 10460, 10483, 10500, 10506, 10507, 10512, 10532, 10543, 10580, 10581, 10594, 10596, 10599, 10657, 10691, 10747, 10759, 10781, 10788, 10797, 10809, 10834, 11035, 11061, 11134, 11200, 11201, 11247, 11248]),\n",
       "       list([58, 62, 74, 149, 174, 201, 203, 205, 213, 225, 234, 279, 282, 283, 284, 287, 297, 300, 307, 318, 339, 343, 377, 378, 393, 402, 519, 625, 657, 700, 843, 846, 847, 850, 852, 853, 856, 866, 914, 949, 984, 986, 987, 988, 1083, 1120, 1193, 1196, 1201, 1213, 1216, 1241, 1330, 1335, 1354, 1362, 1426, 1429, 1434, 1442, 1479, 1490, 1499, 1507, 1508, 1573, 1706, 1737, 1738, 1756, 1781, 1783, 1784, 1818, 1841, 1882, 1884, 1887, 1961, 1975, 2012, 2020, 2021, 2029, 2030, 2038, 2041, 2045, 2059, 2062, 2085, 2100, 2108, 2120, 2139, 2192, 2221, 2329, 2335, 2366, 2417, 2430, 2433, 2469, 2482, 2520, 2566, 2573, 2632, 2639, 2726, 2730, 2732, 2737, 2827, 2855, 2862, 2864, 2881, 2932, 2933, 2937, 2960, 2977, 2982, 2986, 2994, 3008, 3066, 3074, 3085, 3088, 3089, 3105, 3113, 3115, 3156, 3157, 3159, 3202, 3247, 3269, 3342, 3401, 3441, 3468, 3488, 3495, 3504, 3535, 3538, 3547, 3548, 3601, 3606, 3612, 3613, 3614, 3616, 3624, 3627, 3633, 3641, 3644, 3647, 3652, 3661, 3664, 3675, 3681, 3682, 3688, 3691, 3692, 3693, 3700, 3754, 3762, 3770, 3828, 3878, 3894, 3947, 3990, 4019, 4040, 4043, 4056, 4057, 4059, 4078, 4087, 4091, 4104, 4107, 4108, 4118, 4129, 4131, 4136, 4137, 4141, 4156, 4157, 4197, 4206, 4236, 4254, 4267, 4337, 4346, 4367, 4391, 4401, 4423, 4431, 4449, 4496, 4527, 4528, 4529, 4531, 4540, 4541, 4542, 4545, 4546, 4574, 4592, 4606, 4641, 4667, 4726, 4747, 4783, 4852, 4855, 4861, 4864, 4879, 4883, 4902, 4905, 4925, 4964, 4965, 4971, 4993, 4997, 4998, 5007, 5017, 5018, 5019, 5020, 5021, 5024, 5028, 5036, 5037, 5038, 5039, 5042, 5098, 5129, 5131, 5134, 5135, 5149, 5190, 5192, 5194, 5198, 5212, 5224, 5238, 5240, 5263, 5301, 5385, 5387, 5390, 5391, 5398, 5399, 5401, 5402, 5422, 5436, 5443, 5492, 5493, 5495, 5500, 5510, 5532, 5554, 5556, 5648, 5649, 5650, 5659, 5660, 5663, 5671, 5694, 5938, 5983, 6029, 6039, 6071, 6076, 6087, 6093, 6118, 6120, 6128, 6138, 6159, 6255, 6312, 6319, 6321, 6404, 6416, 6519, 6624, 6654, 6659, 6707, 6719, 6737, 6748, 6772, 6846, 6883, 6888, 6889, 6899, 6920, 6929, 6948, 6986, 6996, 7012, 7013, 7031, 7038, 7094, 7095, 7100, 7122, 7179, 7184, 7190, 7193, 7203, 7231, 7270, 7279, 7341, 7353, 7362, 7434, 7462, 7469, 7481, 7559, 7577, 7578, 7582, 7633, 7691, 7701, 7714, 7724, 7815, 7820, 7827, 7831, 7839, 7858, 7885, 7900, 7932, 7937, 7966, 7971, 8020, 8025, 8158, 8191, 8214, 8216, 8231, 8257, 8262, 8413, 8460, 8490, 8510, 8517, 8537, 8640, 8644, 8651, 8654, 8747, 8762, 8763, 8766, 8791, 8802, 8805, 8807, 8818, 8846, 8850, 8860, 8879, 8887, 8888, 8932, 8940, 8944, 8946, 8947, 8948, 8951, 8952, 8955, 8961, 8996, 9018, 9097, 9101, 9136, 9156, 9159, 9169, 9184, 9225, 9254, 9291, 9303, 9349, 9364, 9371, 9392, 9396, 9402, 9418, 9422, 9469, 9478, 9484, 9486, 9490, 9509, 9542, 9563, 9581, 9597, 9602, 9642, 9648, 9708, 9743, 9750, 9770, 9801, 9808, 9825, 9977, 9978, 9997, 10010, 10018, 10052, 10081, 10088, 10099, 10111, 10119, 10140, 10168, 10228, 10232, 10239, 10243, 10255, 10260, 10267, 10277, 10286, 10300, 10306, 10307, 10321, 10417, 10418, 10460, 10483, 10499, 10507, 10512, 10532, 10543, 10580, 10581, 10594, 10599, 10657, 10688, 10691, 10722, 10759, 10764, 10788, 10797, 10821, 10826, 10832, 10834, 10931, 10997, 11014, 11027, 11029, 11061, 11106, 11127, 11134, 11200, 11201, 11202, 11206, 11246, 11247, 11248]),\n",
       "       list([10, 49, 65, 95, 120, 369, 569, 587, 588, 593, 870, 1032, 1648, 1720, 1765, 1864, 1879, 1898, 2088, 2446, 2449, 2450, 2473, 2691, 2693, 2943, 3281, 3398, 3436, 3609, 3701, 3704, 3899, 3941, 3963, 4032, 4169, 4249, 4285, 4437, 4452, 4518, 4523, 4962, 5153, 5221, 5479, 5488, 5574, 5602, 5717, 5785, 5786, 5794, 5798, 5873, 5888, 6279, 6328, 6349, 6453, 6454, 6506, 6518, 6579, 6703, 6753, 6819, 6821, 6868, 6936, 6970, 7171, 7242, 7387, 7842, 7941, 8121, 8125, 8148, 8157, 8277, 8439, 8700, 9031, 9041, 9044, 9047, 9049, 9050, 9128, 9187, 9624, 9704, 9942, 9951, 10005, 10155, 10237, 10474, 10477, 10778, 10782, 10783, 10867, 11044, 11058, 11063, 11066, 11067, 11068, 11069, 11082, 11083, 11092, 11103, 11104, 11109, 11110, 11147, 11157, 11167, 11172, 11177, 11185, 11186, 11193, 11196, 11223, 11225, 11226, 11228, 11243, 11249])],\n",
       "      dtype=object)"
      ]
     },
     "execution_count": 8,
     "metadata": {},
     "output_type": "execute_result"
    }
   ],
   "source": [
    "# Verifica si hay alertas cercanas en el mismo periodo de tiempo, con el fin de evaluar si hay reportes duplicados\n",
    "\n",
    "rad = 300\n",
    "coords = np.vstack([alerts.geometry.x, alerts.geometry.y]).T\n",
    "tree = cKDTree(coords)\n",
    "duplicates = tree.query_ball_point(coords, r=rad)\n",
    "\n",
    "duplicates\n",
    "### TODO: Continuar revisando si hay reportes duplicados cruzando con tiempo"
   ]
  },
  {
   "cell_type": "code",
   "execution_count": 16,
   "metadata": {},
   "outputs": [],
   "source": [
    "millisday = 24 * 60 * 60 * 1000"
   ]
  },
  {
   "cell_type": "code",
   "execution_count": 19,
   "metadata": {},
   "outputs": [
    {
     "ename": "KeyboardInterrupt",
     "evalue": "",
     "output_type": "error",
     "traceback": [
      "\u001b[0;31m---------------------------------------------------------------------------\u001b[0m",
      "\u001b[0;31mKeyboardInterrupt\u001b[0m                         Traceback (most recent call last)",
      "\u001b[0;32m/var/folders/yx/rq7byh7s6351q7njcpzgf8_w0000gn/T/ipykernel_96171/622404820.py\u001b[0m in \u001b[0;36m?\u001b[0;34m()\u001b[0m\n\u001b[1;32m      2\u001b[0m \u001b[0;34m\u001b[0m\u001b[0m\n\u001b[1;32m      3\u001b[0m \u001b[0;32mfor\u001b[0m \u001b[0mlist_of_duplicates\u001b[0m \u001b[0;32min\u001b[0m \u001b[0mduplicates\u001b[0m\u001b[0;34m:\u001b[0m\u001b[0;34m\u001b[0m\u001b[0;34m\u001b[0m\u001b[0m\n\u001b[1;32m      4\u001b[0m     \u001b[0;32mfor\u001b[0m \u001b[0mi\u001b[0m \u001b[0;32min\u001b[0m \u001b[0mrange\u001b[0m\u001b[0;34m(\u001b[0m\u001b[0mlen\u001b[0m\u001b[0;34m(\u001b[0m\u001b[0mlist_of_duplicates\u001b[0m\u001b[0;34m)\u001b[0m\u001b[0;34m)\u001b[0m\u001b[0;34m:\u001b[0m\u001b[0;34m\u001b[0m\u001b[0;34m\u001b[0m\u001b[0m\n\u001b[1;32m      5\u001b[0m         \u001b[0;32mfor\u001b[0m \u001b[0mj\u001b[0m \u001b[0;32min\u001b[0m \u001b[0mrange\u001b[0m\u001b[0;34m(\u001b[0m\u001b[0mi\u001b[0m \u001b[0;34m+\u001b[0m \u001b[0;36m1\u001b[0m\u001b[0;34m,\u001b[0m \u001b[0mlen\u001b[0m\u001b[0;34m(\u001b[0m\u001b[0mlist_of_duplicates\u001b[0m\u001b[0;34m)\u001b[0m\u001b[0;34m)\u001b[0m\u001b[0;34m:\u001b[0m\u001b[0;34m\u001b[0m\u001b[0;34m\u001b[0m\u001b[0m\n\u001b[0;32m----> 6\u001b[0;31m             \u001b[0;32mif\u001b[0m \u001b[0mnp\u001b[0m\u001b[0;34m.\u001b[0m\u001b[0mabs\u001b[0m\u001b[0;34m(\u001b[0m\u001b[0malerts\u001b[0m\u001b[0;34m.\u001b[0m\u001b[0miloc\u001b[0m\u001b[0;34m[\u001b[0m\u001b[0mlist_of_duplicates\u001b[0m\u001b[0;34m[\u001b[0m\u001b[0mi\u001b[0m\u001b[0;34m]\u001b[0m\u001b[0;34m]\u001b[0m\u001b[0;34m.\u001b[0m\u001b[0mpubMillis\u001b[0m \u001b[0;34m-\u001b[0m \u001b[0malerts\u001b[0m\u001b[0;34m.\u001b[0m\u001b[0miloc\u001b[0m\u001b[0;34m[\u001b[0m\u001b[0mlist_of_duplicates\u001b[0m\u001b[0;34m[\u001b[0m\u001b[0mj\u001b[0m\u001b[0;34m]\u001b[0m\u001b[0;34m]\u001b[0m\u001b[0;34m.\u001b[0m\u001b[0mpubMillis\u001b[0m\u001b[0;34m)\u001b[0m \u001b[0;34m<\u001b[0m \u001b[0mmillisday\u001b[0m \u001b[0;34m/\u001b[0m \u001b[0;36m2\u001b[0m\u001b[0;34m:\u001b[0m\u001b[0;34m\u001b[0m\u001b[0;34m\u001b[0m\u001b[0m\n\u001b[0m\u001b[1;32m      7\u001b[0m                 \u001b[0mduplicate_reports\u001b[0m\u001b[0;34m.\u001b[0m\u001b[0mappend\u001b[0m\u001b[0;34m(\u001b[0m\u001b[0mj\u001b[0m\u001b[0;34m)\u001b[0m\u001b[0;34m\u001b[0m\u001b[0;34m\u001b[0m\u001b[0m\n",
      "\u001b[0;32m~/Documents/Developer/antofTraffic/.venv/lib/python3.12/site-packages/pandas/core/indexing.py\u001b[0m in \u001b[0;36m?\u001b[0;34m(self, key)\u001b[0m\n\u001b[1;32m   1187\u001b[0m             \u001b[0maxis\u001b[0m \u001b[0;34m=\u001b[0m \u001b[0mself\u001b[0m\u001b[0;34m.\u001b[0m\u001b[0maxis\u001b[0m \u001b[0;32mor\u001b[0m \u001b[0;36m0\u001b[0m\u001b[0;34m\u001b[0m\u001b[0;34m\u001b[0m\u001b[0m\n\u001b[1;32m   1188\u001b[0m \u001b[0;34m\u001b[0m\u001b[0m\n\u001b[1;32m   1189\u001b[0m             \u001b[0mmaybe_callable\u001b[0m \u001b[0;34m=\u001b[0m \u001b[0mcom\u001b[0m\u001b[0;34m.\u001b[0m\u001b[0mapply_if_callable\u001b[0m\u001b[0;34m(\u001b[0m\u001b[0mkey\u001b[0m\u001b[0;34m,\u001b[0m \u001b[0mself\u001b[0m\u001b[0;34m.\u001b[0m\u001b[0mobj\u001b[0m\u001b[0;34m)\u001b[0m\u001b[0;34m\u001b[0m\u001b[0;34m\u001b[0m\u001b[0m\n\u001b[1;32m   1190\u001b[0m             \u001b[0mmaybe_callable\u001b[0m \u001b[0;34m=\u001b[0m \u001b[0mself\u001b[0m\u001b[0;34m.\u001b[0m\u001b[0m_check_deprecated_callable_usage\u001b[0m\u001b[0;34m(\u001b[0m\u001b[0mkey\u001b[0m\u001b[0;34m,\u001b[0m \u001b[0mmaybe_callable\u001b[0m\u001b[0;34m)\u001b[0m\u001b[0;34m\u001b[0m\u001b[0;34m\u001b[0m\u001b[0m\n\u001b[0;32m-> 1191\u001b[0;31m             \u001b[0;32mreturn\u001b[0m \u001b[0mself\u001b[0m\u001b[0;34m.\u001b[0m\u001b[0m_getitem_axis\u001b[0m\u001b[0;34m(\u001b[0m\u001b[0mmaybe_callable\u001b[0m\u001b[0;34m,\u001b[0m \u001b[0maxis\u001b[0m\u001b[0;34m=\u001b[0m\u001b[0maxis\u001b[0m\u001b[0;34m)\u001b[0m\u001b[0;34m\u001b[0m\u001b[0;34m\u001b[0m\u001b[0m\n\u001b[0m",
      "\u001b[0;32m~/Documents/Developer/antofTraffic/.venv/lib/python3.12/site-packages/pandas/core/indexing.py\u001b[0m in \u001b[0;36m?\u001b[0;34m(self, key, axis)\u001b[0m\n\u001b[1;32m   1750\u001b[0m \u001b[0;34m\u001b[0m\u001b[0m\n\u001b[1;32m   1751\u001b[0m             \u001b[0;31m# validate the location\u001b[0m\u001b[0;34m\u001b[0m\u001b[0;34m\u001b[0m\u001b[0m\n\u001b[1;32m   1752\u001b[0m             \u001b[0mself\u001b[0m\u001b[0;34m.\u001b[0m\u001b[0m_validate_integer\u001b[0m\u001b[0;34m(\u001b[0m\u001b[0mkey\u001b[0m\u001b[0;34m,\u001b[0m \u001b[0maxis\u001b[0m\u001b[0;34m)\u001b[0m\u001b[0;34m\u001b[0m\u001b[0;34m\u001b[0m\u001b[0m\n\u001b[1;32m   1753\u001b[0m \u001b[0;34m\u001b[0m\u001b[0m\n\u001b[0;32m-> 1754\u001b[0;31m             \u001b[0;32mreturn\u001b[0m \u001b[0mself\u001b[0m\u001b[0;34m.\u001b[0m\u001b[0mobj\u001b[0m\u001b[0;34m.\u001b[0m\u001b[0m_ixs\u001b[0m\u001b[0;34m(\u001b[0m\u001b[0mkey\u001b[0m\u001b[0;34m,\u001b[0m \u001b[0maxis\u001b[0m\u001b[0;34m=\u001b[0m\u001b[0maxis\u001b[0m\u001b[0;34m)\u001b[0m\u001b[0;34m\u001b[0m\u001b[0;34m\u001b[0m\u001b[0m\n\u001b[0m",
      "\u001b[0;32m~/Documents/Developer/antofTraffic/.venv/lib/python3.12/site-packages/pandas/core/frame.py\u001b[0m in \u001b[0;36m?\u001b[0;34m(self, i, axis)\u001b[0m\n\u001b[1;32m   3997\u001b[0m \u001b[0;34m\u001b[0m\u001b[0m\n\u001b[1;32m   3998\u001b[0m             \u001b[0;31m# if we are a copy, mark as such\u001b[0m\u001b[0;34m\u001b[0m\u001b[0;34m\u001b[0m\u001b[0m\n\u001b[1;32m   3999\u001b[0m             \u001b[0mcopy\u001b[0m \u001b[0;34m=\u001b[0m \u001b[0misinstance\u001b[0m\u001b[0;34m(\u001b[0m\u001b[0mnew_mgr\u001b[0m\u001b[0;34m.\u001b[0m\u001b[0marray\u001b[0m\u001b[0;34m,\u001b[0m \u001b[0mnp\u001b[0m\u001b[0;34m.\u001b[0m\u001b[0mndarray\u001b[0m\u001b[0;34m)\u001b[0m \u001b[0;32mand\u001b[0m \u001b[0mnew_mgr\u001b[0m\u001b[0;34m.\u001b[0m\u001b[0marray\u001b[0m\u001b[0;34m.\u001b[0m\u001b[0mbase\u001b[0m \u001b[0;32mis\u001b[0m \u001b[0;32mNone\u001b[0m\u001b[0;34m\u001b[0m\u001b[0;34m\u001b[0m\u001b[0m\n\u001b[1;32m   4000\u001b[0m             \u001b[0mresult\u001b[0m \u001b[0;34m=\u001b[0m \u001b[0mself\u001b[0m\u001b[0;34m.\u001b[0m\u001b[0m_constructor_sliced_from_mgr\u001b[0m\u001b[0;34m(\u001b[0m\u001b[0mnew_mgr\u001b[0m\u001b[0;34m,\u001b[0m \u001b[0maxes\u001b[0m\u001b[0;34m=\u001b[0m\u001b[0mnew_mgr\u001b[0m\u001b[0;34m.\u001b[0m\u001b[0maxes\u001b[0m\u001b[0;34m)\u001b[0m\u001b[0;34m\u001b[0m\u001b[0;34m\u001b[0m\u001b[0m\n\u001b[0;32m-> 4001\u001b[0;31m             \u001b[0mresult\u001b[0m\u001b[0;34m.\u001b[0m\u001b[0m_name\u001b[0m \u001b[0;34m=\u001b[0m \u001b[0mself\u001b[0m\u001b[0;34m.\u001b[0m\u001b[0mindex\u001b[0m\u001b[0;34m[\u001b[0m\u001b[0mi\u001b[0m\u001b[0;34m]\u001b[0m\u001b[0;34m\u001b[0m\u001b[0;34m\u001b[0m\u001b[0m\n\u001b[0m\u001b[1;32m   4002\u001b[0m             \u001b[0mresult\u001b[0m \u001b[0;34m=\u001b[0m \u001b[0mresult\u001b[0m\u001b[0;34m.\u001b[0m\u001b[0m__finalize__\u001b[0m\u001b[0;34m(\u001b[0m\u001b[0mself\u001b[0m\u001b[0;34m)\u001b[0m\u001b[0;34m\u001b[0m\u001b[0;34m\u001b[0m\u001b[0m\n\u001b[1;32m   4003\u001b[0m             \u001b[0mresult\u001b[0m\u001b[0;34m.\u001b[0m\u001b[0m_set_is_copy\u001b[0m\u001b[0;34m(\u001b[0m\u001b[0mself\u001b[0m\u001b[0;34m,\u001b[0m \u001b[0mcopy\u001b[0m\u001b[0;34m=\u001b[0m\u001b[0mcopy\u001b[0m\u001b[0;34m)\u001b[0m\u001b[0;34m\u001b[0m\u001b[0;34m\u001b[0m\u001b[0m\n\u001b[1;32m   4004\u001b[0m             \u001b[0;32mreturn\u001b[0m \u001b[0mresult\u001b[0m\u001b[0;34m\u001b[0m\u001b[0;34m\u001b[0m\u001b[0m\n",
      "\u001b[0;32m~/Documents/Developer/antofTraffic/.venv/lib/python3.12/site-packages/pandas/core/generic.py\u001b[0m in \u001b[0;36m?\u001b[0;34m(self, name, value)\u001b[0m\n\u001b[1;32m   6316\u001b[0m \u001b[0;34m\u001b[0m\u001b[0m\n\u001b[1;32m   6317\u001b[0m         \u001b[0;31m# if this fails, go on to more involved attribute setting\u001b[0m\u001b[0;34m\u001b[0m\u001b[0;34m\u001b[0m\u001b[0m\n\u001b[1;32m   6318\u001b[0m         \u001b[0;31m# (note that this matches __getattr__, above).\u001b[0m\u001b[0;34m\u001b[0m\u001b[0;34m\u001b[0m\u001b[0m\n\u001b[1;32m   6319\u001b[0m         \u001b[0;32mif\u001b[0m \u001b[0mname\u001b[0m \u001b[0;32min\u001b[0m \u001b[0mself\u001b[0m\u001b[0;34m.\u001b[0m\u001b[0m_internal_names_set\u001b[0m\u001b[0;34m:\u001b[0m\u001b[0;34m\u001b[0m\u001b[0;34m\u001b[0m\u001b[0m\n\u001b[0;32m-> 6320\u001b[0;31m             \u001b[0mobject\u001b[0m\u001b[0;34m.\u001b[0m\u001b[0m__setattr__\u001b[0m\u001b[0;34m(\u001b[0m\u001b[0mself\u001b[0m\u001b[0;34m,\u001b[0m \u001b[0mname\u001b[0m\u001b[0;34m,\u001b[0m \u001b[0mvalue\u001b[0m\u001b[0;34m)\u001b[0m\u001b[0;34m\u001b[0m\u001b[0;34m\u001b[0m\u001b[0m\n\u001b[0m\u001b[1;32m   6321\u001b[0m         \u001b[0;32melif\u001b[0m \u001b[0mname\u001b[0m \u001b[0;32min\u001b[0m \u001b[0mself\u001b[0m\u001b[0;34m.\u001b[0m\u001b[0m_metadata\u001b[0m\u001b[0;34m:\u001b[0m\u001b[0;34m\u001b[0m\u001b[0;34m\u001b[0m\u001b[0m\n\u001b[1;32m   6322\u001b[0m             \u001b[0mobject\u001b[0m\u001b[0;34m.\u001b[0m\u001b[0m__setattr__\u001b[0m\u001b[0;34m(\u001b[0m\u001b[0mself\u001b[0m\u001b[0;34m,\u001b[0m \u001b[0mname\u001b[0m\u001b[0;34m,\u001b[0m \u001b[0mvalue\u001b[0m\u001b[0;34m)\u001b[0m\u001b[0;34m\u001b[0m\u001b[0;34m\u001b[0m\u001b[0m\n\u001b[1;32m   6323\u001b[0m         \u001b[0;32melse\u001b[0m\u001b[0;34m:\u001b[0m\u001b[0;34m\u001b[0m\u001b[0;34m\u001b[0m\u001b[0m\n",
      "\u001b[0;31mKeyboardInterrupt\u001b[0m: "
     ]
    }
   ],
   "source": [
    "duplicate_reports = []\n",
    "\n",
    "for list_of_duplicates in duplicates:\n",
    "    for i in range(len(list_of_duplicates)):\n",
    "        for j in range(i + 1, len(list_of_duplicates)):\n",
    "            if np.abs(alerts.iloc[list_of_duplicates[i]].pubMillis - alerts.iloc[list_of_duplicates[j]].pubMillis) < millisday / 2:\n",
    "                duplicate_reports.append(j)"
   ]
  },
  {
   "cell_type": "code",
   "execution_count": 7,
   "metadata": {},
   "outputs": [
    {
     "ename": "AttributeError",
     "evalue": "'GeoDataFrame' object has no attribute 'reports'",
     "output_type": "error",
     "traceback": [
      "\u001b[0;31m---------------------------------------------------------------------------\u001b[0m",
      "\u001b[0;31mAttributeError\u001b[0m                            Traceback (most recent call last)",
      "\u001b[0;32m/var/folders/yx/rq7byh7s6351q7njcpzgf8_w0000gn/T/ipykernel_96171/1004429295.py\u001b[0m in \u001b[0;36m?\u001b[0;34m()\u001b[0m\n\u001b[0;32m----> 1\u001b[0;31m \u001b[0mprint\u001b[0m\u001b[0;34m(\u001b[0m\u001b[0;34m'Hay {} alertas que se superponen'\u001b[0m\u001b[0;34m.\u001b[0m\u001b[0mformat\u001b[0m\u001b[0;34m(\u001b[0m\u001b[0malerts\u001b[0m\u001b[0;34m[\u001b[0m\u001b[0malerts\u001b[0m\u001b[0;34m.\u001b[0m\u001b[0mreports\u001b[0m \u001b[0;34m>\u001b[0m \u001b[0;36m0\u001b[0m\u001b[0;34m]\u001b[0m\u001b[0;34m.\u001b[0m\u001b[0mshape\u001b[0m\u001b[0;34m[\u001b[0m\u001b[0;36m0\u001b[0m\u001b[0;34m]\u001b[0m\u001b[0;34m)\u001b[0m\u001b[0;34m)\u001b[0m\u001b[0;34m\u001b[0m\u001b[0;34m\u001b[0m\u001b[0m\n\u001b[0m\u001b[1;32m      2\u001b[0m \u001b[0mprint\u001b[0m\u001b[0;34m(\u001b[0m\u001b[0;34m'Por lo que se puede considerar como independientes unas de otras'\u001b[0m\u001b[0;34m)\u001b[0m\u001b[0;34m\u001b[0m\u001b[0;34m\u001b[0m\u001b[0m\n",
      "\u001b[0;32m~/Documents/Developer/antofTraffic/.venv/lib/python3.12/site-packages/pandas/core/generic.py\u001b[0m in \u001b[0;36m?\u001b[0;34m(self, name)\u001b[0m\n\u001b[1;32m   6295\u001b[0m             \u001b[0;32mand\u001b[0m \u001b[0mname\u001b[0m \u001b[0;32mnot\u001b[0m \u001b[0;32min\u001b[0m \u001b[0mself\u001b[0m\u001b[0;34m.\u001b[0m\u001b[0m_accessors\u001b[0m\u001b[0;34m\u001b[0m\u001b[0;34m\u001b[0m\u001b[0m\n\u001b[1;32m   6296\u001b[0m             \u001b[0;32mand\u001b[0m \u001b[0mself\u001b[0m\u001b[0;34m.\u001b[0m\u001b[0m_info_axis\u001b[0m\u001b[0;34m.\u001b[0m\u001b[0m_can_hold_identifiers_and_holds_name\u001b[0m\u001b[0;34m(\u001b[0m\u001b[0mname\u001b[0m\u001b[0;34m)\u001b[0m\u001b[0;34m\u001b[0m\u001b[0;34m\u001b[0m\u001b[0m\n\u001b[1;32m   6297\u001b[0m         \u001b[0;34m)\u001b[0m\u001b[0;34m:\u001b[0m\u001b[0;34m\u001b[0m\u001b[0;34m\u001b[0m\u001b[0m\n\u001b[1;32m   6298\u001b[0m             \u001b[0;32mreturn\u001b[0m \u001b[0mself\u001b[0m\u001b[0;34m[\u001b[0m\u001b[0mname\u001b[0m\u001b[0;34m]\u001b[0m\u001b[0;34m\u001b[0m\u001b[0;34m\u001b[0m\u001b[0m\n\u001b[0;32m-> 6299\u001b[0;31m         \u001b[0;32mreturn\u001b[0m \u001b[0mobject\u001b[0m\u001b[0;34m.\u001b[0m\u001b[0m__getattribute__\u001b[0m\u001b[0;34m(\u001b[0m\u001b[0mself\u001b[0m\u001b[0;34m,\u001b[0m \u001b[0mname\u001b[0m\u001b[0;34m)\u001b[0m\u001b[0;34m\u001b[0m\u001b[0;34m\u001b[0m\u001b[0m\n\u001b[0m",
      "\u001b[0;31mAttributeError\u001b[0m: 'GeoDataFrame' object has no attribute 'reports'"
     ]
    }
   ],
   "source": [
    "print(f'Hay {len(duplicate_reports)} alertas que se superponen')\n",
    "print('Por lo que se puede considerar como independientes unas de otras')"
   ]
  },
  {
   "cell_type": "code",
   "execution_count": null,
   "metadata": {},
   "outputs": [],
   "source": []
  }
 ],
 "metadata": {
  "kernelspec": {
   "display_name": "Python 3 (ipykernel)",
   "language": "python",
   "name": "python3"
  },
  "language_info": {
   "codemirror_mode": {
    "name": "ipython",
    "version": 3
   },
   "file_extension": ".py",
   "mimetype": "text/x-python",
   "name": "python",
   "nbconvert_exporter": "python",
   "pygments_lexer": "ipython3",
   "version": "3.12.4"
  }
 },
 "nbformat": 4,
 "nbformat_minor": 4
}
