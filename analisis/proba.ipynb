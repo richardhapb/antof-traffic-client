{
 "cells": [
  {
   "cell_type": "code",
   "execution_count": 4,
   "metadata": {},
   "outputs": [],
   "source": [
    "import utils\n",
    "\n",
    "alerts_data, _ = utils.load_data()"
   ]
  },
  {
   "cell_type": "code",
   "execution_count": 14,
   "metadata": {},
   "outputs": [
    {
     "data": {
      "text/html": [
       "<div>\n",
       "<style scoped>\n",
       "    .dataframe tbody tr th:only-of-type {\n",
       "        vertical-align: middle;\n",
       "    }\n",
       "\n",
       "    .dataframe tbody tr th {\n",
       "        vertical-align: top;\n",
       "    }\n",
       "\n",
       "    .dataframe thead th {\n",
       "        text-align: right;\n",
       "    }\n",
       "</style>\n",
       "<table border=\"1\" class=\"dataframe\">\n",
       "  <thead>\n",
       "    <tr style=\"text-align: right;\">\n",
       "      <th></th>\n",
       "      <th>street</th>\n",
       "      <th>inicio</th>\n",
       "      <th>fin</th>\n",
       "      <th>x</th>\n",
       "      <th>y</th>\n",
       "      <th>geometry</th>\n",
       "      <th>type</th>\n",
       "      <th>hour</th>\n",
       "      <th>week_day</th>\n",
       "      <th>day_type</th>\n",
       "    </tr>\n",
       "  </thead>\n",
       "  <tbody>\n",
       "    <tr>\n",
       "      <th>1</th>\n",
       "      <td>Av. Edmundo Pérez Zujovic</td>\n",
       "      <td>2024-08-23 10:37:58-04:00</td>\n",
       "      <td>2024-08-23 14:58:45-04:00</td>\n",
       "      <td>-70.392283</td>\n",
       "      <td>-23.617475</td>\n",
       "      <td>POINT (-7836033.099 -2706864.568)</td>\n",
       "      <td>JAM</td>\n",
       "      <td>10</td>\n",
       "      <td>4</td>\n",
       "      <td>s</td>\n",
       "    </tr>\n",
       "    <tr>\n",
       "      <th>2</th>\n",
       "      <td>Pasaje El Volcán</td>\n",
       "      <td>2024-08-23 11:03:26-04:00</td>\n",
       "      <td>2024-08-23 14:58:45-04:00</td>\n",
       "      <td>-70.385619</td>\n",
       "      <td>-23.573323</td>\n",
       "      <td>POINT (-7835291.266 -2701501.184)</td>\n",
       "      <td>JAM</td>\n",
       "      <td>11</td>\n",
       "      <td>4</td>\n",
       "      <td>s</td>\n",
       "    </tr>\n",
       "    <tr>\n",
       "      <th>3</th>\n",
       "      <td>Azapa</td>\n",
       "      <td>2024-08-23 11:07:02-04:00</td>\n",
       "      <td>2024-08-23 14:58:45-04:00</td>\n",
       "      <td>-70.384986</td>\n",
       "      <td>-23.616328</td>\n",
       "      <td>POINT (-7835220.801 -2706725.213)</td>\n",
       "      <td>JAM</td>\n",
       "      <td>11</td>\n",
       "      <td>4</td>\n",
       "      <td>s</td>\n",
       "    </tr>\n",
       "    <tr>\n",
       "      <th>4</th>\n",
       "      <td>Irarrázaval</td>\n",
       "      <td>2024-08-23 11:12:19-04:00</td>\n",
       "      <td>2024-08-23 14:58:45-04:00</td>\n",
       "      <td>-70.385121</td>\n",
       "      <td>-23.603942</td>\n",
       "      <td>POINT (-7835235.829 -2705220.449)</td>\n",
       "      <td>ACCIDENT</td>\n",
       "      <td>11</td>\n",
       "      <td>4</td>\n",
       "      <td>s</td>\n",
       "    </tr>\n",
       "    <tr>\n",
       "      <th>5</th>\n",
       "      <td>Coquimbo</td>\n",
       "      <td>2024-08-23 11:40:50-04:00</td>\n",
       "      <td>2024-08-23 14:58:45-04:00</td>\n",
       "      <td>-70.399240</td>\n",
       "      <td>-23.657366</td>\n",
       "      <td>POINT (-7836807.549 -2711711.9)</td>\n",
       "      <td>JAM</td>\n",
       "      <td>11</td>\n",
       "      <td>4</td>\n",
       "      <td>s</td>\n",
       "    </tr>\n",
       "  </tbody>\n",
       "</table>\n",
       "</div>"
      ],
      "text/plain": [
       "                      street                    inicio  \\\n",
       "1  Av. Edmundo Pérez Zujovic 2024-08-23 10:37:58-04:00   \n",
       "2           Pasaje El Volcán 2024-08-23 11:03:26-04:00   \n",
       "3                      Azapa 2024-08-23 11:07:02-04:00   \n",
       "4                Irarrázaval 2024-08-23 11:12:19-04:00   \n",
       "5                   Coquimbo 2024-08-23 11:40:50-04:00   \n",
       "\n",
       "                        fin          x          y  \\\n",
       "1 2024-08-23 14:58:45-04:00 -70.392283 -23.617475   \n",
       "2 2024-08-23 14:58:45-04:00 -70.385619 -23.573323   \n",
       "3 2024-08-23 14:58:45-04:00 -70.384986 -23.616328   \n",
       "4 2024-08-23 14:58:45-04:00 -70.385121 -23.603942   \n",
       "5 2024-08-23 14:58:45-04:00 -70.399240 -23.657366   \n",
       "\n",
       "                            geometry      type  hour  week_day day_type  \n",
       "1  POINT (-7836033.099 -2706864.568)       JAM    10         4        s  \n",
       "2  POINT (-7835291.266 -2701501.184)       JAM    11         4        s  \n",
       "3  POINT (-7835220.801 -2706725.213)       JAM    11         4        s  \n",
       "4  POINT (-7835235.829 -2705220.449)  ACCIDENT    11         4        s  \n",
       "5    POINT (-7836807.549 -2711711.9)       JAM    11         4        s  "
      ]
     },
     "execution_count": 14,
     "metadata": {},
     "output_type": "execute_result"
    }
   ],
   "source": [
    "alerts = utils.extract_event(alerts_data, [\"JAM\", \"ACCIDENT\"], extra_col=['type']).drop('uuid', axis=1)\n",
    "alerts.head()"
   ]
  },
  {
   "cell_type": "code",
   "execution_count": 13,
   "metadata": {},
   "outputs": [
    {
     "data": {
      "text/plain": [
       "street\n",
       "Av. Edmundo Pérez Zujovic               1890\n",
       "Av. Pedro Aguirre Cerda                  664\n",
       "Av. Grecia                               524\n",
       "Av. Iquique                              366\n",
       "Av. Antonio Rendic                       364\n",
       "Av. Balmaceda                            236\n",
       "Nicolás Tirado                           186\n",
       "Av. Argentina                            154\n",
       "Av. Óscar Bonilla                        136\n",
       "Av. Séptimo de Línea                     121\n",
       "Av. Salvador Allende                     109\n",
       "Av. Huamachuco                            95\n",
       "Los Leones                                89\n",
       "Av. Arturo Pérez Canto                    80\n",
       "Av. Andrés Sabella                        79\n",
       "General Óscar Bonilla                     74\n",
       "14 de Febrero                             72\n",
       "Av. República de Croacia                  68\n",
       "Circunvalación Padre Alberto Hurtado      67\n",
       "Victor Farías                             59\n",
       "Pedro de Valdivia                         56\n",
       "Juan Bolívar                              55\n",
       "Name: count, dtype: int64"
      ]
     },
     "execution_count": 13,
     "metadata": {},
     "output_type": "execute_result"
    }
   ],
   "source": [
    "alerts.street.value_counts()[:22]"
   ]
  },
  {
   "cell_type": "code",
   "execution_count": null,
   "metadata": {},
   "outputs": [],
   "source": []
  }
 ],
 "metadata": {
  "kernelspec": {
   "display_name": "Python 3 (ipykernel)",
   "language": "python",
   "name": "python3"
  },
  "language_info": {
   "codemirror_mode": {
    "name": "ipython",
    "version": 3
   },
   "file_extension": ".py",
   "mimetype": "text/x-python",
   "name": "python",
   "nbconvert_exporter": "python",
   "pygments_lexer": "ipython3",
   "version": "3.12.4"
  }
 },
 "nbformat": 4,
 "nbformat_minor": 4
}
