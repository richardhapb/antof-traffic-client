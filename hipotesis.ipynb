{
 "cells": [
  {
   "cell_type": "code",
   "execution_count": 33,
   "metadata": {},
   "outputs": [],
   "source": [
    "import utils\n",
    "import matplotlib.pyplot as plt\n",
    "from scipy.stats import pearsonr, t, norm\n",
    "import numpy as np\n",
    "\n",
    "alerts_antof, _ = utils.load_data('data.json')\n",
    "\n",
    "alerts_antof = utils.separate_coords(alerts_antof)\n",
    "\n",
    "accident = utils.extract_event(alerts_antof, ['ACCIDENT'])\n",
    "jam = utils.extract_event(alerts_antof, ['JAM'])\n",
    "hazard = utils.extract_event(alerts_antof, ['HAZARD'])\n",
    "\n",
    "hourly_accident = utils.hourly_group(accident)\n",
    "hourly_jam = utils.hourly_group(jam)\n",
    "hourly_hazard = utils.hourly_group(hazard)"
   ]
  },
  {
   "cell_type": "code",
   "execution_count": 34,
   "metadata": {},
   "outputs": [
    {
     "data": {
      "text/html": [
       "<div>\n",
       "<style scoped>\n",
       "    .dataframe tbody tr th:only-of-type {\n",
       "        vertical-align: middle;\n",
       "    }\n",
       "\n",
       "    .dataframe tbody tr th {\n",
       "        vertical-align: top;\n",
       "    }\n",
       "\n",
       "    .dataframe thead th {\n",
       "        text-align: right;\n",
       "    }\n",
       "</style>\n",
       "<table border=\"1\" class=\"dataframe\">\n",
       "  <thead>\n",
       "    <tr style=\"text-align: right;\">\n",
       "      <th>day_type</th>\n",
       "      <th>f_accident</th>\n",
       "      <th>s_accident</th>\n",
       "      <th>f_jam</th>\n",
       "      <th>s_jam</th>\n",
       "      <th>f</th>\n",
       "      <th>s</th>\n",
       "    </tr>\n",
       "    <tr>\n",
       "      <th>hour</th>\n",
       "      <th></th>\n",
       "      <th></th>\n",
       "      <th></th>\n",
       "      <th></th>\n",
       "      <th></th>\n",
       "      <th></th>\n",
       "    </tr>\n",
       "  </thead>\n",
       "  <tbody>\n",
       "    <tr>\n",
       "      <th>0</th>\n",
       "      <td>9.0</td>\n",
       "      <td>12.0</td>\n",
       "      <td>9</td>\n",
       "      <td>4</td>\n",
       "      <td>26</td>\n",
       "      <td>36</td>\n",
       "    </tr>\n",
       "    <tr>\n",
       "      <th>1</th>\n",
       "      <td>7.0</td>\n",
       "      <td>8.0</td>\n",
       "      <td>8</td>\n",
       "      <td>12</td>\n",
       "      <td>32</td>\n",
       "      <td>18</td>\n",
       "    </tr>\n",
       "    <tr>\n",
       "      <th>2</th>\n",
       "      <td>4.0</td>\n",
       "      <td>4.0</td>\n",
       "      <td>4</td>\n",
       "      <td>3</td>\n",
       "      <td>27</td>\n",
       "      <td>10</td>\n",
       "    </tr>\n",
       "    <tr>\n",
       "      <th>3</th>\n",
       "      <td>2.0</td>\n",
       "      <td>4.0</td>\n",
       "      <td>5</td>\n",
       "      <td>1</td>\n",
       "      <td>11</td>\n",
       "      <td>9</td>\n",
       "    </tr>\n",
       "    <tr>\n",
       "      <th>4</th>\n",
       "      <td>2.0</td>\n",
       "      <td>NaN</td>\n",
       "      <td>1</td>\n",
       "      <td>1</td>\n",
       "      <td>40</td>\n",
       "      <td>4</td>\n",
       "    </tr>\n",
       "    <tr>\n",
       "      <th>5</th>\n",
       "      <td>6.0</td>\n",
       "      <td>NaN</td>\n",
       "      <td>1</td>\n",
       "      <td>5</td>\n",
       "      <td>15</td>\n",
       "      <td>7</td>\n",
       "    </tr>\n",
       "    <tr>\n",
       "      <th>6</th>\n",
       "      <td>7.0</td>\n",
       "      <td>3.0</td>\n",
       "      <td>2</td>\n",
       "      <td>6</td>\n",
       "      <td>16</td>\n",
       "      <td>22</td>\n",
       "    </tr>\n",
       "    <tr>\n",
       "      <th>7</th>\n",
       "      <td>9.0</td>\n",
       "      <td>53.0</td>\n",
       "      <td>3</td>\n",
       "      <td>1057</td>\n",
       "      <td>45</td>\n",
       "      <td>117</td>\n",
       "    </tr>\n",
       "    <tr>\n",
       "      <th>8</th>\n",
       "      <td>11.0</td>\n",
       "      <td>66.0</td>\n",
       "      <td>7</td>\n",
       "      <td>910</td>\n",
       "      <td>18</td>\n",
       "      <td>139</td>\n",
       "    </tr>\n",
       "    <tr>\n",
       "      <th>9</th>\n",
       "      <td>5.0</td>\n",
       "      <td>37.0</td>\n",
       "      <td>9</td>\n",
       "      <td>405</td>\n",
       "      <td>20</td>\n",
       "      <td>113</td>\n",
       "    </tr>\n",
       "    <tr>\n",
       "      <th>10</th>\n",
       "      <td>16.0</td>\n",
       "      <td>21.0</td>\n",
       "      <td>21</td>\n",
       "      <td>296</td>\n",
       "      <td>38</td>\n",
       "      <td>103</td>\n",
       "    </tr>\n",
       "    <tr>\n",
       "      <th>11</th>\n",
       "      <td>19.0</td>\n",
       "      <td>23.0</td>\n",
       "      <td>71</td>\n",
       "      <td>197</td>\n",
       "      <td>40</td>\n",
       "      <td>105</td>\n",
       "    </tr>\n",
       "    <tr>\n",
       "      <th>12</th>\n",
       "      <td>13.0</td>\n",
       "      <td>26.0</td>\n",
       "      <td>100</td>\n",
       "      <td>260</td>\n",
       "      <td>41</td>\n",
       "      <td>119</td>\n",
       "    </tr>\n",
       "    <tr>\n",
       "      <th>13</th>\n",
       "      <td>8.0</td>\n",
       "      <td>41.0</td>\n",
       "      <td>124</td>\n",
       "      <td>424</td>\n",
       "      <td>42</td>\n",
       "      <td>169</td>\n",
       "    </tr>\n",
       "    <tr>\n",
       "      <th>14</th>\n",
       "      <td>10.0</td>\n",
       "      <td>30.0</td>\n",
       "      <td>59</td>\n",
       "      <td>306</td>\n",
       "      <td>37</td>\n",
       "      <td>169</td>\n",
       "    </tr>\n",
       "    <tr>\n",
       "      <th>15</th>\n",
       "      <td>11.0</td>\n",
       "      <td>22.0</td>\n",
       "      <td>22</td>\n",
       "      <td>170</td>\n",
       "      <td>52</td>\n",
       "      <td>114</td>\n",
       "    </tr>\n",
       "    <tr>\n",
       "      <th>16</th>\n",
       "      <td>7.0</td>\n",
       "      <td>38.0</td>\n",
       "      <td>27</td>\n",
       "      <td>167</td>\n",
       "      <td>31</td>\n",
       "      <td>119</td>\n",
       "    </tr>\n",
       "    <tr>\n",
       "      <th>17</th>\n",
       "      <td>9.0</td>\n",
       "      <td>65.0</td>\n",
       "      <td>33</td>\n",
       "      <td>396</td>\n",
       "      <td>35</td>\n",
       "      <td>145</td>\n",
       "    </tr>\n",
       "    <tr>\n",
       "      <th>18</th>\n",
       "      <td>9.0</td>\n",
       "      <td>60.0</td>\n",
       "      <td>49</td>\n",
       "      <td>947</td>\n",
       "      <td>45</td>\n",
       "      <td>157</td>\n",
       "    </tr>\n",
       "    <tr>\n",
       "      <th>19</th>\n",
       "      <td>10.0</td>\n",
       "      <td>44.0</td>\n",
       "      <td>45</td>\n",
       "      <td>701</td>\n",
       "      <td>42</td>\n",
       "      <td>176</td>\n",
       "    </tr>\n",
       "    <tr>\n",
       "      <th>20</th>\n",
       "      <td>10.0</td>\n",
       "      <td>42.0</td>\n",
       "      <td>87</td>\n",
       "      <td>425</td>\n",
       "      <td>78</td>\n",
       "      <td>154</td>\n",
       "    </tr>\n",
       "    <tr>\n",
       "      <th>21</th>\n",
       "      <td>20.0</td>\n",
       "      <td>31.0</td>\n",
       "      <td>56</td>\n",
       "      <td>174</td>\n",
       "      <td>70</td>\n",
       "      <td>129</td>\n",
       "    </tr>\n",
       "    <tr>\n",
       "      <th>22</th>\n",
       "      <td>14.0</td>\n",
       "      <td>12.0</td>\n",
       "      <td>32</td>\n",
       "      <td>95</td>\n",
       "      <td>48</td>\n",
       "      <td>101</td>\n",
       "    </tr>\n",
       "    <tr>\n",
       "      <th>23</th>\n",
       "      <td>12.0</td>\n",
       "      <td>12.0</td>\n",
       "      <td>9</td>\n",
       "      <td>33</td>\n",
       "      <td>35</td>\n",
       "      <td>61</td>\n",
       "    </tr>\n",
       "  </tbody>\n",
       "</table>\n",
       "</div>"
      ],
      "text/plain": [
       "day_type  f_accident  s_accident  f_jam  s_jam   f    s\n",
       "hour                                                   \n",
       "0                9.0        12.0      9      4  26   36\n",
       "1                7.0         8.0      8     12  32   18\n",
       "2                4.0         4.0      4      3  27   10\n",
       "3                2.0         4.0      5      1  11    9\n",
       "4                2.0         NaN      1      1  40    4\n",
       "5                6.0         NaN      1      5  15    7\n",
       "6                7.0         3.0      2      6  16   22\n",
       "7                9.0        53.0      3   1057  45  117\n",
       "8               11.0        66.0      7    910  18  139\n",
       "9                5.0        37.0      9    405  20  113\n",
       "10              16.0        21.0     21    296  38  103\n",
       "11              19.0        23.0     71    197  40  105\n",
       "12              13.0        26.0    100    260  41  119\n",
       "13               8.0        41.0    124    424  42  169\n",
       "14              10.0        30.0     59    306  37  169\n",
       "15              11.0        22.0     22    170  52  114\n",
       "16               7.0        38.0     27    167  31  119\n",
       "17               9.0        65.0     33    396  35  145\n",
       "18               9.0        60.0     49    947  45  157\n",
       "19              10.0        44.0     45    701  42  176\n",
       "20              10.0        42.0     87    425  78  154\n",
       "21              20.0        31.0     56    174  70  129\n",
       "22              14.0        12.0     32     95  48  101\n",
       "23              12.0        12.0      9     33  35   61"
      ]
     },
     "execution_count": 34,
     "metadata": {},
     "output_type": "execute_result"
    }
   ],
   "source": [
    "from sklearn.linear_model import LinearRegression\n",
    "from sklearn.model_selection import train_test_split\n",
    "\n",
    "linear_model = LinearRegression()\n",
    "\n",
    "# Join the three DataFrames on the 'hour' index\n",
    "dat = hourly_accident.join(hourly_jam, lsuffix='_accident', rsuffix='_jam').join(hourly_hazard, rsuffix='_hazard')\n",
    "\n",
    "dat"
   ]
  },
  {
   "cell_type": "code",
   "execution_count": 35,
   "metadata": {},
   "outputs": [
    {
     "data": {
      "text/plain": [
       "array([22.02957264, 27.53209404, 16.36030818, 28.08790428, 34.70204616])"
      ]
     },
     "execution_count": 35,
     "metadata": {},
     "output_type": "execute_result"
    }
   ],
   "source": [
    "dat = dat[['s_accident', 's_jam']]\n",
    "\n",
    "# Fill missing values with 0\n",
    "dat = dat.fillna(0)\n",
    "\n",
    "# Create the feature matrix X\n",
    "X = dat[['s_jam']].values\n",
    "\n",
    "# Create the target vector y\n",
    "y = dat['s_accident'].values\n",
    "\n",
    "X_train, X_test, y_train, y_test = train_test_split(X, y, test_size=0.2, random_state=0)\n",
    "\n",
    "linear_model.fit(X_train, y_train)\n",
    "\n",
    "y_pred = linear_model.predict(X_test)\n",
    "\n",
    "y_pred"
   ]
  },
  {
   "cell_type": "code",
   "execution_count": 36,
   "metadata": {},
   "outputs": [
    {
     "name": "stdout",
     "output_type": "stream",
     "text": [
      "Coeficiente de determinación: 0.7614953921206097\n",
      "Error cuadrático medio: 4.889550275212444\n"
     ]
    }
   ],
   "source": [
    "from sklearn.metrics import root_mean_squared_error, r2_score\n",
    "\n",
    "print(f'Coeficiente de determinación: {r2_score(y_test, y_pred)}')\n",
    "print(f'Error cuadrático medio: {root_mean_squared_error(y_test, y_pred)}')\n"
   ]
  },
  {
   "cell_type": "code",
   "execution_count": 38,
   "metadata": {},
   "outputs": [
    {
     "name": "stdout",
     "output_type": "stream",
     "text": [
      "                            OLS Regression Results                            \n",
      "==============================================================================\n",
      "Dep. Variable:             s_accident   R-squared:                       0.757\n",
      "Model:                            OLS   Adj. R-squared:                  0.746\n",
      "Method:                 Least Squares   F-statistic:                     68.59\n",
      "Date:                Fri, 04 Oct 2024   Prob (F-statistic):           3.31e-08\n",
      "Time:                        23:10:11   Log-Likelihood:                -89.326\n",
      "No. Observations:                  24   AIC:                             182.7\n",
      "Df Residuals:                      22   BIC:                             185.0\n",
      "Df Model:                           1                                         \n",
      "Covariance Type:            nonrobust                                         \n",
      "==============================================================================\n",
      "                 coef    std err          t      P>|t|      [0.025      0.975]\n",
      "------------------------------------------------------------------------------\n",
      "Intercept     10.8359      2.912      3.722      0.001       4.798      16.874\n",
      "s_jam          0.0563      0.007      8.282      0.000       0.042       0.070\n",
      "==============================================================================\n",
      "Omnibus:                       12.392   Durbin-Watson:                   1.241\n",
      "Prob(Omnibus):                  0.002   Jarque-Bera (JB):               11.621\n",
      "Skew:                           1.247   Prob(JB):                      0.00300\n",
      "Kurtosis:                       5.324   Cond. No.                         584.\n",
      "==============================================================================\n",
      "\n",
      "Notes:\n",
      "[1] Standard Errors assume that the covariance matrix of the errors is correctly specified.\n"
     ]
    }
   ],
   "source": [
    "import statsmodels.formula.api as smf\n",
    "\n",
    "linear_model = smf.ols(data=dat, formula='s_accident ~ s_jam')\n",
    "results = linear_model.fit()\n",
    "print(results.summary())"
   ]
  },
  {
   "cell_type": "code",
   "execution_count": 39,
   "metadata": {},
   "outputs": [
    {
     "data": {
      "text/plain": [
       "Intercept    10.835948\n",
       "s_jam         0.056317\n",
       "dtype: float64"
      ]
     },
     "execution_count": 39,
     "metadata": {},
     "output_type": "execute_result"
    }
   ],
   "source": [
    "results.params"
   ]
  },
  {
   "cell_type": "code",
   "execution_count": 40,
   "metadata": {},
   "outputs": [
    {
     "data": {
      "text/plain": [
       "np.float64(17.756635049556454)"
      ]
     },
     "execution_count": 40,
     "metadata": {},
     "output_type": "execute_result"
    }
   ],
   "source": [
    "1 / results.params['s_jam'] # Proporción congestión / accidentes"
   ]
  },
  {
   "cell_type": "code",
   "execution_count": 63,
   "metadata": {},
   "outputs": [
    {
     "data": {
      "text/plain": [
       "day_type\n",
       "s_accident     654.0\n",
       "s_jam         6995.0\n",
       "dtype: float64"
      ]
     },
     "execution_count": 63,
     "metadata": {},
     "output_type": "execute_result"
    }
   ],
   "source": [
    "dat.sum()"
   ]
  },
  {
   "cell_type": "code",
   "execution_count": 64,
   "metadata": {},
   "outputs": [
    {
     "data": {
      "text/plain": [
       "np.float64(0.09349535382416012)"
      ]
     },
     "execution_count": 64,
     "metadata": {},
     "output_type": "execute_result"
    }
   ],
   "source": [
    "dat.sum().loc['s_accident'] / dat.sum().loc['s_jam']"
   ]
  },
  {
   "cell_type": "code",
   "execution_count": 41,
   "metadata": {},
   "outputs": [
    {
     "data": {
      "image/png": "[encoded data removed]",
      "text/plain": [
       "<Figure size 1000x600 with 1 Axes>"
      ]
     },
     "metadata": {},
     "output_type": "display_data"
    }
   ],
   "source": [
    "# Grafica la linea de regresión lineal de results y los datos originales\n",
    "\n",
    "plt.figure(figsize=(10, 6))\n",
    "\n",
    "# Graficar los datos originales\n",
    "plt.scatter(dat['s_jam'], dat['s_accident'], color='salmon', label='Accident')\n",
    "\n",
    "# Graficar la línea de regresión\n",
    "plt.plot(dat['s_jam'], results.params['Intercept'] + results.params['s_jam'] * dat['s_jam'], color='red', linewidth=2)\n",
    "\n",
    "plt.title('Regresión lineal de accidentes y reportes de tráfico (por hora)')\n",
    "plt.text(0.5, 0.5, rf'$R^2$: {results.rsquared:.2f}', transform=plt.gca().transAxes, fontsize=12,  color='red')\n",
    "plt.xlabel('Número de reportes de tráfico')\n",
    "plt.ylabel('Número de accidentes')\n",
    "plt.legend()\n",
    "plt.grid(True, alpha=0.3)\n",
    "plt.show()"
   ]
  },
  {
   "cell_type": "markdown",
   "metadata": {},
   "source": [
    "### Prueba de hipótesis de correlación de Pearson\n",
    "\n",
    "La correlación de Pearson es una medida de la relación lineal entre dos variables aleatorias. Es un valor entre -1 y 1, donde:\n",
    "\n",
    "- 1 indica una correlación positiva perfecta\n",
    "- -1 indica una correlación negativa perfecta\n",
    "- 0 indica que no hay correlación\n",
    "\n",
    "La hipótesis nula de la prueba de correlación de Pearson es que no hay correlación entre las dos variables. La hipótesis alternativa es que hay una correlación entre las dos variables.\n",
    "\n",
    "La prueba de correlación de Pearson se puede realizar en Python utilizando la función `pearsonr` de la biblioteca `scipy.stats`.\n",
    "\n",
    "```python\n",
    "from scipy.stats import pearsonr\n",
    "\n",
    "# Datos de ejemplo\n",
    "data1 = [0.1, 0.2, 0.3, 0.4, 0.5]\n",
    "data2 = [0.5, 0.4, 0.3, 0.2, 0.1]\n",
    "\n",
    "# Prueba de correlación de Pearson\n",
    "corr, p_value = pearsonr(data1, data2)\n",
    "\n",
    "print('Coeficiente de correlación de Pearson:', corr)\n",
    "print('Valor p:', p_value)\n",
    "```\n",
    "\n",
    "En este ejemplo, `data1` y `data2` son dos listas de datos. La función `pearsonr` devuelve el coeficiente de correlación de Pearson y el valor p asociado con la prueba de hipótesis.\n",
    "\n",
    "### Prueba de hipótesis de correlación con estadístico T\n",
    "\n",
    "Otra forma de realizar una prueba de correlación es utilizando el estadístico T. La fórmula para el estadístico T es:\n",
    "\n",
    "$$\n",
    "t = \\frac{r \\sqrt{n-2}}{\\sqrt{1-r^2}}\n",
    "$$\n",
    "\n",
    "Donde $r$ es el coeficiente de correlación de Pearson y $n$ es el número de observaciones.\n",
    "\n",
    "Para realizar una prueba de hipótesis de correlación con el estadístico T, se compara el valor calculado de $t$ con el valor crítico de la distribución t de Student con $n-2$ grados de libertad.\n",
    "\n",
    "```python\n",
    "from scipy.stats import t\n",
    "\n",
    "# Datos de ejemplo\n",
    "data1 = [0.1, 0.2, 0.3, 0.4, 0.5]\n",
    "data2 = [0.5, 0.4, 0.3, 0.2, 0.1]\n",
    "\n",
    "# Prueba de correlación con estadístico T\n",
    "corr, p_value = pearsonr(data1, data2)\n",
    "t_stat = corr * ((len(data1) - 2) ** 0.5) / ((1 - corr ** 2) ** 0.5)\n",
    "p_value = 2 * (1 - t.cdf(abs(t_stat), len(data1) - 2))\n",
    "\n",
    "print('Estadístico T:', t_stat)\n",
    "print('Valor p:', p_value)\n",
    "```\n",
    "\n",
    "En este ejemplo, se calcula el estadístico T y el valor p asociado con la prueba de hipótesis de correlación utilizando el estadístico T.\n",
    "\n",
    "Ambos métodos son válidos para realizar una prueba de correlación de Pearson en Python. La función `pearsonr` es más sencilla de usar, mientras que el cálculo manual del estadístico T proporciona una mayor comprensión de la prueba de hipótesis."
   ]
  },
  {
   "cell_type": "code",
   "execution_count": 42,
   "metadata": {},
   "outputs": [
    {
     "data": {
      "text/plain": [
       "(np.float64(0.8701405694039935), np.float64(3.306692180352805e-08))"
      ]
     },
     "execution_count": 42,
     "metadata": {},
     "output_type": "execute_result"
    }
   ],
   "source": [
    "r, p_value = pearsonr(dat.s_jam, dat.s_accident)\n",
    "\n",
    "r, p_value"
   ]
  },
  {
   "cell_type": "code",
   "execution_count": 43,
   "metadata": {},
   "outputs": [
    {
     "data": {
      "text/plain": [
       "np.float64(8.281840938325516)"
      ]
     },
     "execution_count": 43,
     "metadata": {},
     "output_type": "execute_result"
    }
   ],
   "source": [
    "n = dat.s_jam.shape[0]\n",
    "\n",
    "T = r * np.sqrt(n - 2) / np.sqrt(1 - r**2)\n",
    "T"
   ]
  },
  {
   "cell_type": "code",
   "execution_count": 44,
   "metadata": {},
   "outputs": [
    {
     "data": {
      "text/plain": [
       "np.float64(2.073873067904015)"
      ]
     },
     "execution_count": 44,
     "metadata": {},
     "output_type": "execute_result"
    }
   ],
   "source": [
    "alpha = .05\n",
    "\n",
    "t_param = -t.ppf(alpha / 2, n - 2)\n",
    "\n",
    "t_param"
   ]
  },
  {
   "cell_type": "markdown",
   "metadata": {},
   "source": [
    "Dado que T < valor crítico de la distribución t de Student con n - 2 grados de libertad, rechazamos la hipótesis nula y concluimos que hay una correlación entre las dos variables. Además, el valor p es menor que 0.05, lo que confirma la significancia estadística de la correlación."
   ]
  },
  {
   "cell_type": "markdown",
   "metadata": {},
   "source": [
    "Validación con transformación de Fisher\n",
    "\n",
    "$$\n",
    "Z = \\frac{1}{2} \\ln\\left( \\frac{1 + r}{1 - r} \\right)\n",
    "$$\n",
    "\n",
    "El error estándar asociado a Z se calcula con la siguiente fórmula:\n",
    "\n",
    "$$\n",
    "SE_Z = \\frac{1}{\\sqrt{n - 3}}\n",
    "$$"
   ]
  },
  {
   "cell_type": "code",
   "execution_count": 45,
   "metadata": {},
   "outputs": [
    {
     "data": {
      "text/plain": [
       "[np.float64(0.9059589521100186), np.float64(1.7613573633997384)]"
      ]
     },
     "execution_count": 45,
     "metadata": {},
     "output_type": "execute_result"
    }
   ],
   "source": [
    "Z = 1 / 2 * np.log((1 + r) / (1 - r))\n",
    "SEz = 1 / np.sqrt(n - 3)\n",
    "z_param = - norm.ppf(alpha / 2)\n",
    "ic = [Z - z_param * SEz, Z + z_param * SEz]\n",
    "\n",
    "ic"
   ]
  },
  {
   "cell_type": "markdown",
   "metadata": {},
   "source": [
    "Inversa de Fisher Z para obtener el intervalo de confianza en términos de r:\n",
    "\n",
    "$$\n",
    "r = \\frac{e^{2Z} - 1}{e^{2Z} + 1}\n",
    "$$"
   ]
  },
  {
   "cell_type": "code",
   "execution_count": 46,
   "metadata": {},
   "outputs": [
    {
     "data": {
      "text/plain": [
       "[np.float64(0.7191870212305905), np.float64(0.9426544156668859)]"
      ]
     },
     "execution_count": 46,
     "metadata": {},
     "output_type": "execute_result"
    }
   ],
   "source": [
    "ic_r = [(np.exp(2 * ic[0]) - 1) /  (np.exp(2 * ic[0]) + 1), (np.exp(2 * ic[1]) - 1) /  (np.exp(2 * ic[1]) + 1)]\n",
    "ic_r"
   ]
  },
  {
   "cell_type": "code",
   "execution_count": 47,
   "metadata": {},
   "outputs": [
    {
     "data": {
      "text/plain": [
       "array([0.51722997, 0.88859735])"
      ]
     },
     "execution_count": 47,
     "metadata": {},
     "output_type": "execute_result"
    }
   ],
   "source": [
    "np.power(ic_r, 2)"
   ]
  },
  {
   "cell_type": "markdown",
   "metadata": {},
   "source": [
    "### Fin de semana / Feriados"
   ]
  },
  {
   "cell_type": "code",
   "execution_count": 69,
   "metadata": {},
   "outputs": [
    {
     "name": "stdout",
     "output_type": "stream",
     "text": [
      "                            OLS Regression Results                            \n",
      "==============================================================================\n",
      "Dep. Variable:             f_accident   R-squared:                       0.181\n",
      "Model:                            OLS   Adj. R-squared:                  0.143\n",
      "Method:                 Least Squares   F-statistic:                     4.847\n",
      "Date:                Fri, 04 Oct 2024   Prob (F-statistic):             0.0385\n",
      "Time:                        23:28:56   Log-Likelihood:                -67.709\n",
      "No. Observations:                  24   AIC:                             139.4\n",
      "Df Residuals:                      22   BIC:                             141.8\n",
      "Df Model:                           1                                         \n",
      "Covariance Type:            nonrobust                                         \n",
      "==============================================================================\n",
      "                 coef    std err          t      P>|t|      [0.025      0.975]\n",
      "------------------------------------------------------------------------------\n",
      "Intercept      7.7455      1.203      6.437      0.000       5.250      10.241\n",
      "f_jam          0.0563      0.026      2.202      0.038       0.003       0.109\n",
      "==============================================================================\n",
      "Omnibus:                        1.401   Durbin-Watson:                   1.293\n",
      "Prob(Omnibus):                  0.496   Jarque-Bera (JB):                1.086\n",
      "Skew:                           0.501   Prob(JB):                        0.581\n",
      "Kurtosis:                       2.714   Cond. No.                         65.4\n",
      "==============================================================================\n",
      "\n",
      "Notes:\n",
      "[1] Standard Errors assume that the covariance matrix of the errors is correctly specified.\n"
     ]
    }
   ],
   "source": [
    "\n",
    "dat = hourly_accident.join(hourly_jam, lsuffix='_accident', rsuffix='_jam').join(hourly_hazard, rsuffix='_hazard')\n",
    "dat = dat[['f_accident', 'f_jam']]\n",
    "\n",
    "# Fill missing values with 0\n",
    "dat = dat.fillna(0)\n",
    "\n",
    "\n",
    "linear_model = smf.ols(data=dat, formula='f_accident ~ f_jam')\n",
    "results = linear_model.fit()\n",
    "print(results.summary())"
   ]
  },
  {
   "cell_type": "code",
   "execution_count": 67,
   "metadata": {},
   "outputs": [
    {
     "data": {
      "image/png": "[encoded data removed]",
      "text/plain": [
       "<Figure size 1000x600 with 1 Axes>"
      ]
     },
     "metadata": {},
     "output_type": "display_data"
    }
   ],
   "source": [
    "# Grafica la linea de regresión lineal de results y los datos originales\n",
    "\n",
    "plt.figure(figsize=(10, 6))\n",
    "\n",
    "# Graficar los datos originales\n",
    "plt.scatter(dat['f_jam'], dat['f_accident'], color='salmon', label='Accident')\n",
    "\n",
    "# Graficar la línea de regresión\n",
    "plt.plot(dat['f_jam'], results.params['Intercept'] + results.params['f_jam'] * dat['f_jam'], color='red', linewidth=2)\n",
    "\n",
    "plt.title('Regresión lineal de accidentes y reportes de tráfico (por hora)')\n",
    "plt.text(0.5, 0.5, rf'$R^2$: {results.rsquared:.2f}', transform=plt.gca().transAxes, fontsize=12,  color='red')\n",
    "plt.xlabel('Número de reportes de tráfico')\n",
    "plt.ylabel('Número de accidentes')\n",
    "plt.legend()\n",
    "plt.grid(True, alpha=0.3)\n",
    "plt.show()"
   ]
  },
  {
   "cell_type": "code",
   "execution_count": 75,
   "metadata": {},
   "outputs": [
    {
     "data": {
      "text/plain": [
       "(day_type\n",
       " f    230.0\n",
       " s    654.0\n",
       " dtype: float64,\n",
       " '----',\n",
       " day_type\n",
       " f     784\n",
       " s    6995\n",
       " dtype: int64)"
      ]
     },
     "execution_count": 75,
     "metadata": {},
     "output_type": "execute_result"
    }
   ],
   "source": [
    "hourly_accident.sum(), '----',hourly_jam.sum()"
   ]
  },
  {
   "cell_type": "code",
   "execution_count": 78,
   "metadata": {},
   "outputs": [
    {
     "data": {
      "text/plain": [
       "np.float64(115.0)"
      ]
     },
     "execution_count": 78,
     "metadata": {},
     "output_type": "execute_result"
    }
   ],
   "source": [
    "hourly_accident.sum()['f'] / 2"
   ]
  },
  {
   "cell_type": "code",
   "execution_count": 79,
   "metadata": {},
   "outputs": [
    {
     "data": {
      "text/plain": [
       "np.float64(130.8)"
      ]
     },
     "execution_count": 79,
     "metadata": {},
     "output_type": "execute_result"
    }
   ],
   "source": [
    "hourly_accident.sum()['s'] / 5"
   ]
  }
 ],
 "metadata": {
  "kernelspec": {
   "display_name": ".venv",
   "language": "python",
   "name": "python3"
  },
  "language_info": {
   "codemirror_mode": {
    "name": "ipython",
    "version": 3
   },
   "file_extension": ".py",
   "mimetype": "text/x-python",
   "name": "python",
   "nbconvert_exporter": "python",
   "pygments_lexer": "ipython3",
   "version": "3.12.4"
  }
 },
 "nbformat": 4,
 "nbformat_minor": 2
}
