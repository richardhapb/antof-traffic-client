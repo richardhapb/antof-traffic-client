{
 "cells": [
  {
   "cell_type": "code",
   "execution_count": 1,
   "metadata": {},
   "outputs": [],
   "source": [
    "import utils\n",
    "import matplotlib.pyplot as plt\n",
    "from scipy.stats import pearsonr, t, norm\n",
    "import numpy as np\n",
    "\n",
    "alerts_antof, _ = utils.load_data('data.json')\n",
    "\n",
    "alerts_antof = utils.separate_coords(alerts_antof)\n",
    "\n",
    "accident = utils.extract_event(alerts_antof, 'ACCIDENT')\n",
    "jam = utils.extract_event(alerts_antof, 'JAM')\n",
    "hazard = utils.extract_event(alerts_antof, 'HAZARD')\n",
    "\n",
    "hourly_accident = utils.hourly_group(accident)\n",
    "hourly_jam = utils.hourly_group(jam)\n",
    "hourly_hazard = utils.hourly_group(hazard)"
   ]
  },
  {
   "cell_type": "code",
   "execution_count": 2,
   "metadata": {},
   "outputs": [
    {
     "data": {
      "text/html": [
       "<div>\n",
       "<style scoped>\n",
       "    .dataframe tbody tr th:only-of-type {\n",
       "        vertical-align: middle;\n",
       "    }\n",
       "\n",
       "    .dataframe tbody tr th {\n",
       "        vertical-align: top;\n",
       "    }\n",
       "\n",
       "    .dataframe thead th {\n",
       "        text-align: right;\n",
       "    }\n",
       "</style>\n",
       "<table border=\"1\" class=\"dataframe\">\n",
       "  <thead>\n",
       "    <tr style=\"text-align: right;\">\n",
       "      <th>day_type</th>\n",
       "      <th>f_accident</th>\n",
       "      <th>s_accident</th>\n",
       "      <th>f_jam</th>\n",
       "      <th>s_jam</th>\n",
       "      <th>f</th>\n",
       "      <th>s</th>\n",
       "    </tr>\n",
       "    <tr>\n",
       "      <th>hour</th>\n",
       "      <th></th>\n",
       "      <th></th>\n",
       "      <th></th>\n",
       "      <th></th>\n",
       "      <th></th>\n",
       "      <th></th>\n",
       "    </tr>\n",
       "  </thead>\n",
       "  <tbody>\n",
       "    <tr>\n",
       "      <th>0</th>\n",
       "      <td>8.0</td>\n",
       "      <td>8.0</td>\n",
       "      <td>9</td>\n",
       "      <td>2</td>\n",
       "      <td>25</td>\n",
       "      <td>12</td>\n",
       "    </tr>\n",
       "    <tr>\n",
       "      <th>1</th>\n",
       "      <td>7.0</td>\n",
       "      <td>6.0</td>\n",
       "      <td>8</td>\n",
       "      <td>10</td>\n",
       "      <td>29</td>\n",
       "      <td>3</td>\n",
       "    </tr>\n",
       "    <tr>\n",
       "      <th>2</th>\n",
       "      <td>4.0</td>\n",
       "      <td>4.0</td>\n",
       "      <td>4</td>\n",
       "      <td>3</td>\n",
       "      <td>23</td>\n",
       "      <td>6</td>\n",
       "    </tr>\n",
       "    <tr>\n",
       "      <th>3</th>\n",
       "      <td>2.0</td>\n",
       "      <td>4.0</td>\n",
       "      <td>5</td>\n",
       "      <td>1</td>\n",
       "      <td>7</td>\n",
       "      <td>6</td>\n",
       "    </tr>\n",
       "    <tr>\n",
       "      <th>4</th>\n",
       "      <td>2.0</td>\n",
       "      <td>NaN</td>\n",
       "      <td>1</td>\n",
       "      <td>1</td>\n",
       "      <td>33</td>\n",
       "      <td>1</td>\n",
       "    </tr>\n",
       "    <tr>\n",
       "      <th>5</th>\n",
       "      <td>5.0</td>\n",
       "      <td>NaN</td>\n",
       "      <td>1</td>\n",
       "      <td>2</td>\n",
       "      <td>14</td>\n",
       "      <td>1</td>\n",
       "    </tr>\n",
       "    <tr>\n",
       "      <th>6</th>\n",
       "      <td>7.0</td>\n",
       "      <td>3.0</td>\n",
       "      <td>1</td>\n",
       "      <td>5</td>\n",
       "      <td>15</td>\n",
       "      <td>10</td>\n",
       "    </tr>\n",
       "    <tr>\n",
       "      <th>7</th>\n",
       "      <td>8.0</td>\n",
       "      <td>28.0</td>\n",
       "      <td>3</td>\n",
       "      <td>627</td>\n",
       "      <td>44</td>\n",
       "      <td>54</td>\n",
       "    </tr>\n",
       "    <tr>\n",
       "      <th>8</th>\n",
       "      <td>9.0</td>\n",
       "      <td>30.0</td>\n",
       "      <td>7</td>\n",
       "      <td>453</td>\n",
       "      <td>16</td>\n",
       "      <td>73</td>\n",
       "    </tr>\n",
       "    <tr>\n",
       "      <th>9</th>\n",
       "      <td>4.0</td>\n",
       "      <td>17.0</td>\n",
       "      <td>8</td>\n",
       "      <td>170</td>\n",
       "      <td>18</td>\n",
       "      <td>67</td>\n",
       "    </tr>\n",
       "    <tr>\n",
       "      <th>10</th>\n",
       "      <td>14.0</td>\n",
       "      <td>12.0</td>\n",
       "      <td>16</td>\n",
       "      <td>146</td>\n",
       "      <td>31</td>\n",
       "      <td>67</td>\n",
       "    </tr>\n",
       "    <tr>\n",
       "      <th>11</th>\n",
       "      <td>15.0</td>\n",
       "      <td>14.0</td>\n",
       "      <td>63</td>\n",
       "      <td>156</td>\n",
       "      <td>34</td>\n",
       "      <td>69</td>\n",
       "    </tr>\n",
       "    <tr>\n",
       "      <th>12</th>\n",
       "      <td>7.0</td>\n",
       "      <td>16.0</td>\n",
       "      <td>83</td>\n",
       "      <td>187</td>\n",
       "      <td>34</td>\n",
       "      <td>79</td>\n",
       "    </tr>\n",
       "    <tr>\n",
       "      <th>13</th>\n",
       "      <td>8.0</td>\n",
       "      <td>20.0</td>\n",
       "      <td>100</td>\n",
       "      <td>292</td>\n",
       "      <td>34</td>\n",
       "      <td>107</td>\n",
       "    </tr>\n",
       "    <tr>\n",
       "      <th>14</th>\n",
       "      <td>7.0</td>\n",
       "      <td>23.0</td>\n",
       "      <td>41</td>\n",
       "      <td>246</td>\n",
       "      <td>27</td>\n",
       "      <td>123</td>\n",
       "    </tr>\n",
       "    <tr>\n",
       "      <th>15</th>\n",
       "      <td>11.0</td>\n",
       "      <td>19.0</td>\n",
       "      <td>18</td>\n",
       "      <td>129</td>\n",
       "      <td>42</td>\n",
       "      <td>83</td>\n",
       "    </tr>\n",
       "    <tr>\n",
       "      <th>16</th>\n",
       "      <td>7.0</td>\n",
       "      <td>26.0</td>\n",
       "      <td>22</td>\n",
       "      <td>124</td>\n",
       "      <td>23</td>\n",
       "      <td>86</td>\n",
       "    </tr>\n",
       "    <tr>\n",
       "      <th>17</th>\n",
       "      <td>6.0</td>\n",
       "      <td>43.0</td>\n",
       "      <td>30</td>\n",
       "      <td>280</td>\n",
       "      <td>32</td>\n",
       "      <td>102</td>\n",
       "    </tr>\n",
       "    <tr>\n",
       "      <th>18</th>\n",
       "      <td>7.0</td>\n",
       "      <td>44.0</td>\n",
       "      <td>44</td>\n",
       "      <td>642</td>\n",
       "      <td>39</td>\n",
       "      <td>100</td>\n",
       "    </tr>\n",
       "    <tr>\n",
       "      <th>19</th>\n",
       "      <td>9.0</td>\n",
       "      <td>21.0</td>\n",
       "      <td>34</td>\n",
       "      <td>432</td>\n",
       "      <td>32</td>\n",
       "      <td>111</td>\n",
       "    </tr>\n",
       "    <tr>\n",
       "      <th>20</th>\n",
       "      <td>10.0</td>\n",
       "      <td>23.0</td>\n",
       "      <td>71</td>\n",
       "      <td>225</td>\n",
       "      <td>59</td>\n",
       "      <td>82</td>\n",
       "    </tr>\n",
       "    <tr>\n",
       "      <th>21</th>\n",
       "      <td>16.0</td>\n",
       "      <td>16.0</td>\n",
       "      <td>50</td>\n",
       "      <td>120</td>\n",
       "      <td>61</td>\n",
       "      <td>77</td>\n",
       "    </tr>\n",
       "    <tr>\n",
       "      <th>22</th>\n",
       "      <td>12.0</td>\n",
       "      <td>6.0</td>\n",
       "      <td>31</td>\n",
       "      <td>73</td>\n",
       "      <td>46</td>\n",
       "      <td>55</td>\n",
       "    </tr>\n",
       "    <tr>\n",
       "      <th>23</th>\n",
       "      <td>12.0</td>\n",
       "      <td>8.0</td>\n",
       "      <td>9</td>\n",
       "      <td>30</td>\n",
       "      <td>30</td>\n",
       "      <td>39</td>\n",
       "    </tr>\n",
       "  </tbody>\n",
       "</table>\n",
       "</div>"
      ],
      "text/plain": [
       "day_type  f_accident  s_accident  f_jam  s_jam   f    s\n",
       "hour                                                   \n",
       "0                8.0         8.0      9      2  25   12\n",
       "1                7.0         6.0      8     10  29    3\n",
       "2                4.0         4.0      4      3  23    6\n",
       "3                2.0         4.0      5      1   7    6\n",
       "4                2.0         NaN      1      1  33    1\n",
       "5                5.0         NaN      1      2  14    1\n",
       "6                7.0         3.0      1      5  15   10\n",
       "7                8.0        28.0      3    627  44   54\n",
       "8                9.0        30.0      7    453  16   73\n",
       "9                4.0        17.0      8    170  18   67\n",
       "10              14.0        12.0     16    146  31   67\n",
       "11              15.0        14.0     63    156  34   69\n",
       "12               7.0        16.0     83    187  34   79\n",
       "13               8.0        20.0    100    292  34  107\n",
       "14               7.0        23.0     41    246  27  123\n",
       "15              11.0        19.0     18    129  42   83\n",
       "16               7.0        26.0     22    124  23   86\n",
       "17               6.0        43.0     30    280  32  102\n",
       "18               7.0        44.0     44    642  39  100\n",
       "19               9.0        21.0     34    432  32  111\n",
       "20              10.0        23.0     71    225  59   82\n",
       "21              16.0        16.0     50    120  61   77\n",
       "22              12.0         6.0     31     73  46   55\n",
       "23              12.0         8.0      9     30  30   39"
      ]
     },
     "execution_count": 2,
     "metadata": {},
     "output_type": "execute_result"
    }
   ],
   "source": [
    "from sklearn.linear_model import LinearRegression\n",
    "from sklearn.model_selection import train_test_split\n",
    "\n",
    "linear_model = LinearRegression()\n",
    "\n",
    "# Join the three DataFrames on the 'hour' index\n",
    "dat = hourly_accident.join(hourly_jam, lsuffix='_accident', rsuffix='_jam').join(hourly_hazard, rsuffix='_hazard')\n",
    "\n",
    "dat"
   ]
  },
  {
   "cell_type": "code",
   "execution_count": 3,
   "metadata": {},
   "outputs": [
    {
     "data": {
      "text/plain": [
       "array([14.99627864, 14.48216314, 10.72912005, 19.62331807, 18.54367554])"
      ]
     },
     "execution_count": 3,
     "metadata": {},
     "output_type": "execute_result"
    }
   ],
   "source": [
    "dat = dat[['s_accident', 's_jam']]\n",
    "\n",
    "# Fill missing values with 0\n",
    "dat = dat.fillna(0)\n",
    "\n",
    "# Create the feature matrix X\n",
    "X = dat[['s_jam']].values\n",
    "\n",
    "# Create the target vector y\n",
    "y = dat['s_accident'].values\n",
    "\n",
    "X_train, X_test, y_train, y_test = train_test_split(X, y, test_size=0.2, random_state=0)\n",
    "\n",
    "linear_model.fit(X_train, y_train)\n",
    "\n",
    "y_pred = linear_model.predict(X_test)\n",
    "\n",
    "y_pred"
   ]
  },
  {
   "cell_type": "code",
   "execution_count": 4,
   "metadata": {},
   "outputs": [
    {
     "name": "stdout",
     "output_type": "stream",
     "text": [
      "Coeficiente de determinación: 0.7201699354845638\n",
      "Error cuadrático medio: 12.15581800255055\n"
     ]
    }
   ],
   "source": [
    "from sklearn.metrics import mean_squared_error, r2_score\n",
    "\n",
    "mean_squared_error(y_test, y_pred)\n",
    "r2_score(y_test, y_pred)\n",
    "\n",
    "print(f'Coeficiente de determinación: {r2_score(y_test, y_pred)}')\n",
    "print(f'Error cuadrático medio: {mean_squared_error(y_test, y_pred)}')\n"
   ]
  },
  {
   "cell_type": "code",
   "execution_count": 5,
   "metadata": {},
   "outputs": [
    {
     "name": "stdout",
     "output_type": "stream",
     "text": [
      "R^2 scores: [-2.4302331   0.54485984  0.70700547 -0.56827878  0.72315099]\n"
     ]
    }
   ],
   "source": [
    "from sklearn.model_selection import cross_val_score\n",
    "scores = cross_val_score(linear_model, X, y, cv=5)\n",
    "print(f\"R^2 scores: {scores}\")"
   ]
  },
  {
   "cell_type": "code",
   "execution_count": 6,
   "metadata": {},
   "outputs": [
    {
     "name": "stdout",
     "output_type": "stream",
     "text": [
      "                            OLS Regression Results                            \n",
      "==============================================================================\n",
      "Dep. Variable:             s_accident   R-squared:                       0.684\n",
      "Model:                            OLS   Adj. R-squared:                  0.670\n",
      "Method:                 Least Squares   F-statistic:                     47.66\n",
      "Date:                Mon, 23 Sep 2024   Prob (F-statistic):           6.22e-07\n",
      "Time:                        00:28:01   Log-Likelihood:                -79.724\n",
      "No. Observations:                  24   AIC:                             163.4\n",
      "Df Residuals:                      22   BIC:                             165.8\n",
      "Df Model:                           1                                         \n",
      "Covariance Type:            nonrobust                                         \n",
      "==============================================================================\n",
      "                 coef    std err          t      P>|t|      [0.025      0.975]\n",
      "------------------------------------------------------------------------------\n",
      "Intercept      6.7371      1.990      3.386      0.003       2.611      10.864\n",
      "s_jam          0.0526      0.008      6.904      0.000       0.037       0.068\n",
      "==============================================================================\n",
      "Omnibus:                       13.356   Durbin-Watson:                   1.034\n",
      "Prob(Omnibus):                  0.001   Jarque-Bera (JB):               13.388\n",
      "Skew:                           1.285   Prob(JB):                      0.00124\n",
      "Kurtosis:                       5.604   Cond. No.                         363.\n",
      "==============================================================================\n",
      "\n",
      "Notes:\n",
      "[1] Standard Errors assume that the covariance matrix of the errors is correctly specified.\n"
     ]
    }
   ],
   "source": [
    "import statsmodels.formula.api as smf\n",
    "\n",
    "# Crear un DataFrame con los datos de entrenamiento\n",
    "linear_model = smf.ols(data=dat, formula='s_accident ~ s_jam')\n",
    "results = linear_model.fit()\n",
    "print(results.summary())"
   ]
  },
  {
   "cell_type": "code",
   "execution_count": 7,
   "metadata": {},
   "outputs": [
    {
     "data": {
      "text/plain": [
       "Intercept    6.737093\n",
       "s_jam        0.052642\n",
       "dtype: float64"
      ]
     },
     "execution_count": 7,
     "metadata": {},
     "output_type": "execute_result"
    }
   ],
   "source": [
    "results.params"
   ]
  },
  {
   "cell_type": "code",
   "execution_count": 8,
   "metadata": {},
   "outputs": [
    {
     "data": {
      "text/plain": [
       "np.float64(18.99613830062709)"
      ]
     },
     "execution_count": 8,
     "metadata": {},
     "output_type": "execute_result"
    }
   ],
   "source": [
    "1 / results.params['s_jam']"
   ]
  },
  {
   "cell_type": "code",
   "execution_count": 9,
   "metadata": {},
   "outputs": [
    {
     "data": {
      "image/png": "[encoded data removed]",
      "text/plain": [
       "<Figure size 1000x600 with 1 Axes>"
      ]
     },
     "metadata": {},
     "output_type": "display_data"
    }
   ],
   "source": [
    "# Grafica la linea de regresión lineal de results y los datos originales\n",
    "\n",
    "plt.figure(figsize=(10, 6))\n",
    "\n",
    "# Graficar los datos originales\n",
    "plt.scatter(dat['s_jam'], dat['s_accident'], color='salmon', label='Accident')\n",
    "\n",
    "# Graficar la línea de regresión\n",
    "plt.plot(dat['s_jam'], results.params['Intercept'] + results.params['s_jam'] * dat['s_jam'], color='red', linewidth=2)\n",
    "\n",
    "plt.title('Regresión lineal de accidentes y reportes de tráfico (por hora)')\n",
    "plt.text(0.5, 0.5, rf'$R^2$: {results.rsquared:.2f}', transform=plt.gca().transAxes, fontsize=12,  color='red')\n",
    "plt.xlabel('Número de reportes de tráfico')\n",
    "plt.ylabel('Número de accidentes')\n",
    "plt.legend()\n",
    "plt.grid(True, alpha=0.3)\n",
    "plt.show()"
   ]
  },
  {
   "cell_type": "markdown",
   "metadata": {},
   "source": [
    "### Prueba de hipótesis de correlación de Pearson\n",
    "\n",
    "La correlación de Pearson es una medida de la relación lineal entre dos variables aleatorias. Es un valor entre -1 y 1, donde:\n",
    "\n",
    "- 1 indica una correlación positiva perfecta\n",
    "- -1 indica una correlación negativa perfecta\n",
    "- 0 indica que no hay correlación\n",
    "\n",
    "La hipótesis nula de la prueba de correlación de Pearson es que no hay correlación entre las dos variables. La hipótesis alternativa es que hay una correlación entre las dos variables.\n",
    "\n",
    "La prueba de correlación de Pearson se puede realizar en Python utilizando la función `pearsonr` de la biblioteca `scipy.stats`.\n",
    "\n",
    "```python\n",
    "from scipy.stats import pearsonr\n",
    "\n",
    "# Datos de ejemplo\n",
    "data1 = [0.1, 0.2, 0.3, 0.4, 0.5]\n",
    "data2 = [0.5, 0.4, 0.3, 0.2, 0.1]\n",
    "\n",
    "# Prueba de correlación de Pearson\n",
    "corr, p_value = pearsonr(data1, data2)\n",
    "\n",
    "print('Coeficiente de correlación de Pearson:', corr)\n",
    "print('Valor p:', p_value)\n",
    "```\n",
    "\n",
    "En este ejemplo, `data1` y `data2` son dos listas de datos. La función `pearsonr` devuelve el coeficiente de correlación de Pearson y el valor p asociado con la prueba de hipótesis.\n",
    "\n",
    "### Prueba de hipótesis de correlación con estadístico T\n",
    "\n",
    "Otra forma de realizar una prueba de correlación es utilizando el estadístico T. La fórmula para el estadístico T es:\n",
    "\n",
    "$$\n",
    "t = \\frac{r \\sqrt{n-2}}{\\sqrt{1-r^2}}\n",
    "$$\n",
    "\n",
    "Donde $r$ es el coeficiente de correlación de Pearson y $n$ es el número de observaciones.\n",
    "\n",
    "Para realizar una prueba de hipótesis de correlación con el estadístico T, se compara el valor calculado de $t$ con el valor crítico de la distribución t de Student con $n-2$ grados de libertad.\n",
    "\n",
    "```python\n",
    "from scipy.stats import t\n",
    "\n",
    "# Datos de ejemplo\n",
    "data1 = [0.1, 0.2, 0.3, 0.4, 0.5]\n",
    "data2 = [0.5, 0.4, 0.3, 0.2, 0.1]\n",
    "\n",
    "# Prueba de correlación con estadístico T\n",
    "corr, p_value = pearsonr(data1, data2)\n",
    "t_stat = corr * ((len(data1) - 2) ** 0.5) / ((1 - corr ** 2) ** 0.5)\n",
    "p_value = 2 * (1 - t.cdf(abs(t_stat), len(data1) - 2))\n",
    "\n",
    "print('Estadístico T:', t_stat)\n",
    "print('Valor p:', p_value)\n",
    "```\n",
    "\n",
    "En este ejemplo, se calcula el estadístico T y el valor p asociado con la prueba de hipótesis de correlación utilizando el estadístico T.\n",
    "\n",
    "Ambos métodos son válidos para realizar una prueba de correlación de Pearson en Python. La función `pearsonr` es más sencilla de usar, mientras que el cálculo manual del estadístico T proporciona una mayor comprensión de la prueba de hipótesis."
   ]
  },
  {
   "cell_type": "code",
   "execution_count": 10,
   "metadata": {},
   "outputs": [
    {
     "data": {
      "text/plain": [
       "(np.float64(0.8271615311818193), np.float64(6.219874402587473e-07))"
      ]
     },
     "execution_count": 10,
     "metadata": {},
     "output_type": "execute_result"
    }
   ],
   "source": [
    "r, p_value = pearsonr(dat.s_jam, dat.s_accident)\n",
    "\n",
    "r, p_value"
   ]
  },
  {
   "cell_type": "code",
   "execution_count": 11,
   "metadata": {},
   "outputs": [
    {
     "data": {
      "text/plain": [
       "np.float64(6.903876155578301)"
      ]
     },
     "execution_count": 11,
     "metadata": {},
     "output_type": "execute_result"
    }
   ],
   "source": [
    "n = dat.s_jam.shape[0]\n",
    "\n",
    "T = r * np.sqrt(n - 2) / np.sqrt(1 - r**2)\n",
    "T"
   ]
  },
  {
   "cell_type": "code",
   "execution_count": 12,
   "metadata": {},
   "outputs": [
    {
     "data": {
      "text/plain": [
       "np.float64(2.073873067904015)"
      ]
     },
     "execution_count": 12,
     "metadata": {},
     "output_type": "execute_result"
    }
   ],
   "source": [
    "alpha = .05\n",
    "\n",
    "t_param = -t.ppf(alpha / 2, n - 2)\n",
    "\n",
    "t_param"
   ]
  },
  {
   "cell_type": "markdown",
   "metadata": {},
   "source": [
    "Dado que T = 6.90 y valor crítico de la distribución t de Student con n - 2 grados de libertad es 2.07, rechazamos la hipótesis nula y concluimos que hay una correlación entre las dos variables. Además, el valor p es menor que 0.05, lo que confirma la significancia estadística de la correlación."
   ]
  },
  {
   "cell_type": "markdown",
   "metadata": {},
   "source": [
    "Validación con transformación de Fisher\n",
    "\n",
    "$$\n",
    "Z = \\frac{1}{2} \\ln\\left( \\frac{1 + r}{1 - r} \\right)\n",
    "$$\n",
    "\n",
    "El error estándar asociado a Z se calcula con la siguiente fórmula:\n",
    "\n",
    "$$\n",
    "SE_Z = \\frac{1}{\\sqrt{n - 3}}\n",
    "$$"
   ]
  },
  {
   "cell_type": "code",
   "execution_count": 13,
   "metadata": {},
   "outputs": [
    {
     "data": {
      "text/plain": [
       "[np.float64(0.7513815512280284), np.float64(1.6067799625177481)]"
      ]
     },
     "execution_count": 13,
     "metadata": {},
     "output_type": "execute_result"
    }
   ],
   "source": [
    "Z = 1 / 2 * np.log((1 + r) / (1 - r))\n",
    "SEz = 1 / np.sqrt(n - 3)\n",
    "z_param = - norm.ppf(alpha / 2)\n",
    "ic = [Z - z_param * SEz, Z + z_param * SEz]\n",
    "\n",
    "ic"
   ]
  },
  {
   "cell_type": "markdown",
   "metadata": {},
   "source": [
    "Inversa de Fisher Z para obtener el intervalo de confianza en términos de r:\n",
    "\n",
    "$$\n",
    "r = \\frac{e^{2Z} - 1}{e^{2Z} + 1}\n",
    "$$"
   ]
  },
  {
   "cell_type": "code",
   "execution_count": 14,
   "metadata": {},
   "outputs": [
    {
     "data": {
      "text/plain": [
       "[np.float64(0.635972443113866), np.float64(0.9226827690939321)]"
      ]
     },
     "execution_count": 14,
     "metadata": {},
     "output_type": "execute_result"
    }
   ],
   "source": [
    "ic_r = [(np.exp(2 * ic[0]) - 1) /  (np.exp(2 * ic[0]) + 1), (np.exp(2 * ic[1]) - 1) /  (np.exp(2 * ic[1]) + 1)]\n",
    "ic_r"
   ]
  },
  {
   "cell_type": "code",
   "execution_count": 15,
   "metadata": {},
   "outputs": [
    {
     "data": {
      "text/plain": [
       "array([0.40446095, 0.85134349])"
      ]
     },
     "execution_count": 15,
     "metadata": {},
     "output_type": "execute_result"
    }
   ],
   "source": [
    "np.power(ic_r, 2)"
   ]
  },
  {
   "cell_type": "code",
   "execution_count": null,
   "metadata": {},
   "outputs": [],
   "source": []
  }
 ],
 "metadata": {
  "kernelspec": {
   "display_name": ".venv",
   "language": "python",
   "name": "python3"
  },
  "language_info": {
   "codemirror_mode": {
    "name": "ipython",
    "version": 3
   },
   "file_extension": ".py",
   "mimetype": "text/x-python",
   "name": "python",
   "nbconvert_exporter": "python",
   "pygments_lexer": "ipython3",
   "version": "3.12.4"
  }
 },
 "nbformat": 4,
 "nbformat_minor": 2
}
